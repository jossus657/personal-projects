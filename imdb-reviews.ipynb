{
 "cells": [
  {
   "cell_type": "markdown",
   "id": "72a84b21-e6ed-41e5-8ac6-550293c96cc4",
   "metadata": {},
   "source": [
    "## Predicting Movie Reviews with Classification Learning Models "
   ]
  },
  {
   "cell_type": "markdown",
   "id": "f0dd9b93-a067-4066-bd88-f10d36721253",
   "metadata": {},
   "source": [
    "Data: **IMDB Dataset of 50K Movie Reviews**\n",
    "(https://www.kaggle.com/datasets/lakshmi25npathi/imdb-dataset-of-50k-movie-reviews)\n",
    "\n",
    "This project analyzes a dataset with 50000 IMDb movie reviews. Each review comes with a sentiment: positive or negative. Our objective is to use NLP techniques in order to predict whether or not a moview review will be positive or negative. In order to do so two methods were implemented:\n",
    "\n",
    "\n",
    "1. Using sklearn's TfidfVectorizer to create its own sentiment dictionary with 2000 features\n",
    "2. Using a preset sentiment lexicon dictionary as our features\n",
    "\n",
    "\n",
    "Analysis will be done on both of these approaches to explore the strenghts and weaknesses each method has to offer. Most importantly, we will see which technique yields the most consistent predictions.\n",
    "\n",
    "Many different models will be implemented throughout this analysis. These models can be retrained and refined to continue predicting movie review sentiment:\n",
    "\n",
    "\n",
    "1. Logistic Regression\n",
    "2. Linear Discriminant Analysis\n",
    "3. Quadratic Discriminant Analysis\n",
    "4. K Nearest Neighbors\n",
    "5. K fold Cross Validation for K Nearest Neighbors\n",
    "\n",
    "\n",
    "PCA will be implemented for dimensional reduction as necessary. Other dimensional reduction techniques may be used if called for. \n",
    "\n",
    "\n",
    "*This file contains all programming done by Joshua Susanto*"
   ]
  },
  {
   "cell_type": "code",
   "execution_count": 1,
   "id": "2e3dada7-51d1-41b7-b408-c96401c32664",
   "metadata": {},
   "outputs": [],
   "source": [
    "# Import necessary packages\n",
    "import numpy as np\n",
    "import pandas as pd\n",
    "import sklearn\n",
    "import nltk\n",
    "import re\n",
    "from nltk.corpus import stopwords\n",
    "from nltk.tokenize import word_tokenize\n",
    "from sklearn.model_selection import train_test_split\n",
    "from sklearn.feature_extraction.text import TfidfVectorizer \n",
    "from sklearn.neighbors import KNeighborsClassifier\n",
    "from sklearn.discriminant_analysis import LinearDiscriminantAnalysis, QuadraticDiscriminantAnalysis\n",
    "from sklearn.linear_model import LogisticRegression\n",
    "from sklearn.metrics import accuracy_score, classification_report\n",
    "from sklearn.model_selection import cross_val_score\n",
    "from sklearn.decomposition import PCA\n",
    "from sklearn.metrics import make_scorer, cohen_kappa_score\n",
    "from datetime import datetime\n",
    "import numpy.linalg as la\n",
    "from wordcloud import WordCloud\n",
    "import matplotlib.pyplot as plt"
   ]
  },
  {
   "cell_type": "markdown",
   "id": "01e0724e-b4c0-4b61-838c-29984297f525",
   "metadata": {},
   "source": [
    "## Exploratory Analysis"
   ]
  },
  {
   "cell_type": "code",
   "execution_count": 2,
   "id": "a83034d3-357b-46cf-8da0-8b718690f3e9",
   "metadata": {},
   "outputs": [
    {
     "data": {
      "text/html": [
       "<div>\n",
       "<style scoped>\n",
       "    .dataframe tbody tr th:only-of-type {\n",
       "        vertical-align: middle;\n",
       "    }\n",
       "\n",
       "    .dataframe tbody tr th {\n",
       "        vertical-align: top;\n",
       "    }\n",
       "\n",
       "    .dataframe thead th {\n",
       "        text-align: right;\n",
       "    }\n",
       "</style>\n",
       "<table border=\"1\" class=\"dataframe\">\n",
       "  <thead>\n",
       "    <tr style=\"text-align: right;\">\n",
       "      <th></th>\n",
       "      <th>review</th>\n",
       "      <th>sentiment</th>\n",
       "    </tr>\n",
       "  </thead>\n",
       "  <tbody>\n",
       "    <tr>\n",
       "      <th>0</th>\n",
       "      <td>One of the other reviewers has mentioned that ...</td>\n",
       "      <td>positive</td>\n",
       "    </tr>\n",
       "    <tr>\n",
       "      <th>1</th>\n",
       "      <td>A wonderful little production. &lt;br /&gt;&lt;br /&gt;The...</td>\n",
       "      <td>positive</td>\n",
       "    </tr>\n",
       "    <tr>\n",
       "      <th>2</th>\n",
       "      <td>I thought this was a wonderful way to spend ti...</td>\n",
       "      <td>positive</td>\n",
       "    </tr>\n",
       "    <tr>\n",
       "      <th>3</th>\n",
       "      <td>Basically there's a family where a little boy ...</td>\n",
       "      <td>negative</td>\n",
       "    </tr>\n",
       "    <tr>\n",
       "      <th>4</th>\n",
       "      <td>Petter Mattei's \"Love in the Time of Money\" is...</td>\n",
       "      <td>positive</td>\n",
       "    </tr>\n",
       "  </tbody>\n",
       "</table>\n",
       "</div>"
      ],
      "text/plain": [
       "                                              review sentiment\n",
       "0  One of the other reviewers has mentioned that ...  positive\n",
       "1  A wonderful little production. <br /><br />The...  positive\n",
       "2  I thought this was a wonderful way to spend ti...  positive\n",
       "3  Basically there's a family where a little boy ...  negative\n",
       "4  Petter Mattei's \"Love in the Time of Money\" is...  positive"
      ]
     },
     "execution_count": 2,
     "metadata": {},
     "output_type": "execute_result"
    }
   ],
   "source": [
    "# Read dataset\n",
    "full_data = pd.read_csv('IMDB Dataset.csv')\n",
    "full_data.head()"
   ]
  },
  {
   "cell_type": "code",
   "execution_count": 3,
   "id": "70166cc3-d7a4-4bb1-a037-bf1c046fe3b9",
   "metadata": {},
   "outputs": [
    {
     "name": "stdout",
     "output_type": "stream",
     "text": [
      "<class 'pandas.core.frame.DataFrame'>\n",
      "RangeIndex: 50000 entries, 0 to 49999\n",
      "Data columns (total 2 columns):\n",
      " #   Column     Non-Null Count  Dtype \n",
      "---  ------     --------------  ----- \n",
      " 0   review     50000 non-null  object\n",
      " 1   sentiment  50000 non-null  object\n",
      "dtypes: object(2)\n",
      "memory usage: 781.4+ KB\n"
     ]
    }
   ],
   "source": [
    "full_data.info()"
   ]
  },
  {
   "cell_type": "code",
   "execution_count": 4,
   "id": "314b4616-baa5-483f-ac61-fcbd8a5f02ee",
   "metadata": {},
   "outputs": [
    {
     "data": {
      "text/plain": [
       "['a+',\n",
       " 'abound',\n",
       " 'abounds',\n",
       " 'abundance',\n",
       " 'abundant',\n",
       " 'accessable',\n",
       " 'accessible',\n",
       " 'acclaim',\n",
       " 'acclaimed',\n",
       " 'acclamation',\n",
       " 'accolade',\n",
       " 'accolades',\n",
       " 'accommodative',\n",
       " 'accomodative',\n",
       " 'accomplish',\n",
       " 'accomplished',\n",
       " 'accomplishment',\n",
       " 'accomplishments',\n",
       " 'accurate',\n",
       " 'accurately']"
      ]
     },
     "execution_count": 4,
     "metadata": {},
     "output_type": "execute_result"
    }
   ],
   "source": [
    "# Positive Sentiment Lexicon\n",
    "file = open(\"positive-words.txt\", \"r\")\n",
    "pos_words = file.read()\n",
    "file.close()\n",
    "\n",
    "pos_words = pos_words.splitlines()\n",
    "pos_words = pos_words[1:]\n",
    "pos_words[0:20]"
   ]
  },
  {
   "cell_type": "code",
   "execution_count": 5,
   "id": "67c5f4c0-11fa-4571-bb05-efe06ee1e985",
   "metadata": {},
   "outputs": [
    {
     "data": {
      "text/plain": [
       "['2-faced',\n",
       " '2-faces',\n",
       " 'abnormal',\n",
       " 'abolish',\n",
       " 'abominable',\n",
       " 'abominably',\n",
       " 'abominate',\n",
       " 'abomination',\n",
       " 'abort',\n",
       " 'aborted',\n",
       " 'aborts',\n",
       " 'abrade',\n",
       " 'abrasive',\n",
       " 'abrupt',\n",
       " 'abruptly',\n",
       " 'abscond',\n",
       " 'absence',\n",
       " 'absent-minded',\n",
       " 'absentee',\n",
       " 'absurd']"
      ]
     },
     "execution_count": 5,
     "metadata": {},
     "output_type": "execute_result"
    }
   ],
   "source": [
    "# Negative Sentiment Lexicon\n",
    "file = open(\"negative-words.txt\", \"r\")\n",
    "neg_words = file.read()\n",
    "file.close()\n",
    "\n",
    "neg_words = neg_words.splitlines()\n",
    "neg_words = neg_words[1:]\n",
    "neg_words[0:20]"
   ]
  },
  {
   "cell_type": "code",
   "execution_count": 6,
   "id": "25b524f6-5244-4c29-b8af-c1186479410c",
   "metadata": {},
   "outputs": [
    {
     "data": {
      "text/plain": [
       "array(['positive', 'negative'], dtype=object)"
      ]
     },
     "execution_count": 6,
     "metadata": {},
     "output_type": "execute_result"
    }
   ],
   "source": [
    "full_data['sentiment'].unique()"
   ]
  },
  {
   "cell_type": "code",
   "execution_count": 11,
   "id": "dd708eaf-7ae8-4f13-bf57-43404420c2e1",
   "metadata": {},
   "outputs": [
    {
     "data": {
      "text/plain": [
       "\"One of the other reviewers has mentioned that after watching just 1 Oz episode you'll be hooked. They are right, as this is exactly what happened with me.<br /><br />The first thing that struck me about Oz was its brutality and unflinching scenes of violence, which set in right from the word GO. Trust me, this is not a show for the faint hearted or timid. This show pulls no punches with regards to drugs, sex or violence. Its is hardcore, in the classic use of the word.<br /><br />It is called OZ as that is the nickname given to the Oswald Maximum Security State Penitentary. It focuses mainly on Emerald City, an experimental section of the prison where all the cells have glass fronts and face inwards, so privacy is not high on the agenda. Em City is home to many..Aryans, Muslims, gangstas, Latinos, Christians, Italians, Irish and more....so scuffles, death stares, dodgy dealings and shady agreements are never far away.<br /><br />I would say the main appeal of the show is due to the fact that it goes where other shows wouldn't dare. Forget pretty pictures painted for mainstream audiences, forget charm, forget romance...OZ doesn't mess around. The first episode I ever saw struck me as so nasty it was surreal, I couldn't say I was ready for it, but as I watched more, I developed a taste for Oz, and got accustomed to the high levels of graphic violence. Not just violence, but injustice (crooked guards who'll be sold out for a nickel, inmates who'll kill on order and get away with it, well mannered, middle class inmates being turned into prison bitches due to their lack of street skills or prison experience) Watching Oz, you may become comfortable with what is uncomfortable viewing....thats if you can get in touch with your darker side.\""
      ]
     },
     "execution_count": 11,
     "metadata": {},
     "output_type": "execute_result"
    }
   ],
   "source": [
    "# First document\n",
    "full_data['review'][0]"
   ]
  },
  {
   "cell_type": "markdown",
   "id": "9d1dd561-5a52-46aa-9a25-4417541c01cb",
   "metadata": {},
   "source": [
    "## Preprocessing"
   ]
  },
  {
   "cell_type": "markdown",
   "id": "04c9b1d0-6ba0-4896-bb95-40e679a97ce9",
   "metadata": {},
   "source": [
    "Lots of things to clean:\n",
    "- capitalization\n",
    "- normalization of words\n",
    "- punctuation\n",
    "- line break errors\n",
    "- stop words\n",
    "\n",
    "TF-IDF will do most of these things implicitly, but must do some of these steps manually to check the initial distribution of words for the sake of exploratory analysis."
   ]
  },
  {
   "cell_type": "code",
   "execution_count": 12,
   "id": "b8109fc5-f4d2-4a16-9d10-4daebca46262",
   "metadata": {},
   "outputs": [
    {
     "data": {
      "text/plain": [
       "\"one of the other reviewers has mentioned that after watching just 1 oz episode you'll be hooked. they are right, as this is exactly what happened with me.  the first thing that struck me about oz was its utality and unflinching scenes of violence, which set in right from the word go. trust me, this is not a show for the faint hearted or timid. this show pulls no punches with regards to drugs, sex or violence. its is hardcore, in the classic use of the word.  it is called oz as that is the nickname given to the oswald maximum security state penitentary. it focuses mainly on emerald city, an experimental section of the prison where all the cells have glass fronts and face inwards, so privacy is not high on the agenda. em city is home to many..aryans, muslims, gangstas, latinos, christians, italians, irish and more....so scuffles, death stares, dodgy dealings and shady agreements are never far away.  i would say the main appeal of the show is due to the fact that it goes where other shows wouldn't dare. forget pretty pictures painted for mainstream audiences, forget charm, forget romance...oz doesn't mess around. the first episode i ever saw struck me as so nasty it was surreal, i couldn't say i was ready for it, but as i watched more, i developed a taste for oz, and got accustomed to the high levels of graphic violence. not just violence, but injustice (crooked guards who'll be sold out for a nickel, inmates who'll kill on order and get away with it, well mannered, middle class inmates being turned into prison bitches due to their lack of street skills or prison experience) watching oz, you may become comfortable with what is uncomfortable viewing....thats if you can get in touch with your darker side.\""
      ]
     },
     "execution_count": 12,
     "metadata": {},
     "output_type": "execute_result"
    }
   ],
   "source": [
    "# removing line break errors\n",
    "full_data['review'] = full_data['review'].apply(lambda x:re.sub('br', '', x))\n",
    "full_data['review'] = full_data['review'].apply(lambda x:re.sub('/', '', x))\n",
    "full_data['review'] = full_data['review'].apply(lambda x:re.sub('>', '', x))\n",
    "full_data['review'] = full_data['review'].apply(lambda x:re.sub('<', '', x))\n",
    "\n",
    "# lowercase\n",
    "full_data['review'] = full_data['review'].apply(lambda x:x.lower())\n",
    "\n",
    "full_data['review'][0]"
   ]
  },
  {
   "cell_type": "code",
   "execution_count": 14,
   "id": "13a9f2ea-1155-4493-ab0c-74d40b139731",
   "metadata": {},
   "outputs": [
    {
     "name": "stdout",
     "output_type": "stream",
     "text": [
      "['one', 'of', 'the', 'other', 'reviewers', 'has', 'mentioned', 'that', 'after', 'watching', 'just', '1', 'oz', 'episode', 'you', \"'ll\", 'be', 'hooked', '.', 'they', 'are', 'right', ',', 'as', 'this', 'is', 'exactly', 'what', 'happened', 'with', 'me', '.', 'the', 'first', 'thing', 'that', 'struck', 'me', 'about', 'oz', 'was', 'its', 'utality', 'and', 'unflinching', 'scenes', 'of', 'violence', ',', 'which', 'set', 'in', 'right', 'from', 'the', 'word', 'go', '.', 'trust', 'me', ',', 'this', 'is', 'not', 'a', 'show', 'for', 'the', 'faint', 'hearted', 'or', 'timid', '.', 'this', 'show', 'pulls', 'no', 'punches', 'with', 'regards', 'to', 'drugs', ',', 'sex', 'or', 'violence', '.', 'its', 'is', 'hardcore', ',', 'in', 'the', 'classic', 'use', 'of', 'the', 'word', '.', 'it', 'is', 'called', 'oz', 'as', 'that', 'is', 'the', 'nickname', 'given', 'to', 'the', 'oswald', 'maximum', 'security', 'state', 'penitentary', '.', 'it', 'focuses', 'mainly', 'on', 'emerald', 'city', ',', 'an', 'experimental', 'section', 'of', 'the', 'prison', 'where', 'all', 'the', 'cells', 'have', 'glass', 'fronts', 'and', 'face', 'inwards', ',', 'so', 'privacy', 'is', 'not', 'high', 'on', 'the', 'agenda', '.', 'em', 'city', 'is', 'home', 'to', 'many', '..', 'aryans', ',', 'muslims', ',', 'gangstas', ',', 'latinos', ',', 'christians', ',', 'italians', ',', 'irish', 'and', 'more', '....', 'so', 'scuffles', ',', 'death', 'stares', ',', 'dodgy', 'dealings', 'and', 'shady', 'agreements', 'are', 'never', 'far', 'away', '.', 'i', 'would', 'say', 'the', 'main', 'appeal', 'of', 'the', 'show', 'is', 'due', 'to', 'the', 'fact', 'that', 'it', 'goes', 'where', 'other', 'shows', 'would', \"n't\", 'dare', '.', 'forget', 'pretty', 'pictures', 'painted', 'for', 'mainstream', 'audiences', ',', 'forget', 'charm', ',', 'forget', 'romance', '...', 'oz', 'does', \"n't\", 'mess', 'around', '.', 'the', 'first', 'episode', 'i', 'ever', 'saw', 'struck', 'me', 'as', 'so', 'nasty', 'it', 'was', 'surreal', ',', 'i', 'could', \"n't\", 'say', 'i', 'was', 'ready', 'for', 'it', ',', 'but', 'as', 'i', 'watched', 'more', ',', 'i', 'developed', 'a', 'taste', 'for', 'oz', ',', 'and', 'got', 'accustomed', 'to', 'the', 'high', 'levels', 'of', 'graphic', 'violence', '.', 'not', 'just', 'violence', ',', 'but', 'injustice', '(', 'crooked', 'guards', 'who', \"'ll\", 'be', 'sold', 'out', 'for', 'a', 'nickel', ',', 'inmates', 'who', \"'ll\", 'kill', 'on', 'order', 'and', 'get', 'away', 'with', 'it', ',', 'well', 'mannered', ',', 'middle', 'class', 'inmates', 'being', 'turned', 'into', 'prison', 'bitches', 'due', 'to', 'their', 'lack', 'of', 'street', 'skills', 'or', 'prison', 'experience', ')', 'watching', 'oz', ',', 'you', 'may', 'become', 'comfortable', 'with', 'what', 'is', 'uncomfortable', 'viewing', '....', 'thats', 'if', 'you', 'can', 'get', 'in', 'touch', 'with', 'your', 'darker', 'side', '.']\n"
     ]
    }
   ],
   "source": [
    "# tokenize data\n",
    "full_data['tokenized'] = full_data['review'].apply(lambda x:word_tokenize(x))\n",
    "print(full_data['tokenized'][0])"
   ]
  },
  {
   "cell_type": "code",
   "execution_count": 15,
   "id": "1441b3bd-6952-400f-b082-041c97e8d717",
   "metadata": {},
   "outputs": [
    {
     "name": "stdout",
     "output_type": "stream",
     "text": [
      "['one', 'review', 'mention', 'watch', '1', 'oz', 'episod', 'hook', 'right', 'exactli', 'happen', 'first', 'thing', 'struck', 'oz', 'utal', 'unflinch', 'scene', 'violenc', 'set', 'right', 'word', 'go', 'trust', 'show', 'faint', 'heart', 'timid', 'show', 'pull', 'punch', 'regard', 'drug', 'sex', 'violenc', 'hardcor', 'classic', 'use', 'word', 'call', 'oz', 'nicknam', 'given', 'oswald', 'maximum', 'secur', 'state', 'penitentari', 'focus', 'mainli', 'emerald', 'citi', 'experiment', 'section', 'prison', 'cell', 'glass', 'front', 'face', 'inward', 'privaci', 'high', 'agenda', 'em', 'citi', 'home', 'mani', '..', 'aryan', 'muslim', 'gangsta', 'latino', 'christian', 'italian', 'irish', '....', 'scuffl', 'death', 'stare', 'dodgi', 'deal', 'shadi', 'agreement', 'never', 'far', 'away', 'would', 'say', 'main', 'appeal', 'show', 'due', 'fact', 'goe', 'show', 'would', 'dare', 'forget', 'pretti', 'pictur', 'paint', 'mainstream', 'audienc', 'forget', 'charm', 'forget', 'romanc', '...', 'oz', 'mess', 'around', 'first', 'episod', 'ever', 'saw', 'struck', 'nasti', 'surreal', 'could', 'say', 'readi', 'watch', 'develop', 'tast', 'oz', 'got', 'accustom', 'high', 'level', 'graphic', 'violenc', 'violenc', 'injustic', '(', 'crook', 'guard', 'sold', 'nickel', 'inmat', 'kill', 'order', 'get', 'away', 'well', 'manner', 'middl', 'class', 'inmat', 'turn', 'prison', 'bitch', 'due', 'lack', 'street', 'skill', 'prison', 'experi', ')', 'watch', 'oz', 'may', 'becom', 'comfort', 'uncomfort', 'view', '....', 'that', 'get', 'touch', 'darker', 'side']\n"
     ]
    }
   ],
   "source": [
    "# set stop words, using first article as a test\n",
    "stop_words = set(stopwords.words('english'))\n",
    "\n",
    "# lowecase removal example\n",
    "full_data['tokenized'][0] = [w.lower() for w in full_data['tokenized'][0]]\n",
    "\n",
    "# removing stopwords, example with the first review\n",
    "full_data['tokenized'][0] = [w for w in full_data['tokenized'][0] if not w in stop_words] \n",
    "full_data['tokenized'][0] = [w for w in full_data['tokenized'][0] if not w =='.']\n",
    "full_data['tokenized'][0] = [w for w in full_data['tokenized'][0] if not w == ',']\n",
    "full_data['tokenized'][0] = [w for w in full_data['tokenized'][0] if not w == \"n't\"]\n",
    "full_data['tokenized'][0] = [w for w in full_data['tokenized'][0] if not w == \"'ll\"]\n",
    "\n",
    "# stemming example\n",
    "porter = nltk.PorterStemmer()\n",
    "full_data['tokenized'][0]  = [porter.stem(w) for w in full_data['tokenized'][0]]\n",
    "\n",
    "print(full_data['tokenized'][0])"
   ]
  },
  {
   "cell_type": "code",
   "execution_count": 15,
   "id": "0e7cc09e-f808-4d5f-bd7f-a62708964077",
   "metadata": {},
   "outputs": [
    {
     "data": {
      "image/png": "[encoded data removed]",
      "text/plain": [
       "<Figure size 720x360 with 1 Axes>"
      ]
     },
     "metadata": {
      "needs_background": "light"
     },
     "output_type": "display_data"
    }
   ],
   "source": [
    "# join all text\n",
    "all_text = \" \".join(full_data['review'].astype(str))\n",
    "\n",
    "# tokenize all text\n",
    "all_text_tokenized = word_tokenize(all_text)\n",
    "\n",
    "# remove stop words\n",
    "filtered_tokens = [word for word in all_text_tokenized if word not in stop_words]\n",
    "\n",
    "# stem words\n",
    "porter = nltk.PorterStemmer()\n",
    "filtered_tokens  = [porter.stem(x) for x in filtered_tokens]\n",
    "\n",
    "# join the filtered tokens into a single string\n",
    "filtered_text = \" \".join(filtered_tokens)\n",
    "\n",
    "# wordcloud generation\n",
    "wordcloud = WordCloud(width=800, height=400, max_words=40, background_color = \"white\").generate(filtered_text)\n",
    "\n",
    "# plot the WordCloud\n",
    "plt.figure(figsize=(10, 5))\n",
    "plt.imshow(wordcloud, interpolation=\"bilinear\")\n",
    "plt.axis(\"off\")\n",
    "plt.show()"
   ]
  },
  {
   "cell_type": "markdown",
   "id": "6f87cb4d-05a3-4829-aff2-f1b3407392e9",
   "metadata": {},
   "source": [
    "### General TF-IDF Dictionary"
   ]
  },
  {
   "cell_type": "markdown",
   "id": "24e529d1-3250-4d1d-823c-034b7cce69cb",
   "metadata": {},
   "source": [
    "This dictionary is created from the data itself rather than using a preexisting dictionary. The dictionary is created by taking the 2000 words with the highest TF-IDF across all potential features. We will be observing the difference between forming our own dictionary and using a preset sentiment lexicon as our TF-IDF dictionary."
   ]
  },
  {
   "cell_type": "code",
   "execution_count": 16,
   "id": "8a253530-022c-45f4-b9e5-9c56b94b3fb3",
   "metadata": {},
   "outputs": [
    {
     "name": "stdout",
     "output_type": "stream",
     "text": [
      "(50000, 2000)\n"
     ]
    }
   ],
   "source": [
    "# TF-IDF\n",
    "vectorizer = TfidfVectorizer(max_features = 2000, stop_words='english') # max features: max_number of keywords to consider.\n",
    "X = vectorizer.fit_transform(full_data['review']) # tf-idf conversion\n",
    "feature_names = vectorizer.get_feature_names() # top 2000 terms (dictionary)\n",
    "print(X.shape)"
   ]
  },
  {
   "cell_type": "code",
   "execution_count": 17,
   "id": "f6275507-479f-4fc7-8fd4-957e71e79c2c",
   "metadata": {},
   "outputs": [
    {
     "name": "stdout",
     "output_type": "stream",
     "text": [
      "  (0, 1808)\t0.10252703711101174\n",
      "  (0, 1775)\t0.1105697221561603\n",
      "  (0, 1892)\t0.09321004143019412\n",
      "  (0, 595)\t0.08582041756149543\n",
      "  (0, 1607)\t0.11541693374580107\n",
      "  (0, 1688)\t0.09798807337084531\n",
      "  (0, 990)\t0.08681388433929843\n",
      "  (0, 1835)\t0.08851194271941382\n",
      "  (0, 301)\t0.09222141276510981\n",
      "  (0, 1141)\t0.0887817096832035\n",
      "  (0, 1252)\t0.08879352031493697\n",
      "  (0, 974)\t0.08556685560749269\n",
      "  (0, 777)\t0.11705801996451702\n",
      "  (0, 1027)\t0.11603948282689776\n",
      "  (0, 771)\t0.06384640747985053\n",
      "  (0, 1749)\t0.10397049761169333\n",
      "  (0, 453)\t0.10593216675935946\n",
      "  (0, 1925)\t0.07163880760069201\n",
      "  (0, 1419)\t0.10838053436424794\n",
      "  (0, 372)\t0.07911781832070525\n",
      "  (0, 1732)\t0.1183821195629724\n",
      "  (0, 1194)\t0.10972503731485306\n",
      "  (0, 1513)\t0.06528398706379836\n",
      "  (0, 1136)\t0.09688550710532583\n",
      "  (0, 488)\t0.059981290839883475\n",
      "  :\t:\n",
      "  (49999, 1020)\t0.13294050430526158\n",
      "  (49999, 1855)\t0.14809008397096168\n",
      "  (49999, 986)\t0.15460034029785846\n",
      "  (49999, 1510)\t0.15694484632625766\n",
      "  (49999, 265)\t0.15597015171297327\n",
      "  (49999, 1828)\t0.13071196962098353\n",
      "  (49999, 625)\t0.13544220850442273\n",
      "  (49999, 1659)\t0.13813839347004842\n",
      "  (49999, 1977)\t0.12580128338768815\n",
      "  (49999, 1178)\t0.2798588662293367\n",
      "  (49999, 766)\t0.07229752668709975\n",
      "  (49999, 180)\t0.09713859608235065\n",
      "  (49999, 1923)\t0.0927154531000334\n",
      "  (49999, 1177)\t0.38385344115694436\n",
      "  (49999, 272)\t0.09499657604453098\n",
      "  (49999, 1325)\t0.09607783147830604\n",
      "  (49999, 1928)\t0.08970964358467673\n",
      "  (49999, 1978)\t0.25408335420181993\n",
      "  (49999, 1514)\t0.10096266968983257\n",
      "  (49999, 629)\t0.24117717845399234\n",
      "  (49999, 832)\t0.13256954185192543\n",
      "  (49999, 1522)\t0.10460643561650289\n",
      "  (49999, 1049)\t0.1228298904696525\n",
      "  (49999, 962)\t0.06862497260055364\n",
      "  (49999, 1926)\t0.10593498981143118\n"
     ]
    }
   ],
   "source": [
    "print(X)"
   ]
  },
  {
   "cell_type": "code",
   "execution_count": 18,
   "id": "ce700317-c787-43b5-b27a-6331238cd8c2",
   "metadata": {},
   "outputs": [
    {
     "name": "stdout",
     "output_type": "stream",
     "text": [
      "['10', '100', '1010', '11', '12', '13', '15', '20', '30', '40', '50', '60', '70', '70s', '80', '80s', '810', '90', 'ability', 'able', 'absolute', 'absolutely', 'absurd', 'academy', 'accent', 'accept', 'accident', 'according', 'accurate', 'act', 'acted', 'acting', 'action', 'actions', 'actor', 'actors', 'actress', 'actresses', 'acts', 'actual', 'actually', 'adam', 'adaptation', 'add', 'added', 'addition', 'adds', 'admit', 'adult', 'adults', 'adventure', 'advice', 'affair', 'afraid', 'african', 'age', 'aged', 'agent', 'ages', 'ago', 'agree', 'ahead', 'ain', 'air', 'al', 'alan', 'alex', 'alice', 'alien', 'aliens', 'alive', 'allen', 'allow', 'allowed', 'allows', 'amazing', 'america', 'american', 'americans', 'amusing', 'ancient', 'andy', 'angel', 'angry', 'animal', 'animals', 'animated', 'animation', 'ann', 'anna', 'anne', 'annoying', 'answer', 'anthony', 'anti', 'anybody', 'anymore', 'apart', 'apartment', 'apparent', 'apparently', 'appeal', 'appear', 'appearance', 'appeared', 'appears', 'appreciate', 'approach', 'area', 'aren', 'army', 'art', 'arthur', 'artist', 'artistic', 'arts', 'asian', 'aside', 'ask', 'asked', 'asking', 'asks', 'aspect', 'aspects', 'ass', 'assume', 'atmosphere', 'attack', 'attempt', 'attempts', 'attention', 'attitude', 'attractive', 'audience', 'audiences', 'australian', 'author', 'available', 'average', 'avoid', 'award', 'awards', 'aware', 'away', 'awesome', 'awful', 'awkward', 'baby', 'background', 'bad', 'badly', 'ball', 'band', 'bank', 'bar', 'barbara', 'barely', 'based', 'basic', 'basically', 'batman', 'battle', 'bbc', 'beach', 'bear', 'beat', 'beautiful', 'beautifully', 'beauty', 'bed', 'began', 'begin', 'beginning', 'begins', 'behavior', 'believable', 'believe', 'believes', 'ben', 'best', 'better', 'big', 'bigger', 'biggest', 'billy', 'bit', 'bits', 'bizarre', 'black', 'blame', 'bland', 'blind', 'blonde', 'blood', 'bloody', 'blue', 'board', 'boat', 'bob']\n"
     ]
    }
   ],
   "source": [
    "print(feature_names[1:200])"
   ]
  },
  {
   "cell_type": "code",
   "execution_count": null,
   "id": "51476084-a114-4688-a47e-7c4a8b075cf4",
   "metadata": {},
   "outputs": [],
   "source": [
    "# (don't run this lol) export tf-idf matrix as a file\n",
    "\n",
    "dense_tfidf = X.toarray()\n",
    "\n",
    "# combine matrix w/ original dataset\n",
    "data_with_tfidf = df_with_tfidf = pd.concat([full_data, pd.DataFrame(dense_tfidf, columns = feature_names)], axis=1)\n",
    "\n",
    "# csv export\n",
    "data_with_tfidf.to_csv('tfidf_data.csv', index=False)"
   ]
  },
  {
   "cell_type": "code",
   "execution_count": 19,
   "id": "f380b3b5-9db9-4fc4-ae1b-14fe8ee39afb",
   "metadata": {},
   "outputs": [
    {
     "name": "stdout",
     "output_type": "stream",
     "text": [
      "[[0.         0.         0.         0.         0.         0.\n",
      "  0.         0.         0.         0.        ]\n",
      " [0.         0.         0.         0.         0.         0.\n",
      "  0.         0.         0.         0.        ]\n",
      " [0.         0.         0.         0.         0.         0.\n",
      "  0.         0.         0.         0.        ]\n",
      " [0.         0.10802464 0.         0.         0.         0.\n",
      "  0.         0.         0.         0.        ]\n",
      " [0.         0.         0.         0.         0.         0.\n",
      "  0.         0.         0.         0.        ]\n",
      " [0.         0.         0.         0.         0.         0.\n",
      "  0.         0.20267966 0.         0.        ]\n",
      " [0.         0.11515601 0.         0.         0.         0.\n",
      "  0.         0.         0.         0.        ]\n",
      " [0.         0.         0.         0.         0.         0.\n",
      "  0.         0.         0.         0.        ]\n",
      " [0.         0.         0.         0.         0.         0.\n",
      "  0.         0.         0.         0.        ]\n",
      " [0.         0.         0.         0.         0.         0.\n",
      "  0.         0.         0.         0.        ]]\n"
     ]
    }
   ],
   "source": [
    "# print a subset, this data is sparse which is helpful\n",
    "print(dense_tfidf[:10, :10])"
   ]
  },
  {
   "cell_type": "markdown",
   "id": "ba5b2522-c9be-4d16-93a9-da04c8a2269d",
   "metadata": {},
   "source": [
    "there are two different methods to consider:\n",
    "\n",
    "\n",
    "- finding the tf-idf dictionary on the general dataset, obtaining the 2000 highest tfidf words as the predictors\n",
    "- considering words from a premade dictionary, we calculate the tf-idfs for the positive negative sentiment lexicon to build our model"
   ]
  },
  {
   "cell_type": "markdown",
   "id": "c57c004b-59b2-4128-a550-aa7d684919ac",
   "metadata": {},
   "source": [
    "### Sentiment Lexicon TF-IDF Dictionary"
   ]
  },
  {
   "cell_type": "markdown",
   "id": "f282435a-f33f-440c-90e6-78548cd76c3b",
   "metadata": {},
   "source": [
    "Conversely, this dictionary was created using a sentiment lexicon dataset found in kaggle (https://www.kaggle.com/datasets/nltkdata/opinion-lexicon)."
   ]
  },
  {
   "cell_type": "code",
   "execution_count": 20,
   "id": "6c1e3016-20f8-442a-afbd-2710cb7503cc",
   "metadata": {},
   "outputs": [
    {
     "name": "stdout",
     "output_type": "stream",
     "text": [
      "6789\n"
     ]
    }
   ],
   "source": [
    "# combine both positive and negative words into a single list\n",
    "all_lex = pos_words + neg_words\n",
    "print(len(all_lex))\n",
    "\n",
    "# create combined dictionary\n",
    "lex_dict = {index: key for index, key in enumerate(all_lex)}"
   ]
  },
  {
   "cell_type": "code",
   "execution_count": 21,
   "id": "49d75e85-866c-4a07-bd72-877ce5e913e2",
   "metadata": {},
   "outputs": [
    {
     "name": "stdout",
     "output_type": "stream",
     "text": [
      "(50000, 6786)\n"
     ]
    }
   ],
   "source": [
    "# TF-IDF\n",
    "terms = set(list(lex_dict.values())) # obtain all unique values\n",
    "vectorizer = TfidfVectorizer(stop_words = 'english', vocabulary = terms) \n",
    "X_lex = vectorizer.fit_transform(full_data['review']) # tf-idf conversion\n",
    "feature_names_lex = vectorizer.get_feature_names() \n",
    "print(X_lex.shape) # 3 common terms between the positive and negative lexicon"
   ]
  },
  {
   "cell_type": "code",
   "execution_count": 22,
   "id": "c60a0fea-f163-43f8-b5b9-6d6208e94687",
   "metadata": {},
   "outputs": [
    {
     "name": "stdout",
     "output_type": "stream",
     "text": [
      "[  0.           0.           0.         ...   6.28005141   3.81024337\n",
      " 197.49939983]\n"
     ]
    }
   ],
   "source": [
    "# converting to dense array\n",
    "dense_lex = X_lex.toarray()\n",
    "print(dense_lex.sum(axis=0, dtype='float'))"
   ]
  },
  {
   "cell_type": "code",
   "execution_count": 23,
   "id": "5d9546a5-56f3-42bc-87b8-aeb55c57437e",
   "metadata": {},
   "outputs": [
    {
     "name": "stdout",
     "output_type": "stream",
     "text": [
      "(50000, 6786)\n"
     ]
    }
   ],
   "source": [
    "print(dense_lex.shape)"
   ]
  },
  {
   "cell_type": "code",
   "execution_count": 423,
   "id": "e6fdc8b6-066f-4c5d-9d0a-a5d7d384172f",
   "metadata": {},
   "outputs": [],
   "source": [
    "# [DO NOT RUN] export lexicon tf-idf matrix as a file\n",
    "\n",
    "# combine matrix w/ original dataset\n",
    "data_with_tfidf_lex =  pd.concat([full_data, pd.DataFrame(dense_lex, columns = feature_names_lex)], axis=1)\n",
    "\n",
    "# csv export\n",
    "data_with_tfidf_lex.to_csv('tfidf_data_lexicon.csv', index=False)"
   ]
  },
  {
   "cell_type": "markdown",
   "id": "3ff31ca1-53f5-47a0-8968-16fb30da46f5",
   "metadata": {
    "tags": []
   },
   "source": [
    "## Logistic Regression (No Dimensional Reduction)"
   ]
  },
  {
   "cell_type": "markdown",
   "id": "07f92305-48a2-4153-a70a-914992491952",
   "metadata": {},
   "source": [
    "For all following models (other than Cross Validation), a 50:50 train test split will be implemented due to prior knowledge of category distribution being perfeclty split. This is not regular practice when the distribution of our target variable is unknown."
   ]
  },
  {
   "cell_type": "markdown",
   "id": "64f497fb-67e0-4f76-91b2-333db29adccf",
   "metadata": {},
   "source": [
    "### General TF-IDF"
   ]
  },
  {
   "cell_type": "code",
   "execution_count": 24,
   "id": "91830f23-ae00-4958-9c1a-06f9a69c3e7d",
   "metadata": {},
   "outputs": [
    {
     "name": "stdout",
     "output_type": "stream",
     "text": [
      "0    1\n",
      "1    1\n",
      "2    1\n",
      "3    0\n",
      "4    1\n",
      "Name: y, dtype: int64 \n",
      " 0    positive\n",
      "1    positive\n",
      "2    positive\n",
      "3    negative\n",
      "4    positive\n",
      "Name: sentiment, dtype: object\n",
      "(25000, 2000) (25000, 2000) (25000,) (25000,)\n"
     ]
    }
   ],
   "source": [
    "# convert labels into numeric\n",
    "label_mapping = {'positive': 1, 'negative': 0}\n",
    "full_data['y'] = [label_mapping[i] for i in full_data['sentiment']]\n",
    "print(full_data['y'].head(),'\\n',full_data['sentiment'].head())\n",
    "\n",
    "# train test split\n",
    "X_train, X_test, y_train, y_test = train_test_split(dense_tfidf, full_data['y'], test_size = 0.5, random_state = 42)\n",
    "\n",
    "# check split\n",
    "print(X_train.shape, X_test.shape, y_train.shape, y_test.shape)"
   ]
  },
  {
   "cell_type": "code",
   "execution_count": 25,
   "id": "b14c37e0-2f0b-48ab-8a6c-8b86fdc64d8f",
   "metadata": {},
   "outputs": [
    {
     "name": "stdout",
     "output_type": "stream",
     "text": [
      "Accuracy: 0.8736\n",
      "Classification Report:\n",
      "              precision    recall  f1-score   support\n",
      "\n",
      "           0       0.88      0.86      0.87     12483\n",
      "           1       0.86      0.89      0.88     12517\n",
      "\n",
      "    accuracy                           0.87     25000\n",
      "   macro avg       0.87      0.87      0.87     25000\n",
      "weighted avg       0.87      0.87      0.87     25000\n",
      "\n",
      "computation time: 0:00:03.975988\n"
     ]
    }
   ],
   "source": [
    "# set start time\n",
    "start_time = datetime.now()\n",
    "\n",
    "# initialize model\n",
    "model = LogisticRegression()\n",
    "\n",
    "# fit logistic regression model\n",
    "model.fit(X_train, y_train)\n",
    "\n",
    "# predict testing data\n",
    "y_pred = model.predict(X_test)\n",
    "\n",
    "# end time\n",
    "end_time = datetime.now()\n",
    "\n",
    "# model accuracy\n",
    "accuracy = accuracy_score(y_test, y_pred)\n",
    "print(f\"Accuracy: {accuracy}\")\n",
    "print(\"Classification Report:\")\n",
    "print(classification_report(y_test, y_pred))\n",
    "print(\"computation time:\", end_time - start_time)"
   ]
  },
  {
   "cell_type": "markdown",
   "id": "4651672c-952e-4bbd-bdef-9b022e137639",
   "metadata": {},
   "source": [
    "### Sentiment Lexicon TF-IDF"
   ]
  },
  {
   "cell_type": "code",
   "execution_count": 26,
   "id": "7c841a17-b141-4e39-a087-30101afb8b7c",
   "metadata": {},
   "outputs": [
    {
     "name": "stdout",
     "output_type": "stream",
     "text": [
      "(25000, 6786) (25000, 6786) (25000,) (25000,)\n"
     ]
    }
   ],
   "source": [
    "# train test split\n",
    "X_lex_train, X_lex_test, y_lex_train, y_lex_test = train_test_split(dense_lex, full_data['y'], test_size = 0.5, random_state = 42)\n",
    "\n",
    "# check split\n",
    "print(X_lex_train.shape, X_lex_test.shape, y_lex_train.shape, y_lex_test.shape)"
   ]
  },
  {
   "cell_type": "code",
   "execution_count": 27,
   "id": "6e39dd78-8cbb-4627-a49b-e1c1f33a5431",
   "metadata": {},
   "outputs": [
    {
     "name": "stdout",
     "output_type": "stream",
     "text": [
      "Accuracy: 0.8544\n",
      "Classification Report:\n",
      "              precision    recall  f1-score   support\n",
      "\n",
      "           0       0.87      0.84      0.85     12483\n",
      "           1       0.84      0.87      0.86     12517\n",
      "\n",
      "    accuracy                           0.85     25000\n",
      "   macro avg       0.85      0.85      0.85     25000\n",
      "weighted avg       0.85      0.85      0.85     25000\n",
      "\n",
      "computation time: 0:00:19.814399\n"
     ]
    }
   ],
   "source": [
    "# set start time\n",
    "start_time = datetime.now()\n",
    "\n",
    "# model training and testing\n",
    "model = LogisticRegression()\n",
    "model.fit(X_lex_train, y_lex_train)\n",
    "y_lex_pred = model.predict(X_lex_test)\n",
    "accuracy = accuracy_score(y_lex_test, y_lex_pred)\n",
    "\n",
    "# end time\n",
    "end_time = datetime.now()\n",
    "\n",
    "# accuracy report\n",
    "print(f\"Accuracy: {accuracy}\")\n",
    "print(\"Classification Report:\")\n",
    "print(classification_report(y_lex_test, y_lex_pred))\n",
    "print(\"computation time:\", end_time - start_time)"
   ]
  },
  {
   "cell_type": "markdown",
   "id": "977882e4-87b3-419b-a004-5cf34b050793",
   "metadata": {},
   "source": [
    "We see a fairly strong testing accuracy with both of our logistic regression models, with each of them having accuracy above 0.85 and fairly balanced precision and recall. However, we see that our original dictionary ever so slightly edges out our premade dictionary as well as having a much easier computational load. This is only one of many models, and we can obviously account the difference in computation speed due to our premade dictionary having 3x as many predictors. Yet, we expect a tradeoff of having higher accuracy. There are many other models to consider, each with potentially varying dergees of success, including using dimensionality reduction techniques to maybe even the playing field in terms of computational speed:\n",
    "- KNN \n",
    "- K-fold Cross Validation\n",
    "- LDA and QDA"
   ]
  },
  {
   "cell_type": "markdown",
   "id": "6a990e43-b426-4063-9c7b-2e5b1d06a3f3",
   "metadata": {
    "tags": []
   },
   "source": [
    "## Principal Component Analysis"
   ]
  },
  {
   "cell_type": "markdown",
   "id": "71b7d51a-bfdf-4bcc-8b9b-e187df8444fa",
   "metadata": {},
   "source": [
    "### PCA with our general matrix"
   ]
  },
  {
   "cell_type": "code",
   "execution_count": 29,
   "id": "5a9fc208-1caa-4b4c-bf92-c0f4d280c90d",
   "metadata": {},
   "outputs": [],
   "source": [
    "# singular value decomposition\n",
    "U,S,VT = np.linalg.svd(dense_tfidf, full_matrices=False)"
   ]
  },
  {
   "cell_type": "code",
   "execution_count": 30,
   "id": "e674c7b4-c788-444a-af32-cd358835ee45",
   "metadata": {},
   "outputs": [
    {
     "name": "stdout",
     "output_type": "stream",
     "text": [
      "(50000, 2000) (2000,) (2000, 2000)\n"
     ]
    }
   ],
   "source": [
    "# check dimensions\n",
    "print(U.shape, S.shape, VT.shape)"
   ]
  },
  {
   "cell_type": "code",
   "execution_count": 31,
   "id": "fdf7ca84-f39e-4c51-be7d-b488d45ac399",
   "metadata": {},
   "outputs": [
    {
     "data": {
      "image/png": "[encoded data removed]",
      "text/plain": [
       "<Figure size 720x360 with 1 Axes>"
      ]
     },
     "metadata": {
      "needs_background": "light"
     },
     "output_type": "display_data"
    }
   ],
   "source": [
    "# visualization of our singular values\n",
    "plt.figure(figsize=(10, 5))\n",
    "plt.plot(S,'bo')\n",
    "plt.title('Singular Values (General TF-IDF) Dictionary')\n",
    "plt.ylabel(\"Singular Value Importance\")\n",
    "plt.xlabel(\"Singular Value Number\")\n",
    "ax = plt.gca()\n",
    "ax.set_xlim([0, 700])\n",
    "plt.show()"
   ]
  },
  {
   "cell_type": "markdown",
   "id": "ed1e152a-62a4-4446-bd77-614211ccf64d",
   "metadata": {},
   "source": [
    "As expected we see a strong decrese in our singular values after the first few. There continues to be a steady decline which eventually plateus. However we may be losing too much information by just taking the first SVs that before the plateau. A better way to decide what dimension to reduce to would be to calculate the variance of our singular values and try to retain 80% of the variance as follows."
   ]
  },
  {
   "cell_type": "code",
   "execution_count": 32,
   "id": "438a0067-d912-49d6-ad84-31be9736e003",
   "metadata": {},
   "outputs": [
    {
     "name": "stdout",
     "output_type": "stream",
     "text": [
      "[0.053011756624713316, 0.06248654460634709, 0.06756007336963281, 0.07211386792480809, 0.07568834689189696, 0.07914657169899045, 0.08223586597250161, 0.08526547488450971, 0.08813443225709636]\n"
     ]
    }
   ],
   "source": [
    "variance = []\n",
    "for i in range(0,2001):\n",
    "    variance.append(np.sum(S[0:i]**2)/np.sum(S**2))\n",
    "print(variance[1:10])"
   ]
  },
  {
   "cell_type": "code",
   "execution_count": 33,
   "id": "e4d0e507-9545-4e17-8bff-b85619f64900",
   "metadata": {},
   "outputs": [
    {
     "data": {
      "image/png": "[encoded data removed]",
      "text/plain": [
       "<Figure size 720x360 with 1 Axes>"
      ]
     },
     "metadata": {
      "needs_background": "light"
     },
     "output_type": "display_data"
    }
   ],
   "source": [
    "# visualization of our variance\n",
    "plt.figure(figsize=(10, 5))\n",
    "plt.plot(variance)\n",
    "plt.axhline(y = 0.8, color='r', linestyle='-')\n",
    "plt.title('Principal Component Variance')\n",
    "plt.ylabel(\"Variance\")\n",
    "plt.xlabel(\"Principal Component Number\")\n",
    "plt.show()"
   ]
  },
  {
   "cell_type": "markdown",
   "id": "cba25492-3578-42a0-9c6a-e82467478ec7",
   "metadata": {},
   "source": [
    "### PCA with our Sentiment Lexicon Matrix"
   ]
  },
  {
   "cell_type": "code",
   "execution_count": 34,
   "id": "d40cfaae-bfd4-43b8-8191-1a4c5e88402d",
   "metadata": {},
   "outputs": [],
   "source": [
    "# singular value decomposition\n",
    "U_lex,S_lex,VT_lex = np.linalg.svd(dense_lex, full_matrices=False)"
   ]
  },
  {
   "cell_type": "code",
   "execution_count": 35,
   "id": "1a352f92-bf1e-466e-967f-8f0aa9840811",
   "metadata": {
    "tags": []
   },
   "outputs": [
    {
     "name": "stdout",
     "output_type": "stream",
     "text": [
      "(50000, 6786) (6786,) (6786, 6786)\n"
     ]
    }
   ],
   "source": [
    "# check dimensions\n",
    "print(U_lex.shape, S_lex.shape, VT_lex.shape)"
   ]
  },
  {
   "cell_type": "code",
   "execution_count": 36,
   "id": "d0e2e666-a795-47b9-8faa-62c6a5b528b0",
   "metadata": {},
   "outputs": [
    {
     "data": {
      "image/png": "[encoded data removed]",
      "text/plain": [
       "<Figure size 720x360 with 1 Axes>"
      ]
     },
     "metadata": {
      "needs_background": "light"
     },
     "output_type": "display_data"
    }
   ],
   "source": [
    "# plot the singular values\n",
    "plt.figure(figsize=(10, 5))\n",
    "plt.plot(S_lex,'bo')\n",
    "plt.title('Singular Values')\n",
    "plt.ylabel(\"Singular Value Importance\")\n",
    "plt.xlabel(\"Singular Value Number\")\n",
    "ax = plt.gca()\n",
    "ax.set_xlim([0, 2000])\n",
    "plt.show()"
   ]
  },
  {
   "cell_type": "code",
   "execution_count": 37,
   "id": "a500b39b-114f-4ed0-9d14-302ce1c43d7d",
   "metadata": {},
   "outputs": [
    {
     "name": "stdout",
     "output_type": "stream",
     "text": [
      "[0.03257243579429631, 0.04279116719184263, 0.05044335668696506, 0.05779143750707675, 0.06428208596911633, 0.07058318770552668, 0.07647063356942149, 0.08178821726922723, 0.08649885334566224]\n"
     ]
    }
   ],
   "source": [
    "variance_lex = []\n",
    "for i in range(0,6787):\n",
    "    variance_lex.append(np.sum(S_lex[0:i]**2)/np.sum(S_lex**2))\n",
    "print(variance_lex[1:10])"
   ]
  },
  {
   "cell_type": "code",
   "execution_count": 38,
   "id": "342b41d9-4044-4507-9654-c5194c4ee6b1",
   "metadata": {},
   "outputs": [
    {
     "data": {
      "image/png": "[encoded data removed]",
      "text/plain": [
       "<Figure size 720x360 with 1 Axes>"
      ]
     },
     "metadata": {
      "needs_background": "light"
     },
     "output_type": "display_data"
    }
   ],
   "source": [
    "# plot the cumulative variance\n",
    "plt.figure(figsize=(10, 5))\n",
    "plt.plot(variance_lex)\n",
    "plt.axhline(y = 0.8, color='r', linestyle='-')\n",
    "plt.title('Principal Component Variance')\n",
    "plt.ylabel(\"Variance\")\n",
    "plt.xlabel(\"Principal Component Number\")\n",
    "plt.show()"
   ]
  },
  {
   "cell_type": "markdown",
   "id": "6475069e-4b0e-448c-a771-6c674cb217df",
   "metadata": {},
   "source": [
    "From our singular value analysis we see that in terms of explained variance, around 80% of it can be accounted for with around the first 1100 principal components, for both matrices conveniently. This would mean we would need to reduce our dimension by about 900 and 5600 respectively by taking the first 1100 principal components as our new feature matrix. Taking these principal components we can now perform logistic regression (as well as other more intensive models) with reduced dimensions."
   ]
  },
  {
   "cell_type": "markdown",
   "id": "c3518f14-6f36-4cb3-a5a3-e22908392e68",
   "metadata": {},
   "source": [
    "## Logistic Regression (with reduced dimensions)"
   ]
  },
  {
   "cell_type": "markdown",
   "id": "d0604604-56eb-42a7-a3a7-d99b3aeb31b5",
   "metadata": {},
   "source": [
    "### General Matrix"
   ]
  },
  {
   "cell_type": "code",
   "execution_count": 39,
   "id": "0c4025a5-c6a8-4092-a086-ea34fb73cc81",
   "metadata": {},
   "outputs": [
    {
     "data": {
      "text/plain": [
       "(50000, 1100)"
      ]
     },
     "execution_count": 39,
     "metadata": {},
     "output_type": "execute_result"
    }
   ],
   "source": [
    "# taking the first 1100 PCs of our general dictionary matrix\n",
    "X_PCA = dense_tfidf@VT[0:1100,:].T\n",
    "X_PCA.shape "
   ]
  },
  {
   "cell_type": "code",
   "execution_count": 40,
   "id": "1dcb7df5-0c3f-45a3-9d4d-20715ea8eeb6",
   "metadata": {},
   "outputs": [
    {
     "name": "stdout",
     "output_type": "stream",
     "text": [
      "(25000, 1100) (25000, 1100) (25000,) (25000,)\n"
     ]
    }
   ],
   "source": [
    "# train test split with our PCA data\n",
    "X_PCA_train, X_PCA_test, y_PCA_train, y_PCA_test = train_test_split(X_PCA, full_data['y'], test_size = 0.5, random_state = 42)\n",
    "\n",
    "print(X_PCA_train.shape, X_PCA_test.shape, y_PCA_train.shape, y_PCA_test.shape)"
   ]
  },
  {
   "cell_type": "code",
   "execution_count": 41,
   "id": "50780934-99af-473c-9477-169ca14ab400",
   "metadata": {},
   "outputs": [
    {
     "name": "stdout",
     "output_type": "stream",
     "text": [
      "Accuracy: 0.87324\n",
      "Classification Report:\n",
      "              precision    recall  f1-score   support\n",
      "\n",
      "           0       0.88      0.86      0.87     12483\n",
      "           1       0.86      0.89      0.88     12517\n",
      "\n",
      "    accuracy                           0.87     25000\n",
      "   macro avg       0.87      0.87      0.87     25000\n",
      "weighted avg       0.87      0.87      0.87     25000\n",
      "\n",
      "computation time: 0:00:01.988305\n"
     ]
    }
   ],
   "source": [
    "start = datetime.now()\n",
    "\n",
    "# initialize model\n",
    "model = LogisticRegression()\n",
    "\n",
    "# fit logistic regression model\n",
    "model.fit(X_PCA_train, y_PCA_train)\n",
    "\n",
    "# predict testing data\n",
    "y_PCA_pred = model.predict(X_PCA_test)\n",
    "\n",
    "end = datetime.now()\n",
    "\n",
    "# model accuracy\n",
    "accuracy = accuracy_score(y_PCA_test, y_PCA_pred)\n",
    "print(f\"Accuracy: {accuracy}\")\n",
    "print(\"Classification Report:\")\n",
    "print(classification_report(y_PCA_test, y_PCA_pred))\n",
    "print(\"computation time:\", end - start)"
   ]
  },
  {
   "cell_type": "markdown",
   "id": "28b0f446-2921-4a0a-9345-30d120de5169",
   "metadata": {},
   "source": [
    "### Sentiment Lexicon Matrix"
   ]
  },
  {
   "cell_type": "code",
   "execution_count": 42,
   "id": "4e4ed39a-58cd-4136-9b18-002d783daa1a",
   "metadata": {},
   "outputs": [
    {
     "data": {
      "text/plain": [
       "(50000, 1100)"
      ]
     },
     "execution_count": 42,
     "metadata": {},
     "output_type": "execute_result"
    }
   ],
   "source": [
    "# taking the first 1100 PCs of our opinion lexicon dictionary matrix\n",
    "X_lex_PCA = dense_lex@VT_lex[0:1100,:].T\n",
    "X_lex_PCA.shape "
   ]
  },
  {
   "cell_type": "code",
   "execution_count": 43,
   "id": "869621a3-93b6-4165-af79-bbd8ba3a9948",
   "metadata": {},
   "outputs": [
    {
     "name": "stdout",
     "output_type": "stream",
     "text": [
      "(25000, 1100) (25000, 1100) (25000,) (25000,)\n"
     ]
    }
   ],
   "source": [
    "# train test split with new reduced matrix\n",
    "X_lex_PCA_train, X_lex_PCA_test, y_lex_PCA_train, y_lex_PCA_test = train_test_split(X_lex_PCA, full_data['y'], test_size = 0.5, random_state = 42)\n",
    "\n",
    "print(X_lex_PCA_train.shape, X_lex_PCA_test.shape, y_lex_PCA_train.shape, y_lex_PCA_test.shape)"
   ]
  },
  {
   "cell_type": "code",
   "execution_count": 44,
   "id": "189aaec3-870c-4b1e-86d3-d4486dae99dd",
   "metadata": {},
   "outputs": [
    {
     "name": "stdout",
     "output_type": "stream",
     "text": [
      "Accuracy: 0.85388\n",
      "Classification Report:\n",
      "              precision    recall  f1-score   support\n",
      "\n",
      "           0       0.87      0.84      0.85     12483\n",
      "           1       0.84      0.87      0.86     12517\n",
      "\n",
      "    accuracy                           0.85     25000\n",
      "   macro avg       0.85      0.85      0.85     25000\n",
      "weighted avg       0.85      0.85      0.85     25000\n",
      "\n",
      "computation time 0:00:02.459250\n"
     ]
    }
   ],
   "source": [
    "# fitting, training, and testing our logistic regression model\n",
    "start = datetime.now()\n",
    "model = LogisticRegression()\n",
    "model.fit(X_lex_PCA_train, y_lex_PCA_train)\n",
    "y_lex_PCA_pred = model.predict(X_lex_PCA_test)\n",
    "end = datetime.now()\n",
    "\n",
    "# model accuracy and diagnosis\n",
    "accuracy = accuracy_score(y_lex_PCA_test, y_lex_PCA_pred)\n",
    "print(f\"Accuracy: {accuracy}\")\n",
    "print(\"Classification Report:\")\n",
    "print(classification_report(y_lex_PCA_test, y_lex_PCA_pred))\n",
    "print(\"computation time\", end - start)"
   ]
  },
  {
   "cell_type": "markdown",
   "id": "153dd3f4-c127-4bb7-9dc7-1251b3764c25",
   "metadata": {},
   "source": [
    "Obviously, we can't stop a certain amount of information from being loss by reducing the dimensionality of our data. However, with our reduction we were able to still get a very strong testing accuracy and cut our computaional time significantly. Looking at our diagnostic tables, our model's quality hardly dipped and we were still able to save much computational rigor with this method, especially with our sentiment lexicon matrix. (Going from 4 to 2 seconds and 20 to 2.5 seconds respectively) Since the data is sparse enough to run a normal logistic regression without any dimensional reduction in a reasonable time, a normal logistic regression is still the preferable method in this scenario. However, this is a good practice to observe the tradeoff between information loss and computational efficiency and how helpful PCA can be with less sparse data."
   ]
  },
  {
   "cell_type": "markdown",
   "id": "a38d5e84-5045-46fe-be97-8594c8d6ed8b",
   "metadata": {},
   "source": [
    "### [IGNORE] Data Writing and Export"
   ]
  },
  {
   "cell_type": "code",
   "execution_count": 45,
   "id": "0f9a30bf-0a25-4863-a418-e498f26d512d",
   "metadata": {},
   "outputs": [],
   "source": [
    "# export reduced train and test data\n",
    "\n",
    "# train \n",
    "df_train_pca = pd.DataFrame(X_PCA_train)\n",
    "df_train_pca.to_csv('xtrain_pca.csv', index=False)\n",
    "\n",
    "# test \n",
    "df_test_pca = pd.DataFrame(X_PCA_test)\n",
    "df_test_pca.to_csv('xtest_pca.csv', index=False)"
   ]
  },
  {
   "cell_type": "code",
   "execution_count": 46,
   "id": "856b710c-4697-418f-b8f1-7bc0714e4142",
   "metadata": {},
   "outputs": [],
   "source": [
    "# export sentiment lexicon reduced train and test data\n",
    "\n",
    "# train \n",
    "df_train_lex_pca = pd.DataFrame(X_lex_PCA_train)\n",
    "df_train_lex_pca.to_csv('xtrain_lex_pca.csv', index=False)\n",
    "\n",
    "# test \n",
    "df_test_lex_pca = pd.DataFrame(X_lex_PCA_test)\n",
    "df_test_lex_pca.to_csv('xtest_lex_pca.csv', index=False)"
   ]
  },
  {
   "cell_type": "code",
   "execution_count": 47,
   "id": "02c7328e-ba16-45bf-aeb2-c630aa517378",
   "metadata": {},
   "outputs": [],
   "source": [
    "# exporting labels\n",
    "\n",
    "# train \n",
    "df_train_labels = pd.DataFrame(y_PCA_train)\n",
    "df_train_labels.to_csv('y_pca_train', index=False)\n",
    "\n",
    "# test\n",
    "df_test_labels = pd.DataFrame(y_PCA_test)\n",
    "df_test_labels.to_csv('y_pca_test', index=False)"
   ]
  },
  {
   "cell_type": "code",
   "execution_count": 48,
   "id": "90869d4a-87e4-4710-bec9-a2517363cfc7",
   "metadata": {},
   "outputs": [],
   "source": [
    "# exporting labels for sentiment lexicon data\n",
    "\n",
    "# train \n",
    "df_train_lex_labels = pd.DataFrame(y_lex_PCA_train)\n",
    "df_train_lex_labels.to_csv('y_lex_PCA_train', index=False)\n",
    "\n",
    "# test\n",
    "df_test_lex_labels = pd.DataFrame(y_lex_PCA_test)\n",
    "df_test_lex_labels.to_csv('y_lex_PCA_test', index=False)"
   ]
  },
  {
   "cell_type": "markdown",
   "id": "f2a07d39-d169-4792-8b9e-2e3c8294236d",
   "metadata": {},
   "source": [
    "## K-Nearest Neighbors"
   ]
  },
  {
   "cell_type": "markdown",
   "id": "50ad3f79-9c56-476d-b75e-7893be1fdf95",
   "metadata": {},
   "source": [
    "A general practice with K-nearest neighbors is to set K to be the square root of the amount of observations. We will try this with the PCA data due to the computational efficiency that PCA brings. It may be interesting to consider how this experiment will compare when using the full data with a reduced K for a computational efficiency v. information loss trade-off. Hence we will observe another experiment that takes a third of this k value but utilizes all predictors."
   ]
  },
  {
   "cell_type": "markdown",
   "id": "101a2e0b-6a9a-45ba-9717-033bbfc6cf84",
   "metadata": {},
   "source": [
    "### General Data"
   ]
  },
  {
   "cell_type": "code",
   "execution_count": 45,
   "id": "2ae5e873-179a-4bf5-8b24-0d2761a771f2",
   "metadata": {},
   "outputs": [
    {
     "name": "stdout",
     "output_type": "stream",
     "text": [
      "157-Nearest Neighbors:\n",
      "Accuracy: 0.69204\n",
      "Classification Report:\n",
      "              precision    recall  f1-score   support\n",
      "\n",
      "           0       0.90      0.43      0.58     12483\n",
      "           1       0.63      0.95      0.76     12517\n",
      "\n",
      "    accuracy                           0.69     25000\n",
      "   macro avg       0.76      0.69      0.67     25000\n",
      "weighted avg       0.76      0.69      0.67     25000\n",
      "\n",
      "computation time: 0:00:40.562738\n"
     ]
    }
   ],
   "source": [
    "# start time\n",
    "start = datetime.now()\n",
    "\n",
    "# choosing k = sqrt(N) which is about 157\n",
    "k_neighbors = 157\n",
    "\n",
    "# create and train the KNN model\n",
    "knn_model = KNeighborsClassifier(n_neighbors=k_neighbors)\n",
    "knn_model.fit(X_PCA_train, y_PCA_train)\n",
    "\n",
    "# predictions and evaluation for KNN\n",
    "knn_predictions = knn_model.predict(X_PCA_test)\n",
    "knn_accuracy = accuracy_score(y_PCA_test, knn_predictions)\n",
    "\n",
    "# end time\n",
    "end = datetime.now()\n",
    "\n",
    "print(\"157-Nearest Neighbors:\")\n",
    "print(f\"Accuracy: {knn_accuracy}\")\n",
    "print(\"Classification Report:\")\n",
    "print(classification_report(y_PCA_test, knn_predictions))\n",
    "print(\"computation time:\", end - start)"
   ]
  },
  {
   "cell_type": "code",
   "execution_count": 46,
   "id": "b105d43d-d770-4e10-8519-a9af41fe3c4f",
   "metadata": {},
   "outputs": [
    {
     "name": "stdout",
     "output_type": "stream",
     "text": [
      "50-Nearest Neighbors:\n",
      "Accuracy: 0.78108\n",
      "Classification Report:\n",
      "              precision    recall  f1-score   support\n",
      "\n",
      "           0       0.80      0.75      0.77     12483\n",
      "           1       0.77      0.81      0.79     12517\n",
      "\n",
      "    accuracy                           0.78     25000\n",
      "   macro avg       0.78      0.78      0.78     25000\n",
      "weighted avg       0.78      0.78      0.78     25000\n",
      "\n",
      "computation time: 0:00:57.874427\n"
     ]
    }
   ],
   "source": [
    "# start time\n",
    "start = datetime.now()\n",
    "\n",
    "# reduced k but using full data\n",
    "k_neighbors = 50\n",
    "\n",
    "# Create and train the KNN model\n",
    "knn_model = KNeighborsClassifier(n_neighbors=k_neighbors)\n",
    "knn_model.fit(X_train, y_train)\n",
    "\n",
    "# Predictions and evaluation for KNN\n",
    "knn_predictions = knn_model.predict(X_test)\n",
    "knn_accuracy = accuracy_score(y_test, knn_predictions)\n",
    "\n",
    "# end time\n",
    "end = datetime.now()\n",
    "\n",
    "print(\"50-Nearest Neighbors:\")\n",
    "print(f\"Accuracy: {knn_accuracy}\")\n",
    "print(\"Classification Report:\")\n",
    "print(classification_report(y_test, knn_predictions))\n",
    "print(\"computation time:\", end - start)"
   ]
  },
  {
   "cell_type": "markdown",
   "id": "db1d980c-c024-48c0-987a-9ef6f121ca79",
   "metadata": {},
   "source": [
    "With these results we are truly able to see the tradeoff between information loss and computational efficiency with PCA and KNN. With using k = 157 we see a notable dip in accuracy as compared with using k = 50 with all features, yet even with a significantly reduced k, using all features still ended up being much more computationally expensive. A balance between accuracy and time will likely be achieved by increasing k in the first case or decreasing k in the second case. "
   ]
  },
  {
   "cell_type": "markdown",
   "id": "6a7df2a7-a20a-4127-8d24-a38bb09f2cc8",
   "metadata": {},
   "source": [
    "### Sentiment Lexicon Data"
   ]
  },
  {
   "cell_type": "code",
   "execution_count": 47,
   "id": "ce9cc704-666a-46d9-b33a-dee5d563bb98",
   "metadata": {},
   "outputs": [
    {
     "name": "stdout",
     "output_type": "stream",
     "text": [
      "157-Nearest Neighbors:\n",
      "Accuracy: 0.6182\n",
      "Classification Report:\n",
      "              precision    recall  f1-score   support\n",
      "\n",
      "           0       0.94      0.25      0.40     12483\n",
      "           1       0.57      0.98      0.72     12517\n",
      "\n",
      "    accuracy                           0.62     25000\n",
      "   macro avg       0.75      0.62      0.56     25000\n",
      "weighted avg       0.75      0.62      0.56     25000\n",
      "\n",
      "computation time: 0:00:39.475601\n"
     ]
    }
   ],
   "source": [
    "# start time\n",
    "start = datetime.now()\n",
    "\n",
    "# choosing k = sqrt(N) which is about 157\n",
    "k_neighbors = 157\n",
    "\n",
    "# Create and train the KNN model\n",
    "knn_model = KNeighborsClassifier(n_neighbors=k_neighbors)\n",
    "knn_model.fit(X_lex_PCA_train, y_lex_PCA_train)\n",
    "\n",
    "# Predictions and evaluation for KNN\n",
    "knn_predictions = knn_model.predict(X_lex_PCA_test)\n",
    "knn_accuracy = accuracy_score(y_lex_PCA_test, knn_predictions)\n",
    "\n",
    "# end time\n",
    "end = datetime.now()\n",
    "\n",
    "print(\"157-Nearest Neighbors:\")\n",
    "print(f\"Accuracy: {knn_accuracy}\")\n",
    "print(\"Classification Report:\")\n",
    "print(classification_report(y_lex_PCA_test, knn_predictions))\n",
    "print(\"computation time:\", end - start)"
   ]
  },
  {
   "cell_type": "code",
   "execution_count": 48,
   "id": "30efb461-6529-4368-8f2a-d32c009fc5d6",
   "metadata": {},
   "outputs": [
    {
     "name": "stdout",
     "output_type": "stream",
     "text": [
      "k-Nearest Neighbors:\n",
      "Accuracy: 0.76876\n",
      "Classification Report:\n",
      "              precision    recall  f1-score   support\n",
      "\n",
      "           0       0.88      0.62      0.73     12483\n",
      "           1       0.71      0.91      0.80     12517\n",
      "\n",
      "    accuracy                           0.77     25000\n",
      "   macro avg       0.79      0.77      0.76     25000\n",
      "weighted avg       0.79      0.77      0.76     25000\n",
      "\n",
      "computation time: 0:02:24.567093\n"
     ]
    }
   ],
   "source": [
    "# start time\n",
    "start = datetime.now()\n",
    "\n",
    "# reduced k but using full data\n",
    "k_neighbors = 50\n",
    "\n",
    "# Create and train the KNN model\n",
    "knn_model = KNeighborsClassifier(n_neighbors=k_neighbors)\n",
    "knn_model.fit(X_lex_train, y_lex_train)\n",
    "\n",
    "# Predictions and evaluation for KNN\n",
    "knn_predictions = knn_model.predict(X_lex_test)\n",
    "knn_accuracy = accuracy_score(y_lex_test, knn_predictions)\n",
    "\n",
    "# end time\n",
    "end = datetime.now()\n",
    "\n",
    "print(\"k-Nearest Neighbors:\")\n",
    "print(f\"Accuracy: {knn_accuracy}\")\n",
    "print(\"Classification Report:\")\n",
    "print(classification_report(y_lex_test, knn_predictions))\n",
    "print(\"computation time:\", end - start)"
   ]
  },
  {
   "cell_type": "markdown",
   "id": "61fda563-a812-42a9-a893-3ff8e4ac7f88",
   "metadata": {},
   "source": [
    "Due to the disproportionate amount of features in the sentiment lexicon dictionary we see an clear spike in computation time when using its full data. However, we seemed to sustain more information loss with our lexicon dictionary, with accuracy dipping to the low 60s. In general, we've so far noticed our original dictionary outperforming both in terms of accuracy and computational speed. After PCA our models in particular seem to start struggling in overpredicting a negative review than a positive review. "
   ]
  },
  {
   "cell_type": "markdown",
   "id": "6f9a2450-a6c0-4fbb-9cd3-0c08ae04b8fa",
   "metadata": {},
   "source": [
    "## Linear Discriminant Analysis"
   ]
  },
  {
   "cell_type": "markdown",
   "id": "050ee9bc-6dc5-4f59-b5dc-75dc6440bc73",
   "metadata": {},
   "source": [
    "### General Data (with PCA)"
   ]
  },
  {
   "cell_type": "code",
   "execution_count": 63,
   "id": "b5514de5-cdf8-4198-ae98-9faee9e54b41",
   "metadata": {},
   "outputs": [
    {
     "name": "stdout",
     "output_type": "stream",
     "text": [
      "Linear Discriminant Analysis (LDA) Results:\n",
      "Accuracy: 0.86864\n",
      "Classification Report:\n",
      "              precision    recall  f1-score   support\n",
      "\n",
      "           0       0.88      0.85      0.87     12483\n",
      "           1       0.85      0.89      0.87     12517\n",
      "\n",
      "    accuracy                           0.87     25000\n",
      "   macro avg       0.87      0.87      0.87     25000\n",
      "weighted avg       0.87      0.87      0.87     25000\n",
      "\n",
      "Computation Time: 0:00:13.966696\n"
     ]
    }
   ],
   "source": [
    "# initialize start time\n",
    "start_time = datetime.now()\n",
    "\n",
    "# initialize LDA model and fit this model\n",
    "lda = LinearDiscriminantAnalysis()\n",
    "lda.fit(X_PCA_train, y_PCA_train)\n",
    "\n",
    "# predict with the testing data\n",
    "lda_predictions = lda.predict(X_PCA_test)\n",
    "\n",
    "# evaluate our LDA model\n",
    "lda_accuracy = accuracy_score(y_PCA_test, lda_predictions)\n",
    "lda_classification_report = classification_report(y_PCA_test, lda_predictions)\n",
    "\n",
    "# end time\n",
    "end_time = datetime.now()\n",
    "\n",
    "print(\"Linear Discriminant Analysis (LDA) Results:\")\n",
    "print(f\"Accuracy: {lda_accuracy:}\")\n",
    "print(\"Classification Report:\")\n",
    "print(lda_classification_report)\n",
    "print(\"Computation Time:\", end_time - start_time)"
   ]
  },
  {
   "cell_type": "markdown",
   "id": "91abcadf-cb93-4e26-86d5-987fb576dd00",
   "metadata": {},
   "source": [
    "### General Data (No PCA)"
   ]
  },
  {
   "cell_type": "code",
   "execution_count": 64,
   "id": "70732f72-4272-4f3c-831a-d43e85953cea",
   "metadata": {},
   "outputs": [
    {
     "name": "stdout",
     "output_type": "stream",
     "text": [
      "Linear Discriminant Analysis (LDA) (NO PCA) Results:\n",
      "Accuracy: 0.86524\n",
      "Classification Report:\n",
      "              precision    recall  f1-score   support\n",
      "\n",
      "           0       0.88      0.85      0.86     12483\n",
      "           1       0.85      0.88      0.87     12517\n",
      "\n",
      "    accuracy                           0.87     25000\n",
      "   macro avg       0.87      0.87      0.87     25000\n",
      "weighted avg       0.87      0.87      0.87     25000\n",
      "\n",
      "Computation Time: 0:00:31.814895\n"
     ]
    }
   ],
   "source": [
    "# initialize start time\n",
    "start_time = datetime.now()\n",
    "\n",
    "# model fitting and diagnosis\n",
    "lda = LinearDiscriminantAnalysis()\n",
    "lda.fit(X_train, y_train)\n",
    "\n",
    "lda_predictions = lda.predict(X_test)\n",
    "\n",
    "lda_accuracy = accuracy_score(y_test, lda_predictions)\n",
    "lda_classification_report = classification_report(y_test, lda_predictions)\n",
    "\n",
    "# end time\n",
    "end_time = datetime.now()\n",
    "\n",
    "print(\"Linear Discriminant Analysis (LDA) (NO PCA) Results:\")\n",
    "print(f\"Accuracy: {lda_accuracy:}\")\n",
    "print(\"Classification Report:\")\n",
    "print(lda_classification_report)\n",
    "print(\"Computation Time:\", end_time - start_time)"
   ]
  },
  {
   "cell_type": "markdown",
   "id": "d2257c9d-7672-4841-805f-644a8dabdcda",
   "metadata": {},
   "source": [
    "### Sentiment Lexicon Data"
   ]
  },
  {
   "cell_type": "code",
   "execution_count": 65,
   "id": "97218c2d-50b0-4e38-ad59-c02fa374f379",
   "metadata": {},
   "outputs": [
    {
     "name": "stdout",
     "output_type": "stream",
     "text": [
      "Linear Discriminant Analysis (LDA) Results:\n",
      "Accuracy: 0.84568\n",
      "Classification Report:\n",
      "              precision    recall  f1-score   support\n",
      "\n",
      "           0       0.86      0.82      0.84     12483\n",
      "           1       0.83      0.87      0.85     12517\n",
      "\n",
      "    accuracy                           0.85     25000\n",
      "   macro avg       0.85      0.85      0.85     25000\n",
      "weighted avg       0.85      0.85      0.85     25000\n",
      "\n",
      "Computation Time: 0:00:15.433693\n"
     ]
    }
   ],
   "source": [
    "# initialize start time\n",
    "start_time = datetime.now()\n",
    "\n",
    "# initialize LDA model, fit, and evaluate model\n",
    "lda = LinearDiscriminantAnalysis()\n",
    "lda.fit(X_lex_PCA_train, y_lex_PCA_train)\n",
    "\n",
    "lda_predictions = lda.predict(X_lex_PCA_test)\n",
    "\n",
    "lda_accuracy = accuracy_score(y_lex_PCA_test, lda_predictions)\n",
    "lda_classification_report = classification_report(y_lex_PCA_test, lda_predictions)\n",
    "\n",
    "# end time\n",
    "end_time = datetime.now()\n",
    "\n",
    "print(\"Linear Discriminant Analysis (LDA) Results:\")\n",
    "print(f\"Accuracy: {lda_accuracy}\")\n",
    "print(\"Classification Report:\")\n",
    "print(lda_classification_report)\n",
    "print(\"Computation Time:\", end_time - start_time)"
   ]
  },
  {
   "cell_type": "markdown",
   "id": "2980e46f-d19f-475c-bbd7-739892ed9288",
   "metadata": {},
   "source": [
    "## Quadratic Discriminant Analysis"
   ]
  },
  {
   "cell_type": "markdown",
   "id": "4b22e0e7-db82-4fca-a169-91b8b23de7b9",
   "metadata": {},
   "source": [
    "### General Data"
   ]
  },
  {
   "cell_type": "code",
   "execution_count": 66,
   "id": "1582f3c4-cbe3-4202-a2af-94902e648681",
   "metadata": {},
   "outputs": [
    {
     "name": "stdout",
     "output_type": "stream",
     "text": [
      "\n",
      "Quadratic Discriminant Analysis (QDA) Results:\n",
      "Accuracy: 0.82172\n",
      "Classification Report:\n",
      "              precision    recall  f1-score   support\n",
      "\n",
      "           0       0.83      0.81      0.82     12483\n",
      "           1       0.82      0.83      0.82     12517\n",
      "\n",
      "    accuracy                           0.82     25000\n",
      "   macro avg       0.82      0.82      0.82     25000\n",
      "weighted avg       0.82      0.82      0.82     25000\n",
      "\n",
      "Computation Time: 0:00:16.012062\n"
     ]
    }
   ],
   "source": [
    "# initialize start time\n",
    "start_time = datetime.now()\n",
    "\n",
    "# initialize QDA model and fit this model\n",
    "qda = QuadraticDiscriminantAnalysis()\n",
    "qda.fit(X_PCA_train, y_PCA_train)\n",
    "\n",
    "# predict with the testing data\n",
    "qda_predictions = qda.predict(X_PCA_test)\n",
    "\n",
    "# Evaluate QDA\n",
    "qda_accuracy = accuracy_score(y_PCA_test, qda_predictions)\n",
    "qda_classification_report = classification_report(y_PCA_test, qda_predictions)\n",
    "\n",
    "# end time\n",
    "end_time = datetime.now()\n",
    "\n",
    "print(\"\\nQuadratic Discriminant Analysis (QDA) Results:\")\n",
    "print(f\"Accuracy: {qda_accuracy}\")\n",
    "print(\"Classification Report:\")\n",
    "print(qda_classification_report)\n",
    "print(\"Computation Time:\", end_time - start_time)"
   ]
  },
  {
   "cell_type": "markdown",
   "id": "976f9c59-24a0-45cf-9edc-9f5a7ea93b1c",
   "metadata": {},
   "source": [
    "### Sentiment Lexicon Data"
   ]
  },
  {
   "cell_type": "code",
   "execution_count": 67,
   "id": "6308e14b-b945-4231-b7ef-378c4a26683c",
   "metadata": {},
   "outputs": [
    {
     "name": "stdout",
     "output_type": "stream",
     "text": [
      "Quadratic Discriminant Analysis (QDA) Results:\n",
      "Accuracy: 0.78488\n",
      "Classification Report:\n",
      "              precision    recall  f1-score   support\n",
      "\n",
      "           0       0.79      0.78      0.78     12483\n",
      "           1       0.78      0.79      0.79     12517\n",
      "\n",
      "    accuracy                           0.78     25000\n",
      "   macro avg       0.78      0.78      0.78     25000\n",
      "weighted avg       0.78      0.78      0.78     25000\n",
      "\n",
      "Computation Time: 0:00:19.812929\n"
     ]
    }
   ],
   "source": [
    "# start time\n",
    "start_time = datetime.now()\n",
    "\n",
    "# initialize QDA model and fit this model\n",
    "qda = QuadraticDiscriminantAnalysis()\n",
    "qda.fit(X_lex_PCA_train, y_lex_PCA_train)\n",
    "\n",
    "# predict \n",
    "qda_predictions = qda.predict(X_lex_PCA_test)\n",
    "\n",
    "# evaluate \n",
    "qda_accuracy = accuracy_score(y_lex_PCA_test, qda_predictions)\n",
    "qda_classification_report = classification_report(y_lex_PCA_test, qda_predictions)\n",
    "\n",
    "# end time\n",
    "end_time = datetime.now()\n",
    "\n",
    "print(\"Quadratic Discriminant Analysis (QDA) Results:\")\n",
    "print(f\"Accuracy: {qda_accuracy}\")\n",
    "print(\"Classification Report:\")\n",
    "print(qda_classification_report)\n",
    "print(\"Computation Time:\", end_time - start_time)"
   ]
  },
  {
   "cell_type": "markdown",
   "id": "a9e8eb30-315f-419d-80f5-fd42c1c5df69",
   "metadata": {},
   "source": [
    "We observe that overall, LDA performs better tha QDA, with this difference being more pronounced within the sentiment lexicon dictionary. This may suggest that this matrix space in particular follow a more linear decision boundary rather than a quadratic one. Due to a simpler algorithm, we also see LDA being more computationally efficient. Different data will respond to different algorithms accordingly, ours seems to favor the decision boundary of LDA rather than QDA"
   ]
  },
  {
   "cell_type": "markdown",
   "id": "f0dff979-afde-411c-b7fe-524684789fac",
   "metadata": {},
   "source": [
    "## K-fold Cross Validation"
   ]
  },
  {
   "cell_type": "markdown",
   "id": "c2c80a77-e68f-4c68-bca4-d3b2f6f07c70",
   "metadata": {},
   "source": [
    "### General Dictionary"
   ]
  },
  {
   "cell_type": "code",
   "execution_count": 142,
   "id": "281d6811-38c1-4699-bc38-a013da4e6d58",
   "metadata": {},
   "outputs": [
    {
     "name": "stdout",
     "output_type": "stream",
     "text": [
      "[0.60664, 0.61888, 0.6298, 0.64084, 0.6478, 0.65634, 0.66082, 0.6653, 0.67066, 0.67432, 0.67776, 0.68156, 0.68462, 0.68642, 0.69014]\n"
     ]
    }
   ],
   "source": [
    "# 5 fold cross-validation for k values from 1 to 29, initialize lists for CV scores and computation time\n",
    "k_values = list(range(1, 30, 2))\n",
    "cv_scores = []\n",
    "time_diff = []\n",
    "\n",
    "for k in k_values:\n",
    "    # start time\n",
    "    start = datetime.now()\n",
    "    \n",
    "    # initialize knn model for iteration k\n",
    "    knn_model = KNeighborsClassifier(n_neighbors=k)\n",
    "    \n",
    "    # 5 fold CV score\n",
    "    scores = cross_val_score(knn_model, X_PCA, full_data['y'], cv=5, scoring='accuracy')\n",
    "    cv_scores.append(scores.mean())\n",
    "    \n",
    "    # calculate computation time\n",
    "    end = datetime.now()\n",
    "    time_diff.append(end - start)\n",
    "    \n",
    "\n",
    "# converting datetime object into numeric\n",
    "time_diff_sec = [x.total_seconds() for x in time_diff ]    \n",
    "\n",
    "\n",
    "print(cv_scores)"
   ]
  },
  {
   "cell_type": "code",
   "execution_count": 153,
   "id": "be290a4d-8f2c-4a25-8400-88bf67a936b9",
   "metadata": {},
   "outputs": [
    {
     "data": {
      "image/png": "[encoded data removed]",
      "text/plain": [
       "<Figure size 432x288 with 2 Axes>"
      ]
     },
     "metadata": {
      "needs_background": "light"
     },
     "output_type": "display_data"
    }
   ],
   "source": [
    "# plot the results to visualize performance and computation time vs. k\n",
    "\n",
    "# initialize plots\n",
    "fig, ax = plt.subplots()\n",
    "fig.subplots_adjust(right = 0.75)\n",
    "twin = ax.twinx()\n",
    "\n",
    "# plot lines\n",
    "plot1 = ax.plot(k_values, cv_scores, color = 'b', label = 'Cross Validation Score')\n",
    "plot2 = twin.plot(k_values, time_diff_sec, color = 'r', label = 'Time Difference')\n",
    "\n",
    "# set axis limits and labels\n",
    "ax.set(xlim = (0, 30), ylim = (0.55, 0.7), xlabel = \"k\", ylabel = \"Cross-Validation Accuracy\")\n",
    "twin.set(ylim = (100, 500), ylabel = \"Time Difference\")\n",
    "\n",
    "# set axis colors\n",
    "ax.yaxis.label.set_color('blue')\n",
    "twin.yaxis.label.set_color('red')\n",
    "\n",
    "# set tick colors\n",
    "ax.tick_params(axis = 'y', colors = 'blue')\n",
    "twin.tick_params(axis = 'y', colors = 'red')\n",
    "\n",
    "# create legend\n",
    "lines = plot1 + plot2\n",
    "labels = [x.get_label() for x in lines]\n",
    "ax.legend(lines, labels, loc=0)\n",
    "\n",
    "plt.show()"
   ]
  },
  {
   "cell_type": "markdown",
   "id": "fc75f8df-3a41-4369-bb9e-e3f78af7d67c",
   "metadata": {},
   "source": [
    "### Sentiment Lexicon Dictionary"
   ]
  },
  {
   "cell_type": "code",
   "execution_count": 144,
   "id": "a1121e33-f575-4076-b322-fe4cfebe50ec",
   "metadata": {},
   "outputs": [
    {
     "name": "stdout",
     "output_type": "stream",
     "text": [
      "[0.63552, 0.63784, 0.6413800000000001, 0.63388, 0.6242800000000001, 0.6126999999999999, 0.60392, 0.5955400000000001, 0.58788, 0.5824, 0.57972, 0.57768, 0.57774, 0.57868, 0.58212]\n"
     ]
    }
   ],
   "source": [
    "# 5 fold cross-validation for k values from 1 to 29, initialize lists for CV scores and computation time\n",
    "k_values = list(range(1, 30, 2))\n",
    "cv_scores_lex = []\n",
    "time_diff_lex = []\n",
    "\n",
    "for k in k_values:\n",
    "    # start time\n",
    "    start = datetime.now()\n",
    "    \n",
    "    # initialize knn model for iteration k\n",
    "    knn_model = KNeighborsClassifier(n_neighbors=k)\n",
    "    \n",
    "    # 5 fold CV score\n",
    "    scores = cross_val_score(knn_model, X_lex_PCA, full_data['y'], cv=5, scoring='accuracy')\n",
    "    cv_scores_lex.append(scores.mean())\n",
    "    \n",
    "    # calculate computation time\n",
    "    end = datetime.now()\n",
    "    time_diff_lex.append(end - start)\n",
    "    \n",
    "\n",
    "# converting datetime object into numeric\n",
    "time_diff_sec_lex = [x.total_seconds() for x in time_diff_lex ]    \n",
    "\n",
    "\n",
    "print(cv_scores_lex)"
   ]
  },
  {
   "cell_type": "code",
   "execution_count": 152,
   "id": "3e85b13b-9b15-4765-8e53-e61efb531559",
   "metadata": {},
   "outputs": [
    {
     "data": {
      "image/png": "[encoded data removed]",
      "text/plain": [
       "<Figure size 432x288 with 2 Axes>"
      ]
     },
     "metadata": {
      "needs_background": "light"
     },
     "output_type": "display_data"
    }
   ],
   "source": [
    "# plot the results to visualize performance and computation time vs. k\n",
    "\n",
    "# initialize plots\n",
    "fig, ax = plt.subplots()\n",
    "fig.subplots_adjust(right = 0.75)\n",
    "twin = ax.twinx()\n",
    "\n",
    "# plot lines\n",
    "plot1 = ax.plot(k_values, cv_scores_lex, color = 'g', label = 'Cross Validation Score (Sentiment Lexicon)')\n",
    "plot2 = twin.plot(k_values, time_diff_sec_lex, color = 'purple', label = 'Time Difference (Sentiment Lexicon)')\n",
    "\n",
    "# set axis limits and labels\n",
    "ax.set(xlim = (0, 30), ylim = (0.55, 0.7), xlabel = \"k\", ylabel = \"Cross-Validation Accuracy (Sentiment Lexicon)\")\n",
    "twin.set(ylim = (100, 500), ylabel = \"Time Difference (Sentiment Lexicon)\")\n",
    "\n",
    "# set axis colors\n",
    "ax.yaxis.label.set_color('g')\n",
    "twin.yaxis.label.set_color('purple')\n",
    "\n",
    "# set tick colors\n",
    "ax.tick_params(axis = 'y', colors = 'g')\n",
    "twin.tick_params(axis = 'y', colors = 'purple')\n",
    "\n",
    "# create legend\n",
    "lines = plot1 + plot2\n",
    "labels = [x.get_label() for x in lines]\n",
    "ax.legend(lines, labels, loc=0)\n",
    "\n",
    "plt.show()"
   ]
  },
  {
   "cell_type": "markdown",
   "id": "be960f79-e892-47a6-976b-25dc729d0a4b",
   "metadata": {},
   "source": [
    "## Model Limitations and Improvements"
   ]
  },
  {
   "cell_type": "markdown",
   "id": "70f5e270-66b4-4b96-a842-6926084f4354",
   "metadata": {},
   "source": [
    "All of our models had varying degrees of success, all being relatively solid at predicting the sentiment of movie reviews. However, there are still aspects of our process of creating and fitting the models that allow for improvement. \n",
    "\n",
    "Because our original dictionary outperformed the sentiment dictionary for every model, we suspect that our dictionary worked better because it is better suited for the context of our data. This could limit the generalizability of the dictionary for unknown data, since there are words that may be more commonly used for movies that are not included in our dictionary. Ultimately, creating a dictionary in which the predictors are drawn from the information we already have leads to some degree of implicit bias. As we obtain more information this bias decreases but in our case it is clearly present. \n",
    "\n",
    "In the future, it may be possible to automate the entire process of sentiment analysis for any context by developing an algorithm for generating a custom dictionary for any dataset. But within the confines of this experiment, a more effective method would be to utilize the tfidfVectorizer **after** the train-test split and consider multiple splits with cross validation. This would improve the reproducability of our model and help to remove any implicit biases present from our method. However, this would be extremely comutationally inefficient. So while our general dictionary worked better, the sentiment lexicon made dictionary may be a better general model for future predictions.\n",
    "\n",
    "Moreover, because the dataset contained so many records, we sometimes encountered difficulty training our models, especially for KNN and any form of cross validation, which sometimes took hours to run. It is possible to reduce computation time with some algorithmic improvement; though, ultimately, this limitation is not unique to this study but rather an illustration of current technological limitations. "
   ]
  }
 ],
 "metadata": {
  "kernelspec": {
   "display_name": "Python 3 (ipykernel)",
   "language": "python",
   "name": "python3"
  },
  "language_info": {
   "codemirror_mode": {
    "name": "ipython",
    "version": 3
   },
   "file_extension": ".py",
   "mimetype": "text/x-python",
   "name": "python",
   "nbconvert_exporter": "python",
   "pygments_lexer": "ipython3",
   "version": "3.9.7"
  }
 },
 "nbformat": 4,
 "nbformat_minor": 5
}
