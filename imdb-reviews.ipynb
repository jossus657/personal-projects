{
 "cells": [
  {
   "cell_type": "markdown",
   "id": "72a84b21-e6ed-41e5-8ac6-550293c96cc4",
   "metadata": {},
   "source": [
    "## Predicting Movie Reviews with Classification Learning Models "
   ]
  },
  {
   "cell_type": "markdown",
   "id": "f0dd9b93-a067-4066-bd88-f10d36721253",
   "metadata": {},
   "source": [
    "Data: **IMDB Dataset of 50K Movie Reviews**\n",
    "\n",
    "Written Report: https://docs.google.com/document/d/1U9AlaiB18F-da0DgK1KsW6pISuzzGhL_s1Oan3xAQGg/edit\n",
    "\n",
    "*This file contains all programming done by Joshua Susanto*"
   ]
  },
  {
   "cell_type": "code",
   "execution_count": 6,
   "id": "2e3dada7-51d1-41b7-b408-c96401c32664",
   "metadata": {},
   "outputs": [],
   "source": [
    "# Import necessary packages\n",
    "import numpy as np\n",
    "import pandas as pd\n",
    "import sklearn\n",
    "import nltk\n",
    "import re\n",
    "from sklearn.model_selection import train_test_split\n",
    "from sklearn.feature_extraction.text import TfidfVectorizer \n",
    "from nltk.corpus import stopwords\n",
    "from nltk.tokenize import word_tokenize\n",
    "from sklearn.neighbors import KNeighborsClassifier\n",
    "from sklearn.linear_model import LogisticRegression\n",
    "from sklearn.metrics import accuracy_score, classification_report\n",
    "from sklearn.model_selection import cross_val_score\n",
    "from sklearn.decomposition import PCA\n",
    "import numpy.linalg as la\n",
    "from wordcloud import WordCloud\n",
    "import matplotlib.pyplot as plt"
   ]
  },
  {
   "cell_type": "markdown",
   "id": "01e0724e-b4c0-4b61-838c-29984297f525",
   "metadata": {},
   "source": [
    "## Exploratory Analysis"
   ]
  },
  {
   "cell_type": "code",
   "execution_count": 7,
   "id": "a83034d3-357b-46cf-8da0-8b718690f3e9",
   "metadata": {},
   "outputs": [
    {
     "data": {
      "text/html": [
       "<div>\n",
       "<style scoped>\n",
       "    .dataframe tbody tr th:only-of-type {\n",
       "        vertical-align: middle;\n",
       "    }\n",
       "\n",
       "    .dataframe tbody tr th {\n",
       "        vertical-align: top;\n",
       "    }\n",
       "\n",
       "    .dataframe thead th {\n",
       "        text-align: right;\n",
       "    }\n",
       "</style>\n",
       "<table border=\"1\" class=\"dataframe\">\n",
       "  <thead>\n",
       "    <tr style=\"text-align: right;\">\n",
       "      <th></th>\n",
       "      <th>review</th>\n",
       "      <th>sentiment</th>\n",
       "    </tr>\n",
       "  </thead>\n",
       "  <tbody>\n",
       "    <tr>\n",
       "      <th>0</th>\n",
       "      <td>One of the other reviewers has mentioned that ...</td>\n",
       "      <td>positive</td>\n",
       "    </tr>\n",
       "    <tr>\n",
       "      <th>1</th>\n",
       "      <td>A wonderful little production. &lt;br /&gt;&lt;br /&gt;The...</td>\n",
       "      <td>positive</td>\n",
       "    </tr>\n",
       "    <tr>\n",
       "      <th>2</th>\n",
       "      <td>I thought this was a wonderful way to spend ti...</td>\n",
       "      <td>positive</td>\n",
       "    </tr>\n",
       "    <tr>\n",
       "      <th>3</th>\n",
       "      <td>Basically there's a family where a little boy ...</td>\n",
       "      <td>negative</td>\n",
       "    </tr>\n",
       "    <tr>\n",
       "      <th>4</th>\n",
       "      <td>Petter Mattei's \"Love in the Time of Money\" is...</td>\n",
       "      <td>positive</td>\n",
       "    </tr>\n",
       "  </tbody>\n",
       "</table>\n",
       "</div>"
      ],
      "text/plain": [
       "                                              review sentiment\n",
       "0  One of the other reviewers has mentioned that ...  positive\n",
       "1  A wonderful little production. <br /><br />The...  positive\n",
       "2  I thought this was a wonderful way to spend ti...  positive\n",
       "3  Basically there's a family where a little boy ...  negative\n",
       "4  Petter Mattei's \"Love in the Time of Money\" is...  positive"
      ]
     },
     "execution_count": 7,
     "metadata": {},
     "output_type": "execute_result"
    }
   ],
   "source": [
    "# Read dataset\n",
    "full_data = pd.read_csv('IMDB Dataset.csv')\n",
    "full_data.head()"
   ]
  },
  {
   "cell_type": "code",
   "execution_count": 345,
   "id": "314b4616-baa5-483f-ac61-fcbd8a5f02ee",
   "metadata": {},
   "outputs": [
    {
     "data": {
      "text/plain": [
       "['a+',\n",
       " 'abound',\n",
       " 'abounds',\n",
       " 'abundance',\n",
       " 'abundant',\n",
       " 'accessable',\n",
       " 'accessible',\n",
       " 'acclaim',\n",
       " 'acclaimed',\n",
       " 'acclamation',\n",
       " 'accolade',\n",
       " 'accolades',\n",
       " 'accommodative',\n",
       " 'accomodative',\n",
       " 'accomplish',\n",
       " 'accomplished',\n",
       " 'accomplishment',\n",
       " 'accomplishments',\n",
       " 'accurate',\n",
       " 'accurately']"
      ]
     },
     "execution_count": 345,
     "metadata": {},
     "output_type": "execute_result"
    }
   ],
   "source": [
    "# Positice Sentiment Lexicon\n",
    "file = open(\"positive-words.txt\", \"r\")\n",
    "pos_words = file.read()\n",
    "file.close()\n",
    "\n",
    "pos_words = pos_words.splitlines()\n",
    "pos_words = pos_words[1:]\n",
    "pos_words[0:20]"
   ]
  },
  {
   "cell_type": "code",
   "execution_count": 347,
   "id": "67c5f4c0-11fa-4571-bb05-efe06ee1e985",
   "metadata": {},
   "outputs": [
    {
     "data": {
      "text/plain": [
       "['2-faced',\n",
       " '2-faces',\n",
       " 'abnormal',\n",
       " 'abolish',\n",
       " 'abominable',\n",
       " 'abominably',\n",
       " 'abominate',\n",
       " 'abomination',\n",
       " 'abort',\n",
       " 'aborted',\n",
       " 'aborts',\n",
       " 'abrade',\n",
       " 'abrasive',\n",
       " 'abrupt',\n",
       " 'abruptly',\n",
       " 'abscond',\n",
       " 'absence',\n",
       " 'absent-minded',\n",
       " 'absentee',\n",
       " 'absurd']"
      ]
     },
     "execution_count": 347,
     "metadata": {},
     "output_type": "execute_result"
    }
   ],
   "source": [
    "# Negative Sentiment Lexicon\n",
    "file = open(\"negative-words.txt\", \"r\")\n",
    "neg_words = file.read()\n",
    "file.close()\n",
    "\n",
    "neg_words = neg_words.splitlines()\n",
    "neg_words = neg_words[1:]\n",
    "neg_words[0:20]"
   ]
  },
  {
   "cell_type": "code",
   "execution_count": 349,
   "id": "25b524f6-5244-4c29-b8af-c1186479410c",
   "metadata": {},
   "outputs": [
    {
     "data": {
      "text/plain": [
       "array(['positive', 'negative'], dtype=object)"
      ]
     },
     "execution_count": 349,
     "metadata": {},
     "output_type": "execute_result"
    }
   ],
   "source": [
    "full_data['sentiment'].unique()"
   ]
  },
  {
   "cell_type": "code",
   "execution_count": 350,
   "id": "dd708eaf-7ae8-4f13-bf57-43404420c2e1",
   "metadata": {},
   "outputs": [
    {
     "data": {
      "text/plain": [
       "\"One of the other reviewers has mentioned that after watching just 1 Oz episode you'll be hooked. They are right, as this is exactly what happened with me.<br /><br />The first thing that struck me about Oz was its brutality and unflinching scenes of violence, which set in right from the word GO. Trust me, this is not a show for the faint hearted or timid. This show pulls no punches with regards to drugs, sex or violence. Its is hardcore, in the classic use of the word.<br /><br />It is called OZ as that is the nickname given to the Oswald Maximum Security State Penitentary. It focuses mainly on Emerald City, an experimental section of the prison where all the cells have glass fronts and face inwards, so privacy is not high on the agenda. Em City is home to many..Aryans, Muslims, gangstas, Latinos, Christians, Italians, Irish and more....so scuffles, death stares, dodgy dealings and shady agreements are never far away.<br /><br />I would say the main appeal of the show is due to the fact that it goes where other shows wouldn't dare. Forget pretty pictures painted for mainstream audiences, forget charm, forget romance...OZ doesn't mess around. The first episode I ever saw struck me as so nasty it was surreal, I couldn't say I was ready for it, but as I watched more, I developed a taste for Oz, and got accustomed to the high levels of graphic violence. Not just violence, but injustice (crooked guards who'll be sold out for a nickel, inmates who'll kill on order and get away with it, well mannered, middle class inmates being turned into prison bitches due to their lack of street skills or prison experience) Watching Oz, you may become comfortable with what is uncomfortable viewing....thats if you can get in touch with your darker side.\""
      ]
     },
     "execution_count": 350,
     "metadata": {},
     "output_type": "execute_result"
    }
   ],
   "source": [
    "# First document\n",
    "full_data['review'][0]"
   ]
  },
  {
   "cell_type": "markdown",
   "id": "9d1dd561-5a52-46aa-9a25-4417541c01cb",
   "metadata": {},
   "source": [
    "## Preprocessing"
   ]
  },
  {
   "cell_type": "markdown",
   "id": "04c9b1d0-6ba0-4896-bb95-40e679a97ce9",
   "metadata": {},
   "source": [
    "Lots of things to clean:\n",
    "- capitalization\n",
    "- normalization of words\n",
    "- punctuation\n",
    "- line break errors\n",
    "- stop words\n",
    "\n",
    "TF-IDF will do most of these things implicitly, but must do some of these steps manually to check the initial distribution of words for the sake of exploratory analysis."
   ]
  },
  {
   "cell_type": "code",
   "execution_count": 351,
   "id": "b8109fc5-f4d2-4a16-9d10-4daebca46262",
   "metadata": {},
   "outputs": [
    {
     "data": {
      "text/plain": [
       "\"one of the other reviewers has mentioned that after watching just 1 oz episode you'll be hooked. they are right, as this is exactly what happened with me.  the first thing that struck me about oz was its utality and unflinching scenes of violence, which set in right from the word go. trust me, this is not a show for the faint hearted or timid. this show pulls no punches with regards to drugs, sex or violence. its is hardcore, in the classic use of the word.  it is called oz as that is the nickname given to the oswald maximum security state penitentary. it focuses mainly on emerald city, an experimental section of the prison where all the cells have glass fronts and face inwards, so privacy is not high on the agenda. em city is home to many..aryans, muslims, gangstas, latinos, christians, italians, irish and more....so scuffles, death stares, dodgy dealings and shady agreements are never far away.  i would say the main appeal of the show is due to the fact that it goes where other shows wouldn't dare. forget pretty pictures painted for mainstream audiences, forget charm, forget romance...oz doesn't mess around. the first episode i ever saw struck me as so nasty it was surreal, i couldn't say i was ready for it, but as i watched more, i developed a taste for oz, and got accustomed to the high levels of graphic violence. not just violence, but injustice (crooked guards who'll be sold out for a nickel, inmates who'll kill on order and get away with it, well mannered, middle class inmates being turned into prison bitches due to their lack of street skills or prison experience) watching oz, you may become comfortable with what is uncomfortable viewing....thats if you can get in touch with your darker side.\""
      ]
     },
     "execution_count": 351,
     "metadata": {},
     "output_type": "execute_result"
    }
   ],
   "source": [
    "# removing line break errors\n",
    "full_data['review'] = full_data['review'].apply(lambda x:re.sub('br', '', x))\n",
    "full_data['review'] = full_data['review'].apply(lambda x:re.sub('/', '', x))\n",
    "full_data['review'] = full_data['review'].apply(lambda x:re.sub('>', '', x))\n",
    "full_data['review'] = full_data['review'].apply(lambda x:re.sub('<', '', x))\n",
    "\n",
    "# lowercase\n",
    "full_data['review'] = full_data['review'].apply(lambda x:x.lower())\n",
    "\n",
    "full_data['review'][0]"
   ]
  },
  {
   "cell_type": "code",
   "execution_count": 352,
   "id": "13a9f2ea-1155-4493-ab0c-74d40b139731",
   "metadata": {},
   "outputs": [
    {
     "name": "stdout",
     "output_type": "stream",
     "text": [
      "['one', 'of', 'the', 'other', 'reviewers', 'has', 'mentioned', 'that', 'after', 'watching', 'just', '1', 'oz', 'episode', 'you', \"'ll\", 'be', 'hooked', '.', 'they', 'are', 'right', ',', 'as', 'this', 'is', 'exactly', 'what', 'happened', 'with', 'me', '.', 'the', 'first', 'thing', 'that', 'struck', 'me', 'about', 'oz', 'was', 'its', 'utality', 'and', 'unflinching', 'scenes', 'of', 'violence', ',', 'which', 'set', 'in', 'right', 'from', 'the', 'word', 'go', '.', 'trust', 'me', ',', 'this', 'is', 'not', 'a', 'show', 'for', 'the', 'faint', 'hearted', 'or', 'timid', '.', 'this', 'show', 'pulls', 'no', 'punches', 'with', 'regards', 'to', 'drugs', ',', 'sex', 'or', 'violence', '.', 'its', 'is', 'hardcore', ',', 'in', 'the', 'classic', 'use', 'of', 'the', 'word', '.', 'it', 'is', 'called', 'oz', 'as', 'that', 'is', 'the', 'nickname', 'given', 'to', 'the', 'oswald', 'maximum', 'security', 'state', 'penitentary', '.', 'it', 'focuses', 'mainly', 'on', 'emerald', 'city', ',', 'an', 'experimental', 'section', 'of', 'the', 'prison', 'where', 'all', 'the', 'cells', 'have', 'glass', 'fronts', 'and', 'face', 'inwards', ',', 'so', 'privacy', 'is', 'not', 'high', 'on', 'the', 'agenda', '.', 'em', 'city', 'is', 'home', 'to', 'many', '..', 'aryans', ',', 'muslims', ',', 'gangstas', ',', 'latinos', ',', 'christians', ',', 'italians', ',', 'irish', 'and', 'more', '....', 'so', 'scuffles', ',', 'death', 'stares', ',', 'dodgy', 'dealings', 'and', 'shady', 'agreements', 'are', 'never', 'far', 'away', '.', 'i', 'would', 'say', 'the', 'main', 'appeal', 'of', 'the', 'show', 'is', 'due', 'to', 'the', 'fact', 'that', 'it', 'goes', 'where', 'other', 'shows', 'would', \"n't\", 'dare', '.', 'forget', 'pretty', 'pictures', 'painted', 'for', 'mainstream', 'audiences', ',', 'forget', 'charm', ',', 'forget', 'romance', '...', 'oz', 'does', \"n't\", 'mess', 'around', '.', 'the', 'first', 'episode', 'i', 'ever', 'saw', 'struck', 'me', 'as', 'so', 'nasty', 'it', 'was', 'surreal', ',', 'i', 'could', \"n't\", 'say', 'i', 'was', 'ready', 'for', 'it', ',', 'but', 'as', 'i', 'watched', 'more', ',', 'i', 'developed', 'a', 'taste', 'for', 'oz', ',', 'and', 'got', 'accustomed', 'to', 'the', 'high', 'levels', 'of', 'graphic', 'violence', '.', 'not', 'just', 'violence', ',', 'but', 'injustice', '(', 'crooked', 'guards', 'who', \"'ll\", 'be', 'sold', 'out', 'for', 'a', 'nickel', ',', 'inmates', 'who', \"'ll\", 'kill', 'on', 'order', 'and', 'get', 'away', 'with', 'it', ',', 'well', 'mannered', ',', 'middle', 'class', 'inmates', 'being', 'turned', 'into', 'prison', 'bitches', 'due', 'to', 'their', 'lack', 'of', 'street', 'skills', 'or', 'prison', 'experience', ')', 'watching', 'oz', ',', 'you', 'may', 'become', 'comfortable', 'with', 'what', 'is', 'uncomfortable', 'viewing', '....', 'thats', 'if', 'you', 'can', 'get', 'in', 'touch', 'with', 'your', 'darker', 'side', '.']\n"
     ]
    }
   ],
   "source": [
    "# tokenize data\n",
    "full_data['tokenized'] = full_data['review'].apply(lambda x:word_tokenize(x))\n",
    "print(full_data['tokenized'][0])"
   ]
  },
  {
   "cell_type": "code",
   "execution_count": 353,
   "id": "1441b3bd-6952-400f-b082-041c97e8d717",
   "metadata": {},
   "outputs": [
    {
     "name": "stdout",
     "output_type": "stream",
     "text": [
      "['one', 'review', 'mention', 'watch', '1', 'oz', 'episod', 'hook', 'right', 'exactli', 'happen', 'first', 'thing', 'struck', 'oz', 'utal', 'unflinch', 'scene', 'violenc', 'set', 'right', 'word', 'go', 'trust', 'show', 'faint', 'heart', 'timid', 'show', 'pull', 'punch', 'regard', 'drug', 'sex', 'violenc', 'hardcor', 'classic', 'use', 'word', 'call', 'oz', 'nicknam', 'given', 'oswald', 'maximum', 'secur', 'state', 'penitentari', 'focus', 'mainli', 'emerald', 'citi', 'experiment', 'section', 'prison', 'cell', 'glass', 'front', 'face', 'inward', 'privaci', 'high', 'agenda', 'em', 'citi', 'home', 'mani', '..', 'aryan', 'muslim', 'gangsta', 'latino', 'christian', 'italian', 'irish', '....', 'scuffl', 'death', 'stare', 'dodgi', 'deal', 'shadi', 'agreement', 'never', 'far', 'away', 'would', 'say', 'main', 'appeal', 'show', 'due', 'fact', 'goe', 'show', 'would', 'dare', 'forget', 'pretti', 'pictur', 'paint', 'mainstream', 'audienc', 'forget', 'charm', 'forget', 'romanc', '...', 'oz', 'mess', 'around', 'first', 'episod', 'ever', 'saw', 'struck', 'nasti', 'surreal', 'could', 'say', 'readi', 'watch', 'develop', 'tast', 'oz', 'got', 'accustom', 'high', 'level', 'graphic', 'violenc', 'violenc', 'injustic', '(', 'crook', 'guard', 'sold', 'nickel', 'inmat', 'kill', 'order', 'get', 'away', 'well', 'manner', 'middl', 'class', 'inmat', 'turn', 'prison', 'bitch', 'due', 'lack', 'street', 'skill', 'prison', 'experi', ')', 'watch', 'oz', 'may', 'becom', 'comfort', 'uncomfort', 'view', '....', 'that', 'get', 'touch', 'darker', 'side']\n"
     ]
    }
   ],
   "source": [
    "# set stop words, using first article as a test\n",
    "stop_words = set(stopwords.words('english'))\n",
    "\n",
    "# lowecase removal example\n",
    "full_data['tokenized'][0] = [w.lower() for w in full_data['tokenized'][0]]\n",
    "\n",
    "# removing stopwords, example with the first review\n",
    "full_data['tokenized'][0] = [w for w in full_data['tokenized'][0] if not w in stop_words] \n",
    "full_data['tokenized'][0] = [w for w in full_data['tokenized'][0] if not w =='.']\n",
    "full_data['tokenized'][0] = [w for w in full_data['tokenized'][0] if not w == ',']\n",
    "full_data['tokenized'][0] = [w for w in full_data['tokenized'][0] if not w == \"n't\"]\n",
    "full_data['tokenized'][0] = [w for w in full_data['tokenized'][0] if not w == \"'ll\"]\n",
    "\n",
    "# stemming example\n",
    "porter = nltk.PorterStemmer()\n",
    "full_data['tokenized'][0]  = [porter.stem(w) for w in full_data['tokenized'][0]]\n",
    "\n",
    "print(full_data['tokenized'][0])"
   ]
  },
  {
   "cell_type": "code",
   "execution_count": 354,
   "id": "0e7cc09e-f808-4d5f-bd7f-a62708964077",
   "metadata": {},
   "outputs": [
    {
     "data": {
      "image/png": "[encoded data removed]",
      "text/plain": [
       "<Figure size 720x360 with 1 Axes>"
      ]
     },
     "metadata": {
      "needs_background": "light"
     },
     "output_type": "display_data"
    }
   ],
   "source": [
    "# join all text\n",
    "all_text = \" \".join(full_data['review'].astype(str))\n",
    "\n",
    "# tokenize all text\n",
    "all_text_tokenized = word_tokenize(all_text)\n",
    "\n",
    "# remove stop words\n",
    "filtered_tokens = [word for word in all_text_tokenized if word not in stop_words]\n",
    "\n",
    "# stem words\n",
    "porter = nltk.PorterStemmer()\n",
    "filtered_tokens  = [porter.stem(x) for x in filtered_tokens]\n",
    "\n",
    "# join the filtered tokens into a single string\n",
    "filtered_text = \" \".join(filtered_tokens)\n",
    "\n",
    "# wordcloud generation\n",
    "wordcloud = WordCloud(width=800, height=400, max_words=40, background_color = \"white\").generate(filtered_text)\n",
    "\n",
    "# plot the WordCloud\n",
    "plt.figure(figsize=(10, 5))\n",
    "plt.imshow(wordcloud, interpolation=\"bilinear\")\n",
    "plt.axis(\"off\")\n",
    "plt.show()"
   ]
  },
  {
   "cell_type": "markdown",
   "id": "6f87cb4d-05a3-4829-aff2-f1b3407392e9",
   "metadata": {},
   "source": [
    "### General TF-IDF Dictionary"
   ]
  },
  {
   "cell_type": "code",
   "execution_count": 411,
   "id": "8a253530-022c-45f4-b9e5-9c56b94b3fb3",
   "metadata": {},
   "outputs": [
    {
     "name": "stdout",
     "output_type": "stream",
     "text": [
      "(50000, 2000)\n"
     ]
    }
   ],
   "source": [
    "# TF-IDF\n",
    "vectorizer = TfidfVectorizer(max_features = 2000, stop_words='english') # max features: max_number of keywords to consider.\n",
    "X = vectorizer.fit_transform(full_data['review']) # tf-idf conversion\n",
    "feature_names = vectorizer.get_feature_names() # top 2000 terms (dictionary)\n",
    "print(X.shape)"
   ]
  },
  {
   "cell_type": "code",
   "execution_count": 412,
   "id": "f6275507-479f-4fc7-8fd4-957e71e79c2c",
   "metadata": {},
   "outputs": [
    {
     "name": "stdout",
     "output_type": "stream",
     "text": [
      "  (0, 1808)\t0.10252703711101174\n",
      "  (0, 1775)\t0.1105697221561603\n",
      "  (0, 1892)\t0.09321004143019412\n",
      "  (0, 595)\t0.08582041756149543\n",
      "  (0, 1607)\t0.11541693374580107\n",
      "  (0, 1688)\t0.09798807337084531\n",
      "  (0, 990)\t0.08681388433929843\n",
      "  (0, 1835)\t0.08851194271941382\n",
      "  (0, 301)\t0.09222141276510981\n",
      "  (0, 1141)\t0.0887817096832035\n",
      "  (0, 1252)\t0.08879352031493697\n",
      "  (0, 974)\t0.08556685560749269\n",
      "  (0, 777)\t0.11705801996451702\n",
      "  (0, 1027)\t0.11603948282689776\n",
      "  (0, 771)\t0.06384640747985053\n",
      "  (0, 1749)\t0.10397049761169333\n",
      "  (0, 453)\t0.10593216675935946\n",
      "  (0, 1925)\t0.07163880760069201\n",
      "  (0, 1419)\t0.10838053436424794\n",
      "  (0, 372)\t0.07911781832070525\n",
      "  (0, 1732)\t0.1183821195629724\n",
      "  (0, 1194)\t0.10972503731485306\n",
      "  (0, 1513)\t0.06528398706379836\n",
      "  (0, 1136)\t0.09688550710532583\n",
      "  (0, 488)\t0.059981290839883475\n",
      "  :\t:\n",
      "  (49999, 1020)\t0.13294050430526158\n",
      "  (49999, 1855)\t0.14809008397096168\n",
      "  (49999, 986)\t0.15460034029785846\n",
      "  (49999, 1510)\t0.15694484632625766\n",
      "  (49999, 265)\t0.15597015171297327\n",
      "  (49999, 1828)\t0.13071196962098353\n",
      "  (49999, 625)\t0.13544220850442273\n",
      "  (49999, 1659)\t0.13813839347004842\n",
      "  (49999, 1977)\t0.12580128338768815\n",
      "  (49999, 1178)\t0.2798588662293367\n",
      "  (49999, 766)\t0.07229752668709975\n",
      "  (49999, 180)\t0.09713859608235065\n",
      "  (49999, 1923)\t0.0927154531000334\n",
      "  (49999, 1177)\t0.38385344115694436\n",
      "  (49999, 272)\t0.09499657604453098\n",
      "  (49999, 1325)\t0.09607783147830604\n",
      "  (49999, 1928)\t0.08970964358467673\n",
      "  (49999, 1978)\t0.25408335420181993\n",
      "  (49999, 1514)\t0.10096266968983257\n",
      "  (49999, 629)\t0.24117717845399234\n",
      "  (49999, 832)\t0.13256954185192543\n",
      "  (49999, 1522)\t0.10460643561650289\n",
      "  (49999, 1049)\t0.1228298904696525\n",
      "  (49999, 962)\t0.06862497260055364\n",
      "  (49999, 1926)\t0.10593498981143118\n"
     ]
    }
   ],
   "source": [
    "print(X)"
   ]
  },
  {
   "cell_type": "code",
   "execution_count": 413,
   "id": "ce700317-c787-43b5-b27a-6331238cd8c2",
   "metadata": {},
   "outputs": [
    {
     "name": "stdout",
     "output_type": "stream",
     "text": [
      "['10', '100', '1010', '11', '12', '13', '15', '20', '30', '40', '50', '60', '70', '70s', '80', '80s', '810', '90', 'ability', 'able', 'absolute', 'absolutely', 'absurd', 'academy', 'accent', 'accept', 'accident', 'according', 'accurate', 'act', 'acted', 'acting', 'action', 'actions', 'actor', 'actors', 'actress', 'actresses', 'acts', 'actual', 'actually', 'adam', 'adaptation', 'add', 'added', 'addition', 'adds', 'admit', 'adult', 'adults', 'adventure', 'advice', 'affair', 'afraid', 'african', 'age', 'aged', 'agent', 'ages', 'ago', 'agree', 'ahead', 'ain', 'air', 'al', 'alan', 'alex', 'alice', 'alien', 'aliens', 'alive', 'allen', 'allow', 'allowed', 'allows', 'amazing', 'america', 'american', 'americans', 'amusing', 'ancient', 'andy', 'angel', 'angry', 'animal', 'animals', 'animated', 'animation', 'ann', 'anna', 'anne', 'annoying', 'answer', 'anthony', 'anti', 'anybody', 'anymore', 'apart', 'apartment', 'apparent', 'apparently', 'appeal', 'appear', 'appearance', 'appeared', 'appears', 'appreciate', 'approach', 'area', 'aren', 'army', 'art', 'arthur', 'artist', 'artistic', 'arts', 'asian', 'aside', 'ask', 'asked', 'asking', 'asks', 'aspect', 'aspects', 'ass', 'assume', 'atmosphere', 'attack', 'attempt', 'attempts', 'attention', 'attitude', 'attractive', 'audience', 'audiences', 'australian', 'author', 'available', 'average', 'avoid', 'award', 'awards', 'aware', 'away', 'awesome', 'awful', 'awkward', 'baby', 'background', 'bad', 'badly', 'ball', 'band', 'bank', 'bar', 'barbara', 'barely', 'based', 'basic', 'basically', 'batman', 'battle', 'bbc', 'beach', 'bear', 'beat', 'beautiful', 'beautifully', 'beauty', 'bed', 'began', 'begin', 'beginning', 'begins', 'behavior', 'believable', 'believe', 'believes', 'ben', 'best', 'better', 'big', 'bigger', 'biggest', 'billy', 'bit', 'bits', 'bizarre', 'black', 'blame', 'bland', 'blind', 'blonde', 'blood', 'bloody', 'blue', 'board', 'boat', 'bob']\n"
     ]
    }
   ],
   "source": [
    "print(feature_names[1:200])"
   ]
  },
  {
   "cell_type": "code",
   "execution_count": 359,
   "id": "cd871ad8-d638-4777-9063-b10893bd3065",
   "metadata": {},
   "outputs": [],
   "source": [
    "# (don't run this lol) export tf-idf matrix as a file\n",
    "\n",
    "dense_tfidf = X.toarray()\n",
    "\n",
    "# combine matrix w/ original dataset\n",
    "data_with_tfidf = df_with_tfidf = pd.concat([full_data, pd.DataFrame(dense_tfidf, columns = feature_names)], axis=1)\n",
    "\n",
    "# csv export\n",
    "data_with_tfidf.to_csv('tfidf_data.csv', index=False)"
   ]
  },
  {
   "cell_type": "code",
   "execution_count": 415,
   "id": "f380b3b5-9db9-4fc4-ae1b-14fe8ee39afb",
   "metadata": {},
   "outputs": [
    {
     "name": "stdout",
     "output_type": "stream",
     "text": [
      "[[0.         0.         0.         0.         0.         0.\n",
      "  0.         0.         0.         0.        ]\n",
      " [0.         0.         0.         0.         0.         0.\n",
      "  0.         0.         0.         0.        ]\n",
      " [0.         0.         0.         0.         0.         0.\n",
      "  0.         0.         0.         0.        ]\n",
      " [0.         0.10802464 0.         0.         0.         0.\n",
      "  0.         0.         0.         0.        ]\n",
      " [0.         0.         0.         0.         0.         0.\n",
      "  0.         0.         0.         0.        ]\n",
      " [0.         0.         0.         0.         0.         0.\n",
      "  0.         0.20267966 0.         0.        ]\n",
      " [0.         0.11515601 0.         0.         0.         0.\n",
      "  0.         0.         0.         0.        ]\n",
      " [0.         0.         0.         0.         0.         0.\n",
      "  0.         0.         0.         0.        ]\n",
      " [0.         0.         0.         0.         0.         0.\n",
      "  0.         0.         0.         0.        ]\n",
      " [0.         0.         0.         0.         0.         0.\n",
      "  0.         0.         0.         0.        ]]\n"
     ]
    }
   ],
   "source": [
    "# print a subset, this data is sparse which is helpful\n",
    "print(dense_tfidf[:10, :10])"
   ]
  },
  {
   "cell_type": "markdown",
   "id": "ba5b2522-c9be-4d16-93a9-da04c8a2269d",
   "metadata": {},
   "source": [
    "there are two different methods to consider:\n",
    "\n",
    "\n",
    "- finding the tf-idf dictionary on the general dataset, obtaining the 2000 highest tfidf words as the predictors\n",
    "- considering words from a premade dictionary, we calculate the tf-idfs for the positive negative sentiment lexicon to build our model"
   ]
  },
  {
   "cell_type": "markdown",
   "id": "c57c004b-59b2-4128-a550-aa7d684919ac",
   "metadata": {},
   "source": [
    "### Sentiment Lexicon TF-IDF Dictionary"
   ]
  },
  {
   "cell_type": "code",
   "execution_count": 381,
   "id": "6c1e3016-20f8-442a-afbd-2710cb7503cc",
   "metadata": {},
   "outputs": [
    {
     "name": "stdout",
     "output_type": "stream",
     "text": [
      "6789\n"
     ]
    }
   ],
   "source": [
    "# combine both positive and negative words into a single list\n",
    "all_lex = pos_words + neg_words\n",
    "print(len(all_lex))\n",
    "\n",
    "# create combined dictionary\n",
    "lex_dict = {index: key for index, key in enumerate(all_lex)}"
   ]
  },
  {
   "cell_type": "code",
   "execution_count": 380,
   "id": "49d75e85-866c-4a07-bd72-877ce5e913e2",
   "metadata": {},
   "outputs": [
    {
     "name": "stdout",
     "output_type": "stream",
     "text": [
      "(50000, 6786)\n"
     ]
    }
   ],
   "source": [
    "# TF-IDF\n",
    "terms = set(list(lex_dict.values())) # obtain all unique values\n",
    "vectorizer = TfidfVectorizer(stop_words = 'english', vocabulary = terms) \n",
    "X_lex = vectorizer.fit_transform(full_data['review']) # tf-idf conversion\n",
    "feature_names_lex = vectorizer.get_feature_names() \n",
    "print(X_lex.shape) # 3 common terms between the positive and negative lexicon"
   ]
  },
  {
   "cell_type": "code",
   "execution_count": 418,
   "id": "c60a0fea-f163-43f8-b5b9-6d6208e94687",
   "metadata": {},
   "outputs": [
    {
     "name": "stdout",
     "output_type": "stream",
     "text": [
      "[  0.           0.           0.         ...   6.28005141   3.81024337\n",
      " 197.49939983]\n"
     ]
    }
   ],
   "source": [
    "# converting to dense array\n",
    "dense_lex = X_lex.toarray()\n",
    "print(dense_lex.sum(axis=0, dtype='float'))"
   ]
  },
  {
   "cell_type": "code",
   "execution_count": 419,
   "id": "5d9546a5-56f3-42bc-87b8-aeb55c57437e",
   "metadata": {},
   "outputs": [
    {
     "name": "stdout",
     "output_type": "stream",
     "text": [
      "(50000, 6786)\n"
     ]
    }
   ],
   "source": [
    "print(dense_lex.shape)"
   ]
  },
  {
   "cell_type": "code",
   "execution_count": 423,
   "id": "e6fdc8b6-066f-4c5d-9d0a-a5d7d384172f",
   "metadata": {},
   "outputs": [],
   "source": [
    "# (don't run this lol) export lexicon tf-idf matrix as a file\n",
    "\n",
    "# combine matrix w/ original dataset\n",
    "data_with_tfidf_lex =  pd.concat([full_data, pd.DataFrame(dense_lex, columns = feature_names_lex)], axis=1)\n",
    "\n",
    "# csv export\n",
    "data_with_tfidf_lex.to_csv('tfidf_data_lexicon.csv', index=False)"
   ]
  },
  {
   "cell_type": "markdown",
   "id": "3ff31ca1-53f5-47a0-8968-16fb30da46f5",
   "metadata": {
    "tags": []
   },
   "source": [
    "## Logistic Regression (No Dimensional Reduction)"
   ]
  },
  {
   "cell_type": "markdown",
   "id": "64f497fb-67e0-4f76-91b2-333db29adccf",
   "metadata": {},
   "source": [
    "### General TF-IDF"
   ]
  },
  {
   "cell_type": "code",
   "execution_count": 424,
   "id": "91830f23-ae00-4958-9c1a-06f9a69c3e7d",
   "metadata": {},
   "outputs": [
    {
     "name": "stdout",
     "output_type": "stream",
     "text": [
      "0    1\n",
      "1    1\n",
      "2    1\n",
      "3    0\n",
      "4    1\n",
      "Name: y, dtype: int64 \n",
      " 0    positive\n",
      "1    positive\n",
      "2    positive\n",
      "3    negative\n",
      "4    positive\n",
      "Name: sentiment, dtype: object\n",
      "(25000, 2000) (25000, 2000) (25000,) (25000,)\n"
     ]
    }
   ],
   "source": [
    "# convert labels into numeric\n",
    "label_mapping = {'positive': 1, 'negative': 0}\n",
    "full_data['y'] = [label_mapping[i] for i in full_data['sentiment']]\n",
    "print(full_data['y'].head(),'\\n',full_data['sentiment'].head())\n",
    "\n",
    "# train test split\n",
    "X_train, X_test, y_train, y_test = train_test_split(dense_tfidf, full_data['y'], test_size = 0.5, random_state = 42)\n",
    "\n",
    "# check split\n",
    "print(X_train.shape, X_test.shape, y_train.shape, y_test.shape)"
   ]
  },
  {
   "cell_type": "code",
   "execution_count": 425,
   "id": "b14c37e0-2f0b-48ab-8a6c-8b86fdc64d8f",
   "metadata": {},
   "outputs": [
    {
     "name": "stdout",
     "output_type": "stream",
     "text": [
      "Accuracy: 0.8736\n",
      "Classification Report:\n",
      "              precision    recall  f1-score   support\n",
      "\n",
      "           0       0.88      0.86      0.87     12483\n",
      "           1       0.86      0.89      0.88     12517\n",
      "\n",
      "    accuracy                           0.87     25000\n",
      "   macro avg       0.87      0.87      0.87     25000\n",
      "weighted avg       0.87      0.87      0.87     25000\n",
      "\n"
     ]
    }
   ],
   "source": [
    "# initialize model\n",
    "model = LogisticRegression()\n",
    "\n",
    "# fit logistic regression model\n",
    "model.fit(X_train, y_train)\n",
    "\n",
    "# predict testing data\n",
    "y_pred = model.predict(X_test)\n",
    "\n",
    "# model accuracy\n",
    "accuracy = accuracy_score(y_test, y_pred)\n",
    "print(f\"Accuracy: {accuracy}\")\n",
    "\n",
    "print(\"Classification Report:\")\n",
    "print(classification_report(y_test, y_pred))"
   ]
  },
  {
   "cell_type": "markdown",
   "id": "4651672c-952e-4bbd-bdef-9b022e137639",
   "metadata": {},
   "source": [
    "### Sentiment Lexicon TF-IDF"
   ]
  },
  {
   "cell_type": "code",
   "execution_count": 388,
   "id": "7c841a17-b141-4e39-a087-30101afb8b7c",
   "metadata": {},
   "outputs": [
    {
     "name": "stdout",
     "output_type": "stream",
     "text": [
      "(25000, 6786) (25000, 6786) (25000,) (25000,)\n"
     ]
    }
   ],
   "source": [
    "# train test split\n",
    "X_lex_train, X_lex_test, y_lex_train, y_lex_test = train_test_split(dense_lex, full_data['y'], test_size = 0.5, random_state = 42)\n",
    "\n",
    "# check split\n",
    "print(X_lex_train.shape, X_lex_test.shape, y_lex_train.shape, y_lex_test.shape)"
   ]
  },
  {
   "cell_type": "code",
   "execution_count": 441,
   "id": "6e39dd78-8cbb-4627-a49b-e1c1f33a5431",
   "metadata": {},
   "outputs": [
    {
     "name": "stdout",
     "output_type": "stream",
     "text": [
      "Accuracy: 0.8544\n",
      "Classification Report:\n",
      "              precision    recall  f1-score   support\n",
      "\n",
      "           0       0.87      0.84      0.85     12483\n",
      "           1       0.84      0.87      0.86     12517\n",
      "\n",
      "    accuracy                           0.85     25000\n",
      "   macro avg       0.85      0.85      0.85     25000\n",
      "weighted avg       0.85      0.85      0.85     25000\n",
      "\n"
     ]
    }
   ],
   "source": [
    "# initialize model\n",
    "model = LogisticRegression()\n",
    "\n",
    "# fit logistic regression model\n",
    "model.fit(X_lex_train, y_lex_train)\n",
    "\n",
    "# predict testing data\n",
    "y_lex_pred = model.predict(X_lex_test)\n",
    "\n",
    "# model accuracy\n",
    "accuracy = accuracy_score(y_lex_test, y_lex_pred)\n",
    "print(f\"Accuracy: {accuracy}\")\n",
    "\n",
    "print(\"Classification Report:\")\n",
    "print(classification_report(y_lex_test, y_lex_pred))"
   ]
  },
  {
   "cell_type": "markdown",
   "id": "977882e4-87b3-419b-a004-5cf34b050793",
   "metadata": {},
   "source": [
    "We see a fairly strong testing accuracy with both of our logistic regression model. There are many other models to consider, each with potentially varying dergees of success, including using dimensionality reduction techniques:\n",
    "- KNN \n",
    "- Random Forests\n",
    "- LDA and QDA\n",
    "- Logistic Regression (with PCA)"
   ]
  },
  {
   "cell_type": "markdown",
   "id": "6a990e43-b426-4063-9c7b-2e5b1d06a3f3",
   "metadata": {
    "tags": []
   },
   "source": [
    "## Principal Component Analysis"
   ]
  },
  {
   "cell_type": "markdown",
   "id": "71b7d51a-bfdf-4bcc-8b9b-e187df8444fa",
   "metadata": {},
   "source": [
    "### PCA with our general matrix"
   ]
  },
  {
   "cell_type": "code",
   "execution_count": 426,
   "id": "216a8197-56a0-4a7e-858d-01e92923c316",
   "metadata": {},
   "outputs": [],
   "source": [
    "# import PCA and SVD\n",
    "U,S,VT = np.linalg.svd(X_train, full_matrices=False)\n",
    "U_test,S_test,VT_test = np.linalg.svd(X_test, full_matrices=False)"
   ]
  },
  {
   "cell_type": "code",
   "execution_count": 427,
   "id": "ffbd0aaf-a85a-4d31-ab15-8da1da950916",
   "metadata": {},
   "outputs": [
    {
     "name": "stdout",
     "output_type": "stream",
     "text": [
      "(25000, 2000) (2000,) (2000, 2000)\n"
     ]
    }
   ],
   "source": [
    "print(U.shape, S.shape, VT.shape)"
   ]
  },
  {
   "cell_type": "code",
   "execution_count": 428,
   "id": "0529fcf0-e2d4-41f0-a006-a99dd609fe3e",
   "metadata": {},
   "outputs": [
    {
     "name": "stdout",
     "output_type": "stream",
     "text": [
      "(25000, 2000) (2000,) (2000, 2000)\n"
     ]
    }
   ],
   "source": [
    "print(U_test.shape, S_test.shape, VT_test.shape)"
   ]
  },
  {
   "cell_type": "code",
   "execution_count": 451,
   "id": "762321b1-b589-44e0-b44f-8a0325507ea0",
   "metadata": {},
   "outputs": [
    {
     "data": {
      "image/png": "[encoded data removed]",
      "text/plain": [
       "<Figure size 720x360 with 1 Axes>"
      ]
     },
     "metadata": {
      "needs_background": "light"
     },
     "output_type": "display_data"
    }
   ],
   "source": [
    "plt.figure(figsize=(10, 5))\n",
    "plt.plot(S,'bo')\n",
    "plt.title('Singular Values (General TF-IDF) Dictionary')\n",
    "plt.ylabel(\"Singular Value Importance\")\n",
    "plt.xlabel(\"Singular Value Number\")\n",
    "ax = plt.gca()\n",
    "ax.set_xlim([0, 700])\n",
    "plt.show()"
   ]
  },
  {
   "cell_type": "code",
   "execution_count": 430,
   "id": "d849e112-9767-42dd-a36f-dd09150fd1d1",
   "metadata": {},
   "outputs": [
    {
     "data": {
      "text/plain": [
       "array([36.42387667, 15.3931341 , 11.31848546, 10.68512856,  9.52027181,\n",
       "        9.38133469,  8.84053997,  8.75790535,  8.51124784,  8.3460202 ,\n",
       "        8.09567511,  7.99767251,  7.89324196,  7.82994814,  7.73215981,\n",
       "        7.63076213,  7.53947699,  7.40590034,  7.32775534,  7.28666889])"
      ]
     },
     "execution_count": 430,
     "metadata": {},
     "output_type": "execute_result"
    }
   ],
   "source": [
    "# checking our SVs\n",
    "S[0:20]"
   ]
  },
  {
   "cell_type": "code",
   "execution_count": 431,
   "id": "02405bc2-c2b9-4944-bf74-c07cc2fbdc4c",
   "metadata": {},
   "outputs": [
    {
     "name": "stdout",
     "output_type": "stream",
     "text": [
      "[0.05306795165992505, 0.06254589475420666, 0.0676702192815992, 0.07223709817402243, 0.07586252118863535, 0.0793828988112064, 0.08250910468967168, 0.08557714093205328, 0.08847479452678077]\n"
     ]
    }
   ],
   "source": [
    "variance = []\n",
    "for i in range(0,2001):\n",
    "    variance.append(np.sum(S[0:i]**2)/np.sum(S**2))\n",
    "print(variance[1:10])"
   ]
  },
  {
   "cell_type": "code",
   "execution_count": 432,
   "id": "5914ebdd-f596-4bc9-b1fc-86e54ca5d2c8",
   "metadata": {},
   "outputs": [
    {
     "data": {
      "image/png": "[encoded data removed]",
      "text/plain": [
       "<Figure size 720x360 with 1 Axes>"
      ]
     },
     "metadata": {
      "needs_background": "light"
     },
     "output_type": "display_data"
    }
   ],
   "source": [
    "plt.figure(figsize=(10, 5))\n",
    "plt.plot(variance)\n",
    "plt.axhline(y = 0.8, color='r', linestyle='-')\n",
    "plt.title('Principal Component Variance')\n",
    "plt.ylabel(\"Variance\")\n",
    "plt.xlabel(\"Principal Component Number\")\n",
    "plt.show()"
   ]
  },
  {
   "cell_type": "markdown",
   "id": "cba25492-3578-42a0-9c6a-e82467478ec7",
   "metadata": {},
   "source": [
    "### PCA with our Sentiment Lexicon Matrix"
   ]
  },
  {
   "cell_type": "code",
   "execution_count": null,
   "id": "d40cfaae-bfd4-43b8-8191-1a4c5e88402d",
   "metadata": {},
   "outputs": [],
   "source": [
    "# run PCA\n",
    "U_lex,S_lex,VT_lex = np.linalg.svd(dense_lex, full_matrices=False)\n",
    "# U_lex_test,S_lex_test,VT_lex_test = np.linalg.svd(X_lex_test, full_matrices=False)"
   ]
  },
  {
   "cell_type": "code",
   "execution_count": 2,
   "id": "1a352f92-bf1e-466e-967f-8f0aa9840811",
   "metadata": {
    "tags": []
   },
   "outputs": [
    {
     "ename": "NameError",
     "evalue": "name 'U_lex' is not defined",
     "output_type": "error",
     "traceback": [
      "\u001b[0;31m---------------------------------------------------------------------------\u001b[0m",
      "\u001b[0;31mNameError\u001b[0m                                 Traceback (most recent call last)",
      "\u001b[0;32m/var/folders/z4/1nckxbbs45q8z44xg1hvdp8c0000gn/T/ipykernel_30443/4282041748.py\u001b[0m in \u001b[0;36m<module>\u001b[0;34m\u001b[0m\n\u001b[1;32m      1\u001b[0m \u001b[0;31m# check dimensions\u001b[0m\u001b[0;34m\u001b[0m\u001b[0;34m\u001b[0m\u001b[0m\n\u001b[0;32m----> 2\u001b[0;31m \u001b[0mprint\u001b[0m\u001b[0;34m(\u001b[0m\u001b[0mU_lex\u001b[0m\u001b[0;34m.\u001b[0m\u001b[0mshape\u001b[0m\u001b[0;34m,\u001b[0m \u001b[0mS_lex\u001b[0m\u001b[0;34m.\u001b[0m\u001b[0mshape\u001b[0m\u001b[0;34m,\u001b[0m \u001b[0mVT_lex\u001b[0m\u001b[0;34m.\u001b[0m\u001b[0mshape\u001b[0m\u001b[0;34m)\u001b[0m\u001b[0;34m\u001b[0m\u001b[0;34m\u001b[0m\u001b[0m\n\u001b[0m",
      "\u001b[0;31mNameError\u001b[0m: name 'U_lex' is not defined"
     ]
    }
   ],
   "source": [
    "# check dimensions\n",
    "print(U_lex.shape, S_lex.shape, VT_lex.shape)"
   ]
  },
  {
   "cell_type": "code",
   "execution_count": 3,
   "id": "5f9066a2-e532-4016-b546-c5d9d6db762a",
   "metadata": {},
   "outputs": [
    {
     "ename": "NameError",
     "evalue": "name 'U_lex_test' is not defined",
     "output_type": "error",
     "traceback": [
      "\u001b[0;31m---------------------------------------------------------------------------\u001b[0m",
      "\u001b[0;31mNameError\u001b[0m                                 Traceback (most recent call last)",
      "\u001b[0;32m/var/folders/z4/1nckxbbs45q8z44xg1hvdp8c0000gn/T/ipykernel_30443/3916257405.py\u001b[0m in \u001b[0;36m<module>\u001b[0;34m\u001b[0m\n\u001b[0;32m----> 1\u001b[0;31m \u001b[0mprint\u001b[0m\u001b[0;34m(\u001b[0m\u001b[0mU_lex_test\u001b[0m\u001b[0;34m.\u001b[0m\u001b[0mshape\u001b[0m\u001b[0;34m,\u001b[0m \u001b[0mS_lex_test\u001b[0m\u001b[0;34m.\u001b[0m\u001b[0mshape\u001b[0m\u001b[0;34m,\u001b[0m \u001b[0mVT_lex_test\u001b[0m\u001b[0;34m.\u001b[0m\u001b[0mshape\u001b[0m\u001b[0;34m)\u001b[0m\u001b[0;34m\u001b[0m\u001b[0;34m\u001b[0m\u001b[0m\n\u001b[0m",
      "\u001b[0;31mNameError\u001b[0m: name 'U_lex_test' is not defined"
     ]
    }
   ],
   "source": [
    "print(U_lex_test.shape, S_lex_test.shape, VT_lex_test.shape)"
   ]
  },
  {
   "cell_type": "code",
   "execution_count": 405,
   "id": "d0e2e666-a795-47b9-8faa-62c6a5b528b0",
   "metadata": {},
   "outputs": [
    {
     "data": {
      "image/png": "[encoded data removed]",
      "text/plain": [
       "<Figure size 720x360 with 1 Axes>"
      ]
     },
     "metadata": {
      "needs_background": "light"
     },
     "output_type": "display_data"
    }
   ],
   "source": [
    "# plot the singular values\n",
    "plt.figure(figsize=(10, 5))\n",
    "plt.plot(S_lex,'bo')\n",
    "plt.title('Singular Values')\n",
    "plt.ylabel(\"Singular Value Importance\")\n",
    "plt.xlabel(\"Singular Value Number\")\n",
    "ax = plt.gca()\n",
    "ax.set_xlim([0, 2000])\n",
    "plt.show()"
   ]
  },
  {
   "cell_type": "code",
   "execution_count": 407,
   "id": "a500b39b-114f-4ed0-9d14-302ce1c43d7d",
   "metadata": {},
   "outputs": [
    {
     "name": "stdout",
     "output_type": "stream",
     "text": [
      "[0.03264200774127978, 0.04289946579574402, 0.050558218366440845, 0.057933469216088024, 0.06441031010971274, 0.07082181166980094, 0.07672878733686213, 0.08213402891455343, 0.08686880897381234]\n"
     ]
    }
   ],
   "source": [
    "variance_lex = []\n",
    "for i in range(0,6787):\n",
    "    variance_lex.append(np.sum(S_lex[0:i]**2)/np.sum(S_lex**2))\n",
    "print(variance_lex[1:10])"
   ]
  },
  {
   "cell_type": "code",
   "execution_count": 410,
   "id": "342b41d9-4044-4507-9654-c5194c4ee6b1",
   "metadata": {},
   "outputs": [
    {
     "data": {
      "image/png": "[encoded data removed]",
      "text/plain": [
       "<Figure size 720x360 with 1 Axes>"
      ]
     },
     "metadata": {
      "needs_background": "light"
     },
     "output_type": "display_data"
    }
   ],
   "source": [
    "# plot the cumulative variance\n",
    "plt.figure(figsize=(10, 5))\n",
    "plt.plot(variance_lex)\n",
    "plt.axhline(y = 0.8, color='r', linestyle='-')\n",
    "plt.title('Principal Component Variance')\n",
    "plt.ylabel(\"Variance\")\n",
    "plt.xlabel(\"Principal Component Number\")\n",
    "plt.show()"
   ]
  },
  {
   "cell_type": "markdown",
   "id": "c3518f14-6f36-4cb3-a5a3-e22908392e68",
   "metadata": {},
   "source": [
    "## Logistic Regression (with reduced dimensions)"
   ]
  },
  {
   "cell_type": "markdown",
   "id": "6f12a2ef-ae10-4727-a41b-66b1e3dc41ed",
   "metadata": {},
   "source": [
    "From our PCA analysis we see that in terms of explained variance, around 80% of it can be accounted for with around the first 1100 principal components, for both matrices conveniently. This would mean we would need to reduce our dimension by about 900 and 5600 respectively. Taking these principal components we can now perform logistic regression with reduced dimensions."
   ]
  },
  {
   "cell_type": "code",
   "execution_count": 219,
   "id": "528f9fb4-7168-4557-bd5b-0b9f04eb95a5",
   "metadata": {},
   "outputs": [
    {
     "data": {
      "text/plain": [
       "(25000, 1100)"
      ]
     },
     "execution_count": 219,
     "metadata": {},
     "output_type": "execute_result"
    }
   ],
   "source": [
    "# taking the first 1100 PCs \n",
    "X_PCA = X_train@VT[0:1100,:].T\n",
    "X_PCA.shape "
   ]
  },
  {
   "cell_type": "code",
   "execution_count": 434,
   "id": "4e4ed39a-58cd-4136-9b18-002d783daa1a",
   "metadata": {},
   "outputs": [
    {
     "data": {
      "text/plain": [
       "(25000, 1100)"
      ]
     },
     "execution_count": 434,
     "metadata": {},
     "output_type": "execute_result"
    }
   ],
   "source": [
    "X_lex_PCA = X_lex_train@VT_lex[0:1100,:].T\n",
    "X_lex_PCA.shape "
   ]
  },
  {
   "cell_type": "code",
   "execution_count": 435,
   "id": "74a37172-8296-4636-9d03-629ae92bf39f",
   "metadata": {},
   "outputs": [
    {
     "data": {
      "text/plain": [
       "(25000, 1100)"
      ]
     },
     "execution_count": 435,
     "metadata": {},
     "output_type": "execute_result"
    }
   ],
   "source": [
    "# taking the first 1100 PCs for testing data\n",
    "X_PCA_test = X_test@VT_test[0:1100,:].T\n",
    "X_PCA_test.shape"
   ]
  },
  {
   "cell_type": "code",
   "execution_count": 436,
   "id": "869621a3-93b6-4165-af79-bbd8ba3a9948",
   "metadata": {},
   "outputs": [
    {
     "data": {
      "text/plain": [
       "(25000, 1100)"
      ]
     },
     "execution_count": 436,
     "metadata": {},
     "output_type": "execute_result"
    }
   ],
   "source": [
    "X_lex_PCA_test = X_lex_test@VT_lex_test[0:1100,:].T\n",
    "X_lex_PCA_test.shape"
   ]
  },
  {
   "cell_type": "code",
   "execution_count": 437,
   "id": "68d9ec47-b582-4610-becc-aa38f4a3fb5e",
   "metadata": {},
   "outputs": [
    {
     "name": "stdout",
     "output_type": "stream",
     "text": [
      "Accuracy: 0.75232\n",
      "Classification Report:\n",
      "              precision    recall  f1-score   support\n",
      "\n",
      "           0       0.75      0.76      0.75     12483\n",
      "           1       0.76      0.75      0.75     12517\n",
      "\n",
      "    accuracy                           0.75     25000\n",
      "   macro avg       0.75      0.75      0.75     25000\n",
      "weighted avg       0.75      0.75      0.75     25000\n",
      "\n"
     ]
    }
   ],
   "source": [
    "# initialize model\n",
    "model = LogisticRegression()\n",
    "\n",
    "# fit logistic regression model\n",
    "model.fit(X_PCA, y_train)\n",
    "\n",
    "# predict testing data\n",
    "y_pred = model.predict(X_PCA_test)\n",
    "\n",
    "# model accuracy\n",
    "accuracy = accuracy_score(y_test, y_pred)\n",
    "print(f\"Accuracy: {accuracy}\")\n",
    "\n",
    "print(\"Classification Report:\")\n",
    "print(classification_report(y_test, y_pred))"
   ]
  },
  {
   "cell_type": "code",
   "execution_count": 442,
   "id": "189aaec3-870c-4b1e-86d3-d4486dae99dd",
   "metadata": {},
   "outputs": [
    {
     "name": "stdout",
     "output_type": "stream",
     "text": [
      "Accuracy: 0.384\n",
      "Classification Report:\n",
      "              precision    recall  f1-score   support\n",
      "\n",
      "           0       0.40      0.44      0.42     12483\n",
      "           1       0.37      0.33      0.35     12517\n",
      "\n",
      "    accuracy                           0.38     25000\n",
      "   macro avg       0.38      0.38      0.38     25000\n",
      "weighted avg       0.38      0.38      0.38     25000\n",
      "\n"
     ]
    }
   ],
   "source": [
    "# initialize model\n",
    "model = LogisticRegression()\n",
    "\n",
    "# fit logistic regression model\n",
    "model.fit(X_lex_PCA, y_lex_train)\n",
    "\n",
    "# predict testing data\n",
    "y_lex_pred = model.predict(X_lex_PCA_test)\n",
    "\n",
    "# model accuracy\n",
    "accuracy = accuracy_score(y_lex_test, y_lex_pred)\n",
    "print(f\"Accuracy: {accuracy}\")\n",
    "\n",
    "print(\"Classification Report:\")\n",
    "print(classification_report(y_lex_test, y_lex_pred))"
   ]
  },
  {
   "cell_type": "markdown",
   "id": "153dd3f4-c127-4bb7-9dc7-1251b3764c25",
   "metadata": {},
   "source": [
    "Obviously, we can't stop a certain amount of information from being loss byh reducing the dimensionality of our data. However, with our reduction we were able to still get a relatively strong testing accuracy and cut our computaional time significantly. Since the data is sparse enough to run a normal logistic regression without any dimensional reduction, a normal logistic regression is still a better model. However, this is a good practice to observe the tradeoff between information loss and computational efficiency."
   ]
  },
  {
   "cell_type": "markdown",
   "id": "a38d5e84-5045-46fe-be97-8594c8d6ed8b",
   "metadata": {},
   "source": [
    "### [IGNORE] Data Writing and Export"
   ]
  },
  {
   "cell_type": "code",
   "execution_count": 229,
   "id": "0f9a30bf-0a25-4863-a418-e498f26d512d",
   "metadata": {},
   "outputs": [],
   "source": [
    "# export reduced train and test data\n",
    "\n",
    "# train \n",
    "df_train_pca = pd.DataFrame(X_PCA)\n",
    "df_train_pca.to_csv('xtrain_pca.csv', index=False)\n",
    "\n",
    "# test \n",
    "df_test_pca = pd.DataFrame(X_PCA_test)\n",
    "df_test_pca.to_csv('xtest_pca.csv', index=False)"
   ]
  },
  {
   "cell_type": "code",
   "execution_count": 447,
   "id": "856b710c-4697-418f-b8f1-7bc0714e4142",
   "metadata": {},
   "outputs": [],
   "source": [
    "# export sentiment lexicon reduced train and test data\n",
    "\n",
    "# train \n",
    "df_train_lex_pca = pd.DataFrame(X_lex_PCA)\n",
    "df_train_lex_pca.to_csv('xtrain_lex_pca.csv', index=False)\n",
    "\n",
    "# test \n",
    "df_test_lex_pca = pd.DataFrame(X_lex_PCA_test)\n",
    "df_test_lex_pca.to_csv('xtest_lex_pca.csv', index=False)"
   ]
  },
  {
   "cell_type": "code",
   "execution_count": 232,
   "id": "02c7328e-ba16-45bf-aeb2-c630aa517378",
   "metadata": {},
   "outputs": [],
   "source": [
    "# exporting labels\n",
    "\n",
    "# train \n",
    "df_train_labels = pd.DataFrame(y_train)\n",
    "df_train_labels.to_csv('y_train', index=False)\n",
    "\n",
    "# test\n",
    "df_test_labels = pd.DataFrame(y_test)\n",
    "df_test_labels.to_csv('y_test', index=False)"
   ]
  },
  {
   "cell_type": "code",
   "execution_count": 448,
   "id": "90869d4a-87e4-4710-bec9-a2517363cfc7",
   "metadata": {},
   "outputs": [],
   "source": [
    "# exporting labels for sentiment lexicon data\n",
    "\n",
    "# train \n",
    "df_train_lex_labels = pd.DataFrame(y_lex_train)\n",
    "df_train_lex_labels.to_csv('y_lex_train', index=False)\n",
    "\n",
    "# test\n",
    "df_test_lex_labels = pd.DataFrame(y_lex_test)\n",
    "df_test_lex_labels.to_csv('y_lex_test', index=False)"
   ]
  },
  {
   "cell_type": "markdown",
   "id": "f2a07d39-d169-4792-8b9e-2e3c8294236d",
   "metadata": {},
   "source": [
    "## K-Nearest Neighbors"
   ]
  },
  {
   "cell_type": "markdown",
   "id": "101a2e0b-6a9a-45ba-9717-033bbfc6cf84",
   "metadata": {},
   "source": [
    "### General Data"
   ]
  },
  {
   "cell_type": "code",
   "execution_count": 446,
   "id": "2ae5e873-179a-4bf5-8b24-0d2761a771f2",
   "metadata": {},
   "outputs": [
    {
     "name": "stdout",
     "output_type": "stream",
     "text": [
      "k-Nearest Neighbors:\n",
      "Accuracy: 0.63844\n",
      "Classification Report:\n",
      "              precision    recall  f1-score   support\n",
      "\n",
      "           0       0.89      0.32      0.47     12483\n",
      "           1       0.58      0.96      0.73     12517\n",
      "\n",
      "    accuracy                           0.64     25000\n",
      "   macro avg       0.74      0.64      0.60     25000\n",
      "weighted avg       0.74      0.64      0.60     25000\n",
      "\n"
     ]
    }
   ],
   "source": [
    "# choosing k = sqrt(N) which is about 157\n",
    "k_neighbors = 157\n",
    "\n",
    "# Create and train the KNN model\n",
    "knn_model = KNeighborsClassifier(n_neighbors=k_neighbors)\n",
    "knn_model.fit(X_PCA, y_train)\n",
    "\n",
    "# Predictions and evaluation for KNN\n",
    "knn_predictions = knn_model.predict(X_PCA_test)\n",
    "knn_accuracy = accuracy_score(y_test, knn_predictions)\n",
    "\n",
    "print(\"k-Nearest Neighbors:\")\n",
    "print(f\"Accuracy: {knn_accuracy}\")\n",
    "print(\"Classification Report:\")\n",
    "print(classification_report(y_test, knn_predictions))"
   ]
  },
  {
   "cell_type": "code",
   "execution_count": 450,
   "id": "b105d43d-d770-4e10-8519-a9af41fe3c4f",
   "metadata": {},
   "outputs": [
    {
     "name": "stdout",
     "output_type": "stream",
     "text": [
      "k-Nearest Neighbors:\n",
      "Accuracy: 0.78108\n",
      "Classification Report:\n",
      "              precision    recall  f1-score   support\n",
      "\n",
      "           0       0.80      0.75      0.77     12483\n",
      "           1       0.77      0.81      0.79     12517\n",
      "\n",
      "    accuracy                           0.78     25000\n",
      "   macro avg       0.78      0.78      0.78     25000\n",
      "weighted avg       0.78      0.78      0.78     25000\n",
      "\n"
     ]
    }
   ],
   "source": [
    "# reduced k but using full data\n",
    "k_neighbors = 50\n",
    "\n",
    "# Create and train the KNN model\n",
    "knn_model = KNeighborsClassifier(n_neighbors=k_neighbors)\n",
    "knn_model.fit(X_train, y_train)\n",
    "\n",
    "# Predictions and evaluation for KNN\n",
    "knn_predictions = knn_model.predict(X_test)\n",
    "knn_accuracy = accuracy_score(y_test, knn_predictions)\n",
    "\n",
    "print(\"k-Nearest Neighbors:\")\n",
    "print(f\"Accuracy: {knn_accuracy}\")\n",
    "print(\"Classification Report:\")\n",
    "print(classification_report(y_test, knn_predictions))"
   ]
  },
  {
   "cell_type": "markdown",
   "id": "6a7df2a7-a20a-4127-8d24-a38bb09f2cc8",
   "metadata": {},
   "source": [
    "### Sentiment Lexicon Data"
   ]
  },
  {
   "cell_type": "code",
   "execution_count": 449,
   "id": "ce9cc704-666a-46d9-b33a-dee5d563bb98",
   "metadata": {},
   "outputs": [
    {
     "name": "stdout",
     "output_type": "stream",
     "text": [
      "k-Nearest Neighbors:\n",
      "Accuracy: 0.47248\n",
      "Classification Report:\n",
      "              precision    recall  f1-score   support\n",
      "\n",
      "           0       0.12      0.01      0.02     12483\n",
      "           1       0.49      0.93      0.64     12517\n",
      "\n",
      "    accuracy                           0.47     25000\n",
      "   macro avg       0.30      0.47      0.33     25000\n",
      "weighted avg       0.30      0.47      0.33     25000\n",
      "\n"
     ]
    }
   ],
   "source": [
    "# choosing k = sqrt(N) which is about 157\n",
    "k_neighbors = 157\n",
    "\n",
    "# Create and train the KNN model\n",
    "knn_model = KNeighborsClassifier(n_neighbors=k_neighbors)\n",
    "knn_model.fit(X_lex_PCA, y_lex_train)\n",
    "\n",
    "# Predictions and evaluation for KNN\n",
    "knn_predictions = knn_model.predict(X_lex_PCA_test)\n",
    "knn_accuracy = accuracy_score(y_lex_test, knn_predictions)\n",
    "\n",
    "print(\"k-Nearest Neighbors:\")\n",
    "print(f\"Accuracy: {knn_accuracy}\")\n",
    "print(\"Classification Report:\")\n",
    "print(classification_report(y_lex_test, knn_predictions))"
   ]
  },
  {
   "cell_type": "markdown",
   "id": "f0dff979-afde-411c-b7fe-524684789fac",
   "metadata": {},
   "source": [
    "## K-fold Cross Validation"
   ]
  },
  {
   "cell_type": "code",
   "execution_count": 453,
   "id": "38dbdce9-f987-46fd-8763-0677199be79f",
   "metadata": {},
   "outputs": [],
   "source": [
    "from sklearn.model_selection import cross_val_score"
   ]
  },
  {
   "cell_type": "code",
   "execution_count": 456,
   "id": "281d6811-38c1-4699-bc38-a013da4e6d58",
   "metadata": {},
   "outputs": [
    {
     "data": {
      "image/png": "[encoded data removed]",
      "text/plain": [
       "<Figure size 432x288 with 1 Axes>"
      ]
     },
     "metadata": {
      "needs_background": "light"
     },
     "output_type": "display_data"
    }
   ],
   "source": [
    "# Example of cross-validation for k values from 1 to 20\n",
    "k_values = list(range(1, 21))\n",
    "cv_scores = []\n",
    "\n",
    "for k in k_values:\n",
    "    knn_model = KNeighborsClassifier(n_neighbors=k)\n",
    "    scores = cross_val_score(knn_model, dense_tfidf, full_data['y'], cv=5, scoring='accuracy')\n",
    "    cv_scores.append(scores.mean())\n",
    "\n",
    "# Plot the results to visualize performance vs. k\n",
    "\n",
    "plt.plot(k_values, cv_scores)\n",
    "plt.xlabel('k')\n",
    "plt.ylabel('Cross-Validation Accuracy')\n",
    "plt.show()"
   ]
  }
 ],
 "metadata": {
  "kernelspec": {
   "display_name": "Python 3 (ipykernel)",
   "language": "python",
   "name": "python3"
  },
  "language_info": {
   "codemirror_mode": {
    "name": "ipython",
    "version": 3
   },
   "file_extension": ".py",
   "mimetype": "text/x-python",
   "name": "python",
   "nbconvert_exporter": "python",
   "pygments_lexer": "ipython3",
   "version": "3.9.7"
  }
 },
 "nbformat": 4,
 "nbformat_minor": 5
}
