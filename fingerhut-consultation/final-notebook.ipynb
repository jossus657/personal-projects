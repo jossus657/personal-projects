{
 "cells": [
  {
   "cell_type": "markdown",
   "id": "0fadb520-d839-4d25-ad7c-4d6012263ba2",
   "metadata": {},
   "source": [
    "# STATS M148 Final Notebook\n",
    "\n",
    "This is our supplementary notebook file that is a repository of all the programming done for:\n",
    "\n",
    "- exploratory analysis\n",
    "- data cleaning and manipulation\n",
    "- data visualization\n",
    "- data modeling and analysis\n",
    "\n",
    "All programming in this file was done by Group 7: Joshua Susanto, Yash Panjwani, Aaron Tae, and Liaohan Wang"
   ]
  },
  {
   "cell_type": "code",
   "execution_count": 2,
   "id": "f5d40b2c-45f6-44fa-9463-fe199ca924b6",
   "metadata": {},
   "outputs": [],
   "source": [
    "# import necessary packages\n",
    "import pandas as pd\n",
    "import matplotlib.pyplot as plt\n",
    "from matplotlib.colors import ListedColormap\n",
    "import numpy as np\n",
    "from collections import Counter\n",
    "from statsmodels.graphics.mosaicplot import mosaic\n",
    "import ast\n",
    "import seaborn as sns\n",
    "from sklearn.linear_model import LogisticRegression, SGDClassifier\n",
    "from sklearn.model_selection import train_test_split\n",
    "from sklearn.metrics import classification_report, confusion_matrix, accuracy_score\n",
    "from sklearn.neighbors import KNeighborsClassifier\n",
    "from datetime import datetime\n",
    "from sklearn.decomposition import PCA\n",
    "import numpy.linalg as la\n",
    "from sklearn.cluster import KMeans"
   ]
  },
  {
   "cell_type": "markdown",
   "id": "236aa450-e685-4349-8fb4-b0e041e5fc6f",
   "metadata": {},
   "source": [
    "## Data Cleaning and Manipulation"
   ]
  },
  {
   "cell_type": "markdown",
   "id": "159cf669-cc54-4848-a0be-5050dd2200a7",
   "metadata": {},
   "source": [
    "**Note:** The programming in this section should not be ran, the results of this data cleaning have been exported into another file. The process of manipulating the entire dataset was extremely time consuming and computationally expensive. Our new dataset will be submitted as well for reproduction."
   ]
  },
  {
   "cell_type": "code",
   "execution_count": null,
   "id": "66605544-445e-4ef0-b0d0-778259ad9830",
   "metadata": {},
   "outputs": [],
   "source": [
    "# read dataset\n",
    "fingerhut_data = pd.read_csv('export.csv')"
   ]
  },
  {
   "cell_type": "code",
   "execution_count": null,
   "id": "703a2e74-f6a3-4d72-b95b-8b9aa125f516",
   "metadata": {},
   "outputs": [],
   "source": [
    "# first view\n",
    "fingerhut_data"
   ]
  },
  {
   "cell_type": "code",
   "execution_count": null,
   "id": "85cb11d6-6e61-4a8d-8432-abcff6f40be4",
   "metadata": {},
   "outputs": [],
   "source": [
    "# dropping the duplicate rows\n",
    "fingerhut_data = fingerhut_data.drop_duplicates(subset = ['customer_id', 'account_id', 'event_name', 'event_timestamp'])\n",
    "fingerhut_data = fingerhut_data.reset_index()"
   ]
  },
  {
   "cell_type": "code",
   "execution_count": null,
   "id": "b65db045-20a0-4ab1-bad9-62f27615e369",
   "metadata": {},
   "outputs": [],
   "source": [
    "# creating our wide data\n",
    "new_df = pd.DataFrame()\n",
    "event_names = list(set(fingerhut_data['event_name']))\n",
    "event_list = []\n",
    "for i in range(len(fingerhut_data)-1):\n",
    "    event_list.append(fingerhut_data['event_name'][i])\n",
    "        print(i)\n",
    "    if fingerhut_data['journey_steps_until_end'][i+1] == 1:\n",
    "        event_dict = dict.fromkeys(event_names, 0)\n",
    "        for j in range(len(event_list)):\n",
    "            event_dict[event_list[j]] += 1\n",
    "        new_df = new_df.append([[fingerhut_data['customer_id'][i], fingerhut_data['account_id'][i], event_list, list(event_dict.values()), \"promotion_created\" in event_list, \"order_shipped\" in event_list]])\n",
    "        event_list = []"
   ]
  },
  {
   "cell_type": "code",
   "execution_count": null,
   "id": "af0ee6a1-19d2-448c-a328-814e60671991",
   "metadata": {},
   "outputs": [],
   "source": [
    "# first look at new wide dataframe\n",
    "new_df"
   ]
  },
  {
   "cell_type": "code",
   "execution_count": null,
   "id": "38adb745-2a13-44be-aa24-e760b248c92d",
   "metadata": {},
   "outputs": [],
   "source": [
    "# rename columns\n",
    "new_df = new_df.rename(columns = {0:'customer_id', \n",
    "                                  1:'account_id', \n",
    "                                  2:'event_list', \n",
    "                                  3:'frequency_vector', \n",
    "                                  4:'recieved_promo', \n",
    "                                  5:'journey_successful'})"
   ]
  },
  {
   "cell_type": "code",
   "execution_count": null,
   "id": "9f6ec837-ce2b-41ba-9bd8-9f597959c556",
   "metadata": {},
   "outputs": [],
   "source": [
    "# export new dataframe\n",
    "new_df.to_csv('transformed_data.csv')"
   ]
  },
  {
   "cell_type": "markdown",
   "id": "502a358e-145e-4ac2-a9a6-a76a4dfc741a",
   "metadata": {},
   "source": [
    "## Exploratory Analysis "
   ]
  },
  {
   "cell_type": "code",
   "execution_count": 7,
   "id": "6a08bc3a-c02d-4bab-8fd3-a15a32484ba4",
   "metadata": {},
   "outputs": [
    {
     "data": {
      "text/html": [
       "<div>\n",
       "<style scoped>\n",
       "    .dataframe tbody tr th:only-of-type {\n",
       "        vertical-align: middle;\n",
       "    }\n",
       "\n",
       "    .dataframe tbody tr th {\n",
       "        vertical-align: top;\n",
       "    }\n",
       "\n",
       "    .dataframe thead th {\n",
       "        text-align: right;\n",
       "    }\n",
       "</style>\n",
       "<table border=\"1\" class=\"dataframe\">\n",
       "  <thead>\n",
       "    <tr style=\"text-align: right;\">\n",
       "      <th></th>\n",
       "      <th>Unnamed: 0</th>\n",
       "      <th>customer_id</th>\n",
       "      <th>account_id</th>\n",
       "      <th>event_list</th>\n",
       "      <th>frequency_vector</th>\n",
       "      <th>recieved_promo</th>\n",
       "      <th>journey_successful</th>\n",
       "    </tr>\n",
       "  </thead>\n",
       "  <tbody>\n",
       "    <tr>\n",
       "      <th>0</th>\n",
       "      <td>0</td>\n",
       "      <td>-784961211</td>\n",
       "      <td>1773350293</td>\n",
       "      <td>['application_web_approved', 'application_web_...</td>\n",
       "      <td>[0, 0, 0, 0, 0, 0, 0, 3, 0, 1, 0, 0, 0, 0, 0, ...</td>\n",
       "      <td>False</td>\n",
       "      <td>False</td>\n",
       "    </tr>\n",
       "    <tr>\n",
       "      <th>1</th>\n",
       "      <td>0</td>\n",
       "      <td>15849251</td>\n",
       "      <td>383997507</td>\n",
       "      <td>['browse_products', 'browse_products', 'browse...</td>\n",
       "      <td>[0, 0, 66, 0, 0, 0, 0, 5, 0, 1, 0, 0, 0, 6, 0,...</td>\n",
       "      <td>True</td>\n",
       "      <td>False</td>\n",
       "    </tr>\n",
       "    <tr>\n",
       "      <th>2</th>\n",
       "      <td>0</td>\n",
       "      <td>155529381</td>\n",
       "      <td>1786111954</td>\n",
       "      <td>['campaign_click', 'application_web_approved',...</td>\n",
       "      <td>[0, 0, 0, 0, 0, 0, 0, 1, 0, 1, 0, 0, 0, 0, 0, ...</td>\n",
       "      <td>False</td>\n",
       "      <td>False</td>\n",
       "    </tr>\n",
       "    <tr>\n",
       "      <th>3</th>\n",
       "      <td>0</td>\n",
       "      <td>-1697747935</td>\n",
       "      <td>-1016455199</td>\n",
       "      <td>['application_web_view', 'application_web_view...</td>\n",
       "      <td>[0, 0, 0, 0, 0, 0, 0, 11, 0, 1, 0, 0, 0, 0, 0,...</td>\n",
       "      <td>True</td>\n",
       "      <td>False</td>\n",
       "    </tr>\n",
       "    <tr>\n",
       "      <th>4</th>\n",
       "      <td>0</td>\n",
       "      <td>-986357645</td>\n",
       "      <td>1289564882</td>\n",
       "      <td>['application_web_approved', 'browse_products'...</td>\n",
       "      <td>[0, 0, 1, 0, 0, 0, 0, 1, 0, 1, 0, 0, 0, 0, 0, ...</td>\n",
       "      <td>False</td>\n",
       "      <td>False</td>\n",
       "    </tr>\n",
       "  </tbody>\n",
       "</table>\n",
       "</div>"
      ],
      "text/plain": [
       "   Unnamed: 0  customer_id  account_id  \\\n",
       "0           0   -784961211  1773350293   \n",
       "1           0     15849251   383997507   \n",
       "2           0    155529381  1786111954   \n",
       "3           0  -1697747935 -1016455199   \n",
       "4           0   -986357645  1289564882   \n",
       "\n",
       "                                          event_list  \\\n",
       "0  ['application_web_approved', 'application_web_...   \n",
       "1  ['browse_products', 'browse_products', 'browse...   \n",
       "2  ['campaign_click', 'application_web_approved',...   \n",
       "3  ['application_web_view', 'application_web_view...   \n",
       "4  ['application_web_approved', 'browse_products'...   \n",
       "\n",
       "                                    frequency_vector  recieved_promo  \\\n",
       "0  [0, 0, 0, 0, 0, 0, 0, 3, 0, 1, 0, 0, 0, 0, 0, ...           False   \n",
       "1  [0, 0, 66, 0, 0, 0, 0, 5, 0, 1, 0, 0, 0, 6, 0,...            True   \n",
       "2  [0, 0, 0, 0, 0, 0, 0, 1, 0, 1, 0, 0, 0, 0, 0, ...           False   \n",
       "3  [0, 0, 0, 0, 0, 0, 0, 11, 0, 1, 0, 0, 0, 0, 0,...            True   \n",
       "4  [0, 0, 1, 0, 0, 0, 0, 1, 0, 1, 0, 0, 0, 0, 0, ...           False   \n",
       "\n",
       "   journey_successful  \n",
       "0               False  \n",
       "1               False  \n",
       "2               False  \n",
       "3               False  \n",
       "4               False  "
      ]
     },
     "execution_count": 7,
     "metadata": {},
     "output_type": "execute_result"
    }
   ],
   "source": [
    "# read new dataset \n",
    "data = pd.read_csv('transformed_data.csv')\n",
    "data.head()"
   ]
  },
  {
   "cell_type": "code",
   "execution_count": 13,
   "id": "558e1c95-d0dd-4f61-a6ed-55c9220e12b5",
   "metadata": {},
   "outputs": [],
   "source": [
    "event_order = ['catalog_(email)_(experian)',\n",
    " 'pre-application_(3rd_party_affiliates)',\n",
    " 'browse_products',\n",
    " 'application_phone_pending',\n",
    " 'application_phone_declined',\n",
    " 'begin_checkout',\n",
    " 'campaignemail_clicked',\n",
    " 'application_web_view',\n",
    " 'place_order_web',\n",
    " 'application_web_submit',\n",
    " 'fingerhut_university',\n",
    " 'place_order_phone',\n",
    " 'account_downpaymentreceived',\n",
    " 'view_cart',\n",
    " 'order_shipped',\n",
    " 'application_phone_approved',\n",
    " 'application_web_declined',\n",
    " 'place_downpayment',\n",
    " 'application_web_pending',\n",
    " 'site_registration',\n",
    " 'catalog_(mail)',\n",
    " 'campaign_click',\n",
    " 'add_to_cart',\n",
    " 'promotion_created',\n",
    " 'account_downpaymentcleared',\n",
    " 'account_activitation',\n",
    " 'customer_requested_catalog_(digital)',\n",
    " 'application_web_approved']"
   ]
  },
  {
   "cell_type": "markdown",
   "id": "e31a0e82-35a9-4a55-8b82-150a16ca4cd0",
   "metadata": {},
   "source": [
    "### Promotion Exploration"
   ]
  },
  {
   "cell_type": "code",
   "execution_count": 9,
   "id": "2a7149f9-4840-4b66-a5ed-a049720b9a5f",
   "metadata": {},
   "outputs": [
    {
     "data": {
      "text/plain": [
       "0.7535353267663959"
      ]
     },
     "execution_count": 9,
     "metadata": {},
     "output_type": "execute_result"
    }
   ],
   "source": [
    "promo_account_id = data[data['recieved_promo']]\n",
    "promo_account_id.size / data.size"
   ]
  },
  {
   "cell_type": "markdown",
   "id": "430d22e2-8dc9-40c9-b319-e81833f31fd3",
   "metadata": {},
   "source": [
    "Around 75.3% of accounts have every recieved promotion"
   ]
  },
  {
   "cell_type": "code",
   "execution_count": 10,
   "id": "2403a09a-24cc-4e1f-b810-015ceb1b03de",
   "metadata": {},
   "outputs": [
    {
     "data": {
      "text/plain": [
       "0.24646467323360408"
      ]
     },
     "execution_count": 10,
     "metadata": {},
     "output_type": "execute_result"
    }
   ],
   "source": [
    "nopromo_account_id = data[-data['recieved_promo']]\n",
    "nopromo_account_id.size / data.size"
   ]
  },
  {
   "cell_type": "markdown",
   "id": "82b733e8-e94f-4f1b-bbb9-49f5bd414d50",
   "metadata": {},
   "source": [
    "Around 24.7% of accounts have never recieved promotion"
   ]
  },
  {
   "cell_type": "code",
   "execution_count": 11,
   "id": "e3f1a631-51ef-41bc-9f88-e855cb518322",
   "metadata": {},
   "outputs": [
    {
     "data": {
      "text/plain": [
       "0.17453884328355357"
      ]
     },
     "execution_count": 11,
     "metadata": {},
     "output_type": "execute_result"
    }
   ],
   "source": [
    "promo_sucess = promo_account_id[promo_account_id['journey_successful']]\n",
    "promo_sucess.size / promo_account_id.size"
   ]
  },
  {
   "cell_type": "markdown",
   "id": "e37b9d6f-779d-45ae-aa4d-86cd5bdb4624",
   "metadata": {},
   "source": [
    "Around 17.4% of accounts that ever received promotion completed their orders"
   ]
  },
  {
   "cell_type": "code",
   "execution_count": 12,
   "id": "60026381-cb4c-4182-a492-04ac80ac2000",
   "metadata": {},
   "outputs": [
    {
     "data": {
      "text/plain": [
       "0.22086932130293008"
      ]
     },
     "execution_count": 12,
     "metadata": {},
     "output_type": "execute_result"
    }
   ],
   "source": [
    "nopromo_sucess = nopromo_account_id[nopromo_account_id['journey_successful']]\n",
    "nopromo_sucess.size / nopromo_account_id.size"
   ]
  },
  {
   "cell_type": "markdown",
   "id": "384aea2d-88f2-4b21-bb73-894f7b5cc1ea",
   "metadata": {},
   "source": [
    "Around 22% of account that never received promotion completed their orders"
   ]
  },
  {
   "cell_type": "code",
   "execution_count": 13,
   "id": "fd136221-7db9-45a9-929c-a62c65305ce3",
   "metadata": {},
   "outputs": [
    {
     "data": {
      "text/html": [
       "<div>\n",
       "<style scoped>\n",
       "    .dataframe tbody tr th:only-of-type {\n",
       "        vertical-align: middle;\n",
       "    }\n",
       "\n",
       "    .dataframe tbody tr th {\n",
       "        vertical-align: top;\n",
       "    }\n",
       "\n",
       "    .dataframe thead th {\n",
       "        text-align: right;\n",
       "    }\n",
       "</style>\n",
       "<table border=\"1\" class=\"dataframe\">\n",
       "  <thead>\n",
       "    <tr style=\"text-align: right;\">\n",
       "      <th>journey_successful</th>\n",
       "      <th>False</th>\n",
       "      <th>True</th>\n",
       "    </tr>\n",
       "    <tr>\n",
       "      <th>recieved_promo</th>\n",
       "      <th></th>\n",
       "      <th></th>\n",
       "    </tr>\n",
       "  </thead>\n",
       "  <tbody>\n",
       "    <tr>\n",
       "      <th>False</th>\n",
       "      <td>333316</td>\n",
       "      <td>94489</td>\n",
       "    </tr>\n",
       "    <tr>\n",
       "      <th>True</th>\n",
       "      <td>1079671</td>\n",
       "      <td>228290</td>\n",
       "    </tr>\n",
       "  </tbody>\n",
       "</table>\n",
       "</div>"
      ],
      "text/plain": [
       "journey_successful    False    True\n",
       "recieved_promo                     \n",
       "False                333316   94489\n",
       "True                1079671  228290"
      ]
     },
     "execution_count": 13,
     "metadata": {},
     "output_type": "execute_result"
    }
   ],
   "source": [
    "crosstable = pd.crosstab(data['recieved_promo'], data['journey_successful'])\n",
    "crosstable = pd.DataFrame(crosstable)\n",
    "crosstable"
   ]
  },
  {
   "cell_type": "code",
   "execution_count": 14,
   "id": "e0192d2d-b39a-4a79-a1c7-27bd528a3b25",
   "metadata": {},
   "outputs": [
    {
     "data": {
      "image/png": "[encoded data removed]",
      "text/plain": [
       "<Figure size 432x288 with 3 Axes>"
      ]
     },
     "metadata": {
      "needs_background": "light"
     },
     "output_type": "display_data"
    }
   ],
   "source": [
    "corsstable_data = {('promo', 'success'): 228290, ('promo', 'unsuccess'): 1079671, ('nopromo', 'success'): 94489, ('nopromo', 'unsuccess'): 333316}\n",
    "\n",
    "mosaic_plot = mosaic(corsstable_data, gap=0.01, title='Promotion Received Vs. Success Journey')\n",
    "\n",
    "# plt.savefig('Promotion Received Vs. Success Journey Mosaic Plot.png')\n",
    "plt.show()"
   ]
  },
  {
   "cell_type": "markdown",
   "id": "0acb12e7-6314-421b-b7da-63b92c851dfd",
   "metadata": {},
   "source": [
    "### Events Frequencies of All Promoted + Sucessful Accounts"
   ]
  },
  {
   "cell_type": "code",
   "execution_count": 15,
   "id": "0fadb4fc-618c-4aa9-9d6e-183a4739dd55",
   "metadata": {},
   "outputs": [],
   "source": [
    "promo_sucess_freq = np.zeros(28) # total 28 events\n",
    "for i in promo_sucess['frequency_vector'] :\n",
    "    i = ast.literal_eval(i)\n",
    "    promo_sucess_freq = promo_sucess_freq + np.array(i, dtype=float)"
   ]
  },
  {
   "cell_type": "code",
   "execution_count": 16,
   "id": "167dcb9b-3dba-409c-afea-4bbd0e7c189a",
   "metadata": {},
   "outputs": [
    {
     "data": {
      "text/plain": [
       "array([4.000000e+01, 2.101400e+04, 5.839203e+06, 0.000000e+00,\n",
       "       6.600000e+01, 9.061120e+05, 3.239770e+05, 8.988490e+05,\n",
       "       2.118690e+05, 1.983990e+05, 6.500000e+01, 2.627900e+04,\n",
       "       4.947000e+03, 2.163699e+06, 2.282900e+05, 4.134000e+03,\n",
       "       6.072000e+03, 2.791520e+05, 4.000000e+00, 2.815000e+03,\n",
       "       1.397960e+05, 1.353100e+05, 1.270003e+06, 8.494710e+05,\n",
       "       2.269480e+05, 2.288130e+05, 0.000000e+00, 2.252060e+05])"
      ]
     },
     "execution_count": 16,
     "metadata": {},
     "output_type": "execute_result"
    }
   ],
   "source": [
    "promo_sucess_freq"
   ]
  },
  {
   "cell_type": "code",
   "execution_count": 17,
   "id": "8990d2f7-8ce7-4c54-996e-c0a323a1de86",
   "metadata": {},
   "outputs": [
    {
     "data": {
      "text/plain": [
       "{'catalog_(email)_(experian)': 40.0,\n",
       " 'pre-application_(3rd_party_affiliates)': 21014.0,\n",
       " 'browse_products': 5839203.0,\n",
       " 'application_phone_pending': 0.0,\n",
       " 'application_phone_declined': 66.0,\n",
       " 'begin_checkout': 906112.0,\n",
       " 'campaignemail_clicked': 323977.0,\n",
       " 'application_web_view': 898849.0,\n",
       " 'place_order_web': 211869.0,\n",
       " 'application_web_submit': 198399.0,\n",
       " 'fingerhut_university': 65.0,\n",
       " 'place_order_phone': 26279.0,\n",
       " 'account_downpaymentreceived': 4947.0,\n",
       " 'view_cart': 2163699.0,\n",
       " 'order_shipped': 228290.0,\n",
       " 'application_phone_approved': 4134.0,\n",
       " 'application_web_declined': 6072.0,\n",
       " 'place_downpayment': 279152.0,\n",
       " 'application_web_pending': 4.0,\n",
       " 'site_registration': 2815.0,\n",
       " 'catalog_(mail)': 139796.0,\n",
       " 'campaign_click': 135310.0,\n",
       " 'add_to_cart': 1270003.0,\n",
       " 'promotion_created': 849471.0,\n",
       " 'account_downpaymentcleared': 226948.0,\n",
       " 'account_activitation': 228813.0,\n",
       " 'customer_requested_catalog_(digital)': 0.0,\n",
       " 'application_web_approved': 225206.0}"
      ]
     },
     "execution_count": 17,
     "metadata": {},
     "output_type": "execute_result"
    }
   ],
   "source": [
    "zip_promo_success = dict(zip(event_order, promo_sucess_freq))\n",
    "zip_promo_success"
   ]
  },
  {
   "cell_type": "code",
   "execution_count": 18,
   "id": "a8c53bdf-d84e-42f2-b1b2-1473d0edeea5",
   "metadata": {},
   "outputs": [
    {
     "data": {
      "image/png": "[encoded data removed]",
      "text/plain": [
       "<Figure size 432x288 with 1 Axes>"
      ]
     },
     "metadata": {
      "needs_background": "light"
     },
     "output_type": "display_data"
    }
   ],
   "source": [
    "zip_promo_success = dict(zip(event_order, promo_sucess_freq))\n",
    "\n",
    "events = range(1, len(zip_promo_success) + 1)\n",
    "\n",
    "sorted_data = sorted(zip(zip_promo_success.keys(), zip_promo_success.values()), key=lambda x: x[1], reverse=True)\n",
    "sorted_events, sorted_freq = zip(*sorted_data)\n",
    "\n",
    "plt.bar(events, sorted_freq)\n",
    "plt.xlabel('Event') \n",
    "plt.ylabel('Frequency')\n",
    "plt.title('Successful Promoted Journey Frequency')\n",
    "plt.xticks(events, sorted_events, rotation='vertical')  # Adjust rotation as needed\n",
    "\n",
    "# plt.savefig('Successful Promoted Journey Frequency.png')\n",
    "plt.show()"
   ]
  },
  {
   "cell_type": "markdown",
   "id": "8203aeac-25de-4195-9efb-08711cc7803b",
   "metadata": {},
   "source": [
    "### Events Frequencies of ALL Promoted + Unsucessful Accounts"
   ]
  },
  {
   "cell_type": "code",
   "execution_count": 19,
   "id": "b63a02f7-b4e8-46f1-9614-fe4e433a031a",
   "metadata": {},
   "outputs": [],
   "source": [
    "promo_unsucess = promo_account_id[-promo_account_id['journey_successful']]\n",
    "promo_unsucess_freq = np.zeros(28) # total 28 events\n",
    "for i in promo_unsucess['frequency_vector'] :\n",
    "    i = ast.literal_eval(i)\n",
    "    promo_unsucess_freq = promo_unsucess_freq + np.array(i, dtype=float)"
   ]
  },
  {
   "cell_type": "code",
   "execution_count": 20,
   "id": "e5e93ee7-de13-47b0-9f4f-0066a0ce41eb",
   "metadata": {},
   "outputs": [
    {
     "data": {
      "text/plain": [
       "array([4.1900000e+02, 9.9825000e+04, 1.3009333e+07, 0.0000000e+00,\n",
       "       2.3900000e+02, 1.5668180e+06, 1.1504880e+06, 4.0510320e+06,\n",
       "       3.7260000e+04, 8.8395900e+05, 8.2000000e+01, 1.6186000e+04,\n",
       "       1.2250000e+03, 3.8546320e+06, 0.0000000e+00, 1.6464000e+04,\n",
       "       3.1000000e+04, 2.5509000e+04, 4.8000000e+01, 1.3527000e+04,\n",
       "       2.0855440e+06, 6.6050100e+05, 2.5281320e+06, 6.0026730e+06,\n",
       "       1.0528000e+04, 7.6035000e+04, 2.0000000e+00, 1.0653140e+06])"
      ]
     },
     "execution_count": 20,
     "metadata": {},
     "output_type": "execute_result"
    }
   ],
   "source": [
    "promo_unsucess_freq"
   ]
  },
  {
   "cell_type": "code",
   "execution_count": 21,
   "id": "b30678d1-81dc-4e7e-a635-ad04810b4fb6",
   "metadata": {},
   "outputs": [
    {
     "data": {
      "image/png": "[encoded data removed]",
      "text/plain": [
       "<Figure size 432x288 with 1 Axes>"
      ]
     },
     "metadata": {
      "needs_background": "light"
     },
     "output_type": "display_data"
    }
   ],
   "source": [
    "zip_promo_unsuccess = dict(zip(event_order, promo_unsucess_freq))\n",
    "\n",
    "events = range(1, len(zip_promo_unsuccess) + 1)\n",
    "\n",
    "sorted_data2 = sorted(zip(zip_promo_unsuccess.keys(), zip_promo_unsuccess.values()), key=lambda x: x[1], reverse=True)\n",
    "sorted_events2, sorted_freq2 = zip(*sorted_data2)\n",
    "\n",
    "plt.bar(events, sorted_freq2)\n",
    "plt.xlabel('Event') \n",
    "plt.ylabel('Frequency')\n",
    "plt.title('Unsuccessful Promoted Journey Frequency')\n",
    "plt.xticks(events, sorted_events2, rotation='vertical')  # Adjust rotation as needed\n",
    "\n",
    "# plt.savefig('Unsuccessful Promoted Journey Frequency.png')\n",
    "plt.show()"
   ]
  },
  {
   "cell_type": "code",
   "execution_count": 22,
   "id": "1d19d588-a30e-47ba-8ec4-9bd3f9b903d7",
   "metadata": {},
   "outputs": [
    {
     "data": {
      "text/plain": [
       "{'catalog_(email)_(experian)': 419.0,\n",
       " 'pre-application_(3rd_party_affiliates)': 99825.0,\n",
       " 'browse_products': 13009333.0,\n",
       " 'application_phone_pending': 0.0,\n",
       " 'application_phone_declined': 239.0,\n",
       " 'begin_checkout': 1566818.0,\n",
       " 'campaignemail_clicked': 1150488.0,\n",
       " 'application_web_view': 4051032.0,\n",
       " 'place_order_web': 37260.0,\n",
       " 'application_web_submit': 883959.0,\n",
       " 'fingerhut_university': 82.0,\n",
       " 'place_order_phone': 16186.0,\n",
       " 'account_downpaymentreceived': 1225.0,\n",
       " 'view_cart': 3854632.0,\n",
       " 'order_shipped': 0.0,\n",
       " 'application_phone_approved': 16464.0,\n",
       " 'application_web_declined': 31000.0,\n",
       " 'place_downpayment': 25509.0,\n",
       " 'application_web_pending': 48.0,\n",
       " 'site_registration': 13527.0,\n",
       " 'catalog_(mail)': 2085544.0,\n",
       " 'campaign_click': 660501.0,\n",
       " 'add_to_cart': 2528132.0,\n",
       " 'promotion_created': 6002673.0,\n",
       " 'account_downpaymentcleared': 10528.0,\n",
       " 'account_activitation': 76035.0,\n",
       " 'customer_requested_catalog_(digital)': 2.0,\n",
       " 'application_web_approved': 1065314.0}"
      ]
     },
     "execution_count": 22,
     "metadata": {},
     "output_type": "execute_result"
    }
   ],
   "source": [
    "zip_promo_unsuccess"
   ]
  },
  {
   "cell_type": "markdown",
   "id": "9a518dab-88de-4b30-8009-f5e9b02ec91b",
   "metadata": {},
   "source": [
    "### Visualizing a Journey"
   ]
  },
  {
   "cell_type": "code",
   "execution_count": 23,
   "id": "47056b23-ca57-4873-8db8-6bebf4fe541c",
   "metadata": {},
   "outputs": [],
   "source": [
    "# a smaller sample of the original data that was provided in class\n",
    "df = pd.read_csv(\"even_smaller_sample.csv\")"
   ]
  },
  {
   "cell_type": "code",
   "execution_count": 24,
   "id": "78da81a3-1eef-4407-a411-379011f0a9d1",
   "metadata": {},
   "outputs": [
    {
     "data": {
      "text/html": [
       "<div>\n",
       "<style scoped>\n",
       "    .dataframe tbody tr th:only-of-type {\n",
       "        vertical-align: middle;\n",
       "    }\n",
       "\n",
       "    .dataframe tbody tr th {\n",
       "        vertical-align: top;\n",
       "    }\n",
       "\n",
       "    .dataframe thead th {\n",
       "        text-align: right;\n",
       "    }\n",
       "</style>\n",
       "<table border=\"1\" class=\"dataframe\">\n",
       "  <thead>\n",
       "    <tr style=\"text-align: right;\">\n",
       "      <th></th>\n",
       "      <th>customer_id</th>\n",
       "      <th>account_id</th>\n",
       "      <th>stage</th>\n",
       "      <th>ed_id</th>\n",
       "      <th>event_name</th>\n",
       "      <th>event_timestamp</th>\n",
       "      <th>journey_steps_until_end</th>\n",
       "      <th>journey_id</th>\n",
       "      <th>milestone_number</th>\n",
       "    </tr>\n",
       "  </thead>\n",
       "  <tbody>\n",
       "    <tr>\n",
       "      <th>0</th>\n",
       "      <td>278713037</td>\n",
       "      <td>-1812321640</td>\n",
       "      <td>Discover</td>\n",
       "      <td>2</td>\n",
       "      <td>campaign_click</td>\n",
       "      <td>2021-05-31 06:00:00</td>\n",
       "      <td>1</td>\n",
       "      <td>1.0</td>\n",
       "      <td>NaN</td>\n",
       "    </tr>\n",
       "    <tr>\n",
       "      <th>1</th>\n",
       "      <td>278713037</td>\n",
       "      <td>-1812321640</td>\n",
       "      <td>Apply for Credit</td>\n",
       "      <td>19</td>\n",
       "      <td>application_web_view</td>\n",
       "      <td>2021-05-31 23:11:03</td>\n",
       "      <td>2</td>\n",
       "      <td>1.0</td>\n",
       "      <td>NaN</td>\n",
       "    </tr>\n",
       "    <tr>\n",
       "      <th>2</th>\n",
       "      <td>278713037</td>\n",
       "      <td>-1812321640</td>\n",
       "      <td>Apply for Credit</td>\n",
       "      <td>3</td>\n",
       "      <td>application_web_submit</td>\n",
       "      <td>2021-05-31 23:11:51</td>\n",
       "      <td>3</td>\n",
       "      <td>1.0</td>\n",
       "      <td>NaN</td>\n",
       "    </tr>\n",
       "    <tr>\n",
       "      <th>3</th>\n",
       "      <td>278713037</td>\n",
       "      <td>-1812321640</td>\n",
       "      <td>Apply for Credit</td>\n",
       "      <td>19</td>\n",
       "      <td>application_web_view</td>\n",
       "      <td>2021-05-31 23:11:51</td>\n",
       "      <td>4</td>\n",
       "      <td>1.0</td>\n",
       "      <td>NaN</td>\n",
       "    </tr>\n",
       "    <tr>\n",
       "      <th>4</th>\n",
       "      <td>278713037</td>\n",
       "      <td>-1812321640</td>\n",
       "      <td>Apply for Credit</td>\n",
       "      <td>19</td>\n",
       "      <td>application_web_view</td>\n",
       "      <td>2021-05-31 23:11:51</td>\n",
       "      <td>5</td>\n",
       "      <td>1.0</td>\n",
       "      <td>NaN</td>\n",
       "    </tr>\n",
       "  </tbody>\n",
       "</table>\n",
       "</div>"
      ],
      "text/plain": [
       "   customer_id  account_id             stage  ed_id              event_name  \\\n",
       "0    278713037 -1812321640          Discover      2          campaign_click   \n",
       "1    278713037 -1812321640  Apply for Credit     19    application_web_view   \n",
       "2    278713037 -1812321640  Apply for Credit      3  application_web_submit   \n",
       "3    278713037 -1812321640  Apply for Credit     19    application_web_view   \n",
       "4    278713037 -1812321640  Apply for Credit     19    application_web_view   \n",
       "\n",
       "       event_timestamp  journey_steps_until_end  journey_id  milestone_number  \n",
       "0  2021-05-31 06:00:00                        1         1.0               NaN  \n",
       "1  2021-05-31 23:11:03                        2         1.0               NaN  \n",
       "2  2021-05-31 23:11:51                        3         1.0               NaN  \n",
       "3  2021-05-31 23:11:51                        4         1.0               NaN  \n",
       "4  2021-05-31 23:11:51                        5         1.0               NaN  "
      ]
     },
     "execution_count": 24,
     "metadata": {},
     "output_type": "execute_result"
    }
   ],
   "source": [
    "df.head()"
   ]
  },
  {
   "cell_type": "code",
   "execution_count": 25,
   "id": "18a228c8-60e1-433d-8b5a-50eef9540c67",
   "metadata": {},
   "outputs": [],
   "source": [
    "df = df.drop(columns = [\"milestone_number\"])"
   ]
  },
  {
   "cell_type": "code",
   "execution_count": 26,
   "id": "8ab413c0-a0e4-46ec-b4bb-cd04b6a43951",
   "metadata": {},
   "outputs": [],
   "source": [
    "ordered_accounts = df[df[\"ed_id\"] == 28][\"customer_id\"].unique()\n",
    "ordered_df = df[df[\"customer_id\"].isin(ordered_accounts)]\n",
    "nonorder_df = df[~df[\"customer_id\"].isin(ordered_accounts)]"
   ]
  },
  {
   "cell_type": "code",
   "execution_count": 27,
   "id": "5b45f1e7-f3c2-43aa-a16b-542594532c87",
   "metadata": {},
   "outputs": [
    {
     "data": {
      "text/plain": [
       "(39.309815566333434, 49.64738848726015)"
      ]
     },
     "execution_count": 27,
     "metadata": {},
     "output_type": "execute_result"
    }
   ],
   "source": [
    "nonorder_df[\"journey_steps_until_end\"].mean(), ordered_df[\"journey_steps_until_end\"].mean()"
   ]
  },
  {
   "cell_type": "code",
   "execution_count": 28,
   "id": "a213a352-2882-4f60-b7ca-696bc5e717bc",
   "metadata": {},
   "outputs": [
    {
     "data": {
      "text/plain": [
       "array([-1742723851,   164736711,  1245360359,  1558655626,  -187189340])"
      ]
     },
     "execution_count": 28,
     "metadata": {},
     "output_type": "execute_result"
    }
   ],
   "source": [
    "## test\n",
    "test_df = ordered_df.groupby([\"account_id\", \"customer_id\"])\n",
    "a=np.arange(test_df.ngroups)\n",
    "np.random.shuffle(a)\n",
    "test_df = ordered_df[test_df.ngroup().isin(a[:5])]\n",
    "test_df[\"account_id\"].unique()"
   ]
  },
  {
   "cell_type": "code",
   "execution_count": 29,
   "id": "72377c8a-8a30-41a2-96c1-6bce49ef4ee4",
   "metadata": {},
   "outputs": [
    {
     "data": {
      "text/html": [
       "<div>\n",
       "<style scoped>\n",
       "    .dataframe tbody tr th:only-of-type {\n",
       "        vertical-align: middle;\n",
       "    }\n",
       "\n",
       "    .dataframe tbody tr th {\n",
       "        vertical-align: top;\n",
       "    }\n",
       "\n",
       "    .dataframe thead th {\n",
       "        text-align: right;\n",
       "    }\n",
       "</style>\n",
       "<table border=\"1\" class=\"dataframe\">\n",
       "  <thead>\n",
       "    <tr style=\"text-align: right;\">\n",
       "      <th></th>\n",
       "      <th>customer_id</th>\n",
       "      <th>account_id</th>\n",
       "      <th>stage</th>\n",
       "      <th>ed_id</th>\n",
       "      <th>event_name</th>\n",
       "      <th>event_timestamp</th>\n",
       "      <th>journey_steps_until_end</th>\n",
       "      <th>journey_id</th>\n",
       "      <th>color</th>\n",
       "    </tr>\n",
       "  </thead>\n",
       "  <tbody>\n",
       "    <tr>\n",
       "      <th>0</th>\n",
       "      <td>1019980524</td>\n",
       "      <td>-1742723851</td>\n",
       "      <td>NaN</td>\n",
       "      <td>1</td>\n",
       "      <td>promotion_created</td>\n",
       "      <td>2021-10-15 01:50:48.75</td>\n",
       "      <td>1</td>\n",
       "      <td>NaN</td>\n",
       "      <td>NaN</td>\n",
       "    </tr>\n",
       "    <tr>\n",
       "      <th>1</th>\n",
       "      <td>1019980524</td>\n",
       "      <td>-1742723851</td>\n",
       "      <td>NaN</td>\n",
       "      <td>21</td>\n",
       "      <td>catalog_(mail)</td>\n",
       "      <td>2021-10-18</td>\n",
       "      <td>2</td>\n",
       "      <td>NaN</td>\n",
       "      <td>NaN</td>\n",
       "    </tr>\n",
       "    <tr>\n",
       "      <th>2</th>\n",
       "      <td>1019980524</td>\n",
       "      <td>-1742723851</td>\n",
       "      <td>Apply for Credit</td>\n",
       "      <td>19</td>\n",
       "      <td>application_web_view</td>\n",
       "      <td>2021-10-27 20:01:26</td>\n",
       "      <td>3</td>\n",
       "      <td>1.0</td>\n",
       "      <td>NaN</td>\n",
       "    </tr>\n",
       "    <tr>\n",
       "      <th>3</th>\n",
       "      <td>1019980524</td>\n",
       "      <td>-1742723851</td>\n",
       "      <td>Apply for Credit</td>\n",
       "      <td>19</td>\n",
       "      <td>application_web_view</td>\n",
       "      <td>2021-10-27 20:01:33</td>\n",
       "      <td>4</td>\n",
       "      <td>1.0</td>\n",
       "      <td>NaN</td>\n",
       "    </tr>\n",
       "    <tr>\n",
       "      <th>4</th>\n",
       "      <td>1019980524</td>\n",
       "      <td>-1742723851</td>\n",
       "      <td>Apply for Credit</td>\n",
       "      <td>19</td>\n",
       "      <td>application_web_view</td>\n",
       "      <td>2021-10-27 20:02:28</td>\n",
       "      <td>5</td>\n",
       "      <td>1.0</td>\n",
       "      <td>NaN</td>\n",
       "    </tr>\n",
       "  </tbody>\n",
       "</table>\n",
       "</div>"
      ],
      "text/plain": [
       "   customer_id  account_id             stage  ed_id            event_name  \\\n",
       "0   1019980524 -1742723851               NaN      1     promotion_created   \n",
       "1   1019980524 -1742723851               NaN     21        catalog_(mail)   \n",
       "2   1019980524 -1742723851  Apply for Credit     19  application_web_view   \n",
       "3   1019980524 -1742723851  Apply for Credit     19  application_web_view   \n",
       "4   1019980524 -1742723851  Apply for Credit     19  application_web_view   \n",
       "\n",
       "          event_timestamp  journey_steps_until_end  journey_id  color  \n",
       "0  2021-10-15 01:50:48.75                        1         NaN    NaN  \n",
       "1              2021-10-18                        2         NaN    NaN  \n",
       "2     2021-10-27 20:01:26                        3         1.0    NaN  \n",
       "3     2021-10-27 20:01:33                        4         1.0    NaN  \n",
       "4     2021-10-27 20:02:28                        5         1.0    NaN  "
      ]
     },
     "execution_count": 29,
     "metadata": {},
     "output_type": "execute_result"
    }
   ],
   "source": [
    "## test\n",
    "test_df = test_df.reset_index(drop = True)\n",
    "accounts = test_df[\"account_id\"].unique()\n",
    "colors = ['b', 'g', 'r', 'm', 'y']\n",
    "test_df[\"color\"] = np.nan\n",
    "test_df.head()"
   ]
  },
  {
   "cell_type": "code",
   "execution_count": 30,
   "id": "56c9da33-c0e1-4ae9-b5c7-da68d701f6c2",
   "metadata": {},
   "outputs": [
    {
     "name": "stderr",
     "output_type": "stream",
     "text": [
      "/var/folders/z4/1nckxbbs45q8z44xg1hvdp8c0000gn/T/ipykernel_1712/875882570.py:3: SettingWithCopyWarning: \n",
      "A value is trying to be set on a copy of a slice from a DataFrame\n",
      "\n",
      "See the caveats in the documentation: https://pandas.pydata.org/pandas-docs/stable/user_guide/indexing.html#returning-a-view-versus-a-copy\n",
      "  test_df[\"color\"][i] = colors[0]\n",
      "/Users/joshuasusanto/opt/anaconda3/lib/python3.9/site-packages/pandas/core/indexing.py:1732: SettingWithCopyWarning: \n",
      "A value is trying to be set on a copy of a slice from a DataFrame\n",
      "\n",
      "See the caveats in the documentation: https://pandas.pydata.org/pandas-docs/stable/user_guide/indexing.html#returning-a-view-versus-a-copy\n",
      "  self._setitem_single_block(indexer, value, name)\n"
     ]
    }
   ],
   "source": [
    "for i in range(len(test_df)):\n",
    "    if test_df[\"account_id\"][i] == accounts[0]:\n",
    "        test_df[\"color\"][i] = colors[0]\n",
    "    elif test_df[\"account_id\"][i] == accounts[1]:\n",
    "        test_df[\"color\"][i] = colors[1]\n",
    "    elif test_df[\"account_id\"][i] == accounts[2]:\n",
    "        test_df[\"color\"][i] = colors[2]\n",
    "    elif test_df[\"account_id\"][i] == accounts[3]:\n",
    "        test_df[\"color\"][i] = colors[3]\n",
    "    elif test_df[\"account_id\"][i] == accounts[4]:\n",
    "        test_df[\"color\"][i] = colors[4]\n",
    "    else: \n",
    "        np.nan"
   ]
  },
  {
   "cell_type": "code",
   "execution_count": 31,
   "id": "6338e07e-3440-4530-9eec-35c34757fb72",
   "metadata": {},
   "outputs": [
    {
     "data": {
      "image/png": "[encoded data removed]",
      "text/plain": [
       "<Figure size 1152x648 with 1 Axes>"
      ]
     },
     "metadata": {
      "needs_background": "light"
     },
     "output_type": "display_data"
    }
   ],
   "source": [
    "fig, ax = plt.subplots(figsize=(16, 9), tight_layout=True)\n",
    "ax.barh(y=\"event_name\", width=1, left=\"journey_steps_until_end\", color = \"color\", height = 0.3, alpha = 0.6, data=test_df)\n",
    "ax.set(xlabel=\"Journey Steps\", ylabel=\"Event\")\n",
    "plt.title(\"Journeys of Five Random Customers Visualized (Has Order Shipped)\")\n",
    "# plt.savefig('yes_order.png')\n",
    "plt.show()"
   ]
  },
  {
   "cell_type": "code",
   "execution_count": 32,
   "id": "43243d4b-0386-4178-9522-365a4b2b7a75",
   "metadata": {},
   "outputs": [
    {
     "data": {
      "text/plain": [
       "array([ 1349684429,  1633714259,  -626391530,  -878347095, -1992250888])"
      ]
     },
     "execution_count": 32,
     "metadata": {},
     "output_type": "execute_result"
    }
   ],
   "source": [
    "test_df2 = nonorder_df.groupby([\"account_id\", \"customer_id\"])\n",
    "a=np.arange(test_df2.ngroups)\n",
    "np.random.shuffle(a)\n",
    "test_df2 = nonorder_df[test_df2.ngroup().isin(a[:5])]\n",
    "test_df2[\"account_id\"].unique()"
   ]
  },
  {
   "cell_type": "code",
   "execution_count": 33,
   "id": "413ab51b-dbd7-49f1-8212-458b6db75c8f",
   "metadata": {},
   "outputs": [
    {
     "data": {
      "text/plain": [
       "5"
      ]
     },
     "execution_count": 33,
     "metadata": {},
     "output_type": "execute_result"
    }
   ],
   "source": [
    "len(test_df2[\"account_id\"].unique())"
   ]
  },
  {
   "cell_type": "code",
   "execution_count": 34,
   "id": "ecaba0fa-988d-4cc1-80bd-2081ae670ca2",
   "metadata": {},
   "outputs": [
    {
     "data": {
      "text/html": [
       "<div>\n",
       "<style scoped>\n",
       "    .dataframe tbody tr th:only-of-type {\n",
       "        vertical-align: middle;\n",
       "    }\n",
       "\n",
       "    .dataframe tbody tr th {\n",
       "        vertical-align: top;\n",
       "    }\n",
       "\n",
       "    .dataframe thead th {\n",
       "        text-align: right;\n",
       "    }\n",
       "</style>\n",
       "<table border=\"1\" class=\"dataframe\">\n",
       "  <thead>\n",
       "    <tr style=\"text-align: right;\">\n",
       "      <th></th>\n",
       "      <th>customer_id</th>\n",
       "      <th>account_id</th>\n",
       "      <th>stage</th>\n",
       "      <th>ed_id</th>\n",
       "      <th>event_name</th>\n",
       "      <th>event_timestamp</th>\n",
       "      <th>journey_steps_until_end</th>\n",
       "      <th>journey_id</th>\n",
       "      <th>color</th>\n",
       "    </tr>\n",
       "  </thead>\n",
       "  <tbody>\n",
       "    <tr>\n",
       "      <th>0</th>\n",
       "      <td>1157772702</td>\n",
       "      <td>1349684429</td>\n",
       "      <td>Apply for Credit</td>\n",
       "      <td>19</td>\n",
       "      <td>application_web_view</td>\n",
       "      <td>2021-05-24 17:00:07</td>\n",
       "      <td>1</td>\n",
       "      <td>1.0</td>\n",
       "      <td>NaN</td>\n",
       "    </tr>\n",
       "    <tr>\n",
       "      <th>1</th>\n",
       "      <td>1157772702</td>\n",
       "      <td>1349684429</td>\n",
       "      <td>Apply for Credit</td>\n",
       "      <td>19</td>\n",
       "      <td>application_web_view</td>\n",
       "      <td>2021-05-25 02:02:24</td>\n",
       "      <td>2</td>\n",
       "      <td>1.0</td>\n",
       "      <td>NaN</td>\n",
       "    </tr>\n",
       "    <tr>\n",
       "      <th>2</th>\n",
       "      <td>1157772702</td>\n",
       "      <td>1349684429</td>\n",
       "      <td>Apply for Credit</td>\n",
       "      <td>19</td>\n",
       "      <td>application_web_view</td>\n",
       "      <td>2021-05-25 02:03:31</td>\n",
       "      <td>3</td>\n",
       "      <td>1.0</td>\n",
       "      <td>NaN</td>\n",
       "    </tr>\n",
       "    <tr>\n",
       "      <th>3</th>\n",
       "      <td>1157772702</td>\n",
       "      <td>1349684429</td>\n",
       "      <td>Apply for Credit</td>\n",
       "      <td>19</td>\n",
       "      <td>application_web_view</td>\n",
       "      <td>2021-05-25 02:03:32</td>\n",
       "      <td>4</td>\n",
       "      <td>1.0</td>\n",
       "      <td>NaN</td>\n",
       "    </tr>\n",
       "    <tr>\n",
       "      <th>4</th>\n",
       "      <td>1157772702</td>\n",
       "      <td>1349684429</td>\n",
       "      <td>Apply for Credit</td>\n",
       "      <td>19</td>\n",
       "      <td>application_web_view</td>\n",
       "      <td>2021-05-25 02:03:40</td>\n",
       "      <td>5</td>\n",
       "      <td>1.0</td>\n",
       "      <td>NaN</td>\n",
       "    </tr>\n",
       "    <tr>\n",
       "      <th>...</th>\n",
       "      <td>...</td>\n",
       "      <td>...</td>\n",
       "      <td>...</td>\n",
       "      <td>...</td>\n",
       "      <td>...</td>\n",
       "      <td>...</td>\n",
       "      <td>...</td>\n",
       "      <td>...</td>\n",
       "      <td>...</td>\n",
       "    </tr>\n",
       "    <tr>\n",
       "      <th>269</th>\n",
       "      <td>939011716</td>\n",
       "      <td>-626391530</td>\n",
       "      <td>NaN</td>\n",
       "      <td>1</td>\n",
       "      <td>promotion_created</td>\n",
       "      <td>2022-05-07 07:02:36.707</td>\n",
       "      <td>15</td>\n",
       "      <td>NaN</td>\n",
       "      <td>NaN</td>\n",
       "    </tr>\n",
       "    <tr>\n",
       "      <th>270</th>\n",
       "      <td>829674453</td>\n",
       "      <td>-878347095</td>\n",
       "      <td>Apply for Credit</td>\n",
       "      <td>12</td>\n",
       "      <td>application_web_approved</td>\n",
       "      <td>2023-05-11 15:47:01</td>\n",
       "      <td>1</td>\n",
       "      <td>1.0</td>\n",
       "      <td>NaN</td>\n",
       "    </tr>\n",
       "    <tr>\n",
       "      <th>271</th>\n",
       "      <td>829674453</td>\n",
       "      <td>-878347095</td>\n",
       "      <td>Discover</td>\n",
       "      <td>2</td>\n",
       "      <td>campaign_click</td>\n",
       "      <td>2023-05-11 21:47:01</td>\n",
       "      <td>2</td>\n",
       "      <td>1.0</td>\n",
       "      <td>NaN</td>\n",
       "    </tr>\n",
       "    <tr>\n",
       "      <th>272</th>\n",
       "      <td>332219473</td>\n",
       "      <td>-1992250888</td>\n",
       "      <td>Apply for Credit</td>\n",
       "      <td>15</td>\n",
       "      <td>application_phone_approved</td>\n",
       "      <td>2021-10-12 18:31:16</td>\n",
       "      <td>1</td>\n",
       "      <td>1.0</td>\n",
       "      <td>NaN</td>\n",
       "    </tr>\n",
       "    <tr>\n",
       "      <th>273</th>\n",
       "      <td>332219473</td>\n",
       "      <td>-1992250888</td>\n",
       "      <td>First Purchase</td>\n",
       "      <td>18</td>\n",
       "      <td>place_order_phone</td>\n",
       "      <td>2021-10-12 18:36:12.67</td>\n",
       "      <td>2</td>\n",
       "      <td>1.0</td>\n",
       "      <td>NaN</td>\n",
       "    </tr>\n",
       "  </tbody>\n",
       "</table>\n",
       "<p>274 rows × 9 columns</p>\n",
       "</div>"
      ],
      "text/plain": [
       "     customer_id  account_id             stage  ed_id  \\\n",
       "0     1157772702  1349684429  Apply for Credit     19   \n",
       "1     1157772702  1349684429  Apply for Credit     19   \n",
       "2     1157772702  1349684429  Apply for Credit     19   \n",
       "3     1157772702  1349684429  Apply for Credit     19   \n",
       "4     1157772702  1349684429  Apply for Credit     19   \n",
       "..           ...         ...               ...    ...   \n",
       "269    939011716  -626391530               NaN      1   \n",
       "270    829674453  -878347095  Apply for Credit     12   \n",
       "271    829674453  -878347095          Discover      2   \n",
       "272    332219473 -1992250888  Apply for Credit     15   \n",
       "273    332219473 -1992250888    First Purchase     18   \n",
       "\n",
       "                     event_name          event_timestamp  \\\n",
       "0          application_web_view      2021-05-24 17:00:07   \n",
       "1          application_web_view      2021-05-25 02:02:24   \n",
       "2          application_web_view      2021-05-25 02:03:31   \n",
       "3          application_web_view      2021-05-25 02:03:32   \n",
       "4          application_web_view      2021-05-25 02:03:40   \n",
       "..                          ...                      ...   \n",
       "269           promotion_created  2022-05-07 07:02:36.707   \n",
       "270    application_web_approved      2023-05-11 15:47:01   \n",
       "271              campaign_click      2023-05-11 21:47:01   \n",
       "272  application_phone_approved      2021-10-12 18:31:16   \n",
       "273           place_order_phone   2021-10-12 18:36:12.67   \n",
       "\n",
       "     journey_steps_until_end  journey_id  color  \n",
       "0                          1         1.0    NaN  \n",
       "1                          2         1.0    NaN  \n",
       "2                          3         1.0    NaN  \n",
       "3                          4         1.0    NaN  \n",
       "4                          5         1.0    NaN  \n",
       "..                       ...         ...    ...  \n",
       "269                       15         NaN    NaN  \n",
       "270                        1         1.0    NaN  \n",
       "271                        2         1.0    NaN  \n",
       "272                        1         1.0    NaN  \n",
       "273                        2         1.0    NaN  \n",
       "\n",
       "[274 rows x 9 columns]"
      ]
     },
     "execution_count": 34,
     "metadata": {},
     "output_type": "execute_result"
    }
   ],
   "source": [
    "test_df2 = test_df2.reset_index(drop = True)\n",
    "accounts = test_df2[\"account_id\"].unique()\n",
    "colors = ['b', 'g', 'r', 'm', 'y']\n",
    "test_df2[\"color\"] = np.nan\n",
    "test_df2"
   ]
  },
  {
   "cell_type": "code",
   "execution_count": 35,
   "id": "983430eb-d9e6-4792-9682-8334994cc9d2",
   "metadata": {},
   "outputs": [
    {
     "name": "stderr",
     "output_type": "stream",
     "text": [
      "/var/folders/z4/1nckxbbs45q8z44xg1hvdp8c0000gn/T/ipykernel_1712/3393662695.py:3: SettingWithCopyWarning: \n",
      "A value is trying to be set on a copy of a slice from a DataFrame\n",
      "\n",
      "See the caveats in the documentation: https://pandas.pydata.org/pandas-docs/stable/user_guide/indexing.html#returning-a-view-versus-a-copy\n",
      "  test_df2[\"color\"][i] = colors[0]\n",
      "/Users/joshuasusanto/opt/anaconda3/lib/python3.9/site-packages/pandas/core/indexing.py:1732: SettingWithCopyWarning: \n",
      "A value is trying to be set on a copy of a slice from a DataFrame\n",
      "\n",
      "See the caveats in the documentation: https://pandas.pydata.org/pandas-docs/stable/user_guide/indexing.html#returning-a-view-versus-a-copy\n",
      "  self._setitem_single_block(indexer, value, name)\n"
     ]
    }
   ],
   "source": [
    "for i in range(len(test_df2)):\n",
    "    if test_df2[\"account_id\"][i] == accounts[0]:\n",
    "        test_df2[\"color\"][i] = colors[0]\n",
    "    elif test_df2[\"account_id\"][i] == accounts[1]:\n",
    "        test_df2[\"color\"][i] = colors[1]\n",
    "    elif test_df2[\"account_id\"][i] == accounts[2]:\n",
    "        test_df2[\"color\"][i] = colors[2]\n",
    "    elif test_df2[\"account_id\"][i] == accounts[3]:\n",
    "        test_df2[\"color\"][i] = colors[3]\n",
    "    elif test_df2[\"account_id\"][i] == accounts[4]:\n",
    "        test_df2[\"color\"][i] = colors[4]\n",
    "    else: \n",
    "        np.nan"
   ]
  },
  {
   "cell_type": "code",
   "execution_count": 36,
   "id": "053d0780-ec47-450a-899e-ca7ccb82124f",
   "metadata": {},
   "outputs": [
    {
     "data": {
      "text/html": [
       "<div>\n",
       "<style scoped>\n",
       "    .dataframe tbody tr th:only-of-type {\n",
       "        vertical-align: middle;\n",
       "    }\n",
       "\n",
       "    .dataframe tbody tr th {\n",
       "        vertical-align: top;\n",
       "    }\n",
       "\n",
       "    .dataframe thead th {\n",
       "        text-align: right;\n",
       "    }\n",
       "</style>\n",
       "<table border=\"1\" class=\"dataframe\">\n",
       "  <thead>\n",
       "    <tr style=\"text-align: right;\">\n",
       "      <th></th>\n",
       "      <th>customer_id</th>\n",
       "      <th>account_id</th>\n",
       "      <th>stage</th>\n",
       "      <th>ed_id</th>\n",
       "      <th>event_name</th>\n",
       "      <th>event_timestamp</th>\n",
       "      <th>journey_steps_until_end</th>\n",
       "      <th>journey_id</th>\n",
       "      <th>color</th>\n",
       "    </tr>\n",
       "  </thead>\n",
       "  <tbody>\n",
       "    <tr>\n",
       "      <th>0</th>\n",
       "      <td>1157772702</td>\n",
       "      <td>1349684429</td>\n",
       "      <td>Apply for Credit</td>\n",
       "      <td>19</td>\n",
       "      <td>application_web_view</td>\n",
       "      <td>2021-05-24 17:00:07</td>\n",
       "      <td>1</td>\n",
       "      <td>1.0</td>\n",
       "      <td>b</td>\n",
       "    </tr>\n",
       "    <tr>\n",
       "      <th>1</th>\n",
       "      <td>1157772702</td>\n",
       "      <td>1349684429</td>\n",
       "      <td>Apply for Credit</td>\n",
       "      <td>19</td>\n",
       "      <td>application_web_view</td>\n",
       "      <td>2021-05-25 02:02:24</td>\n",
       "      <td>2</td>\n",
       "      <td>1.0</td>\n",
       "      <td>b</td>\n",
       "    </tr>\n",
       "    <tr>\n",
       "      <th>2</th>\n",
       "      <td>1157772702</td>\n",
       "      <td>1349684429</td>\n",
       "      <td>Apply for Credit</td>\n",
       "      <td>19</td>\n",
       "      <td>application_web_view</td>\n",
       "      <td>2021-05-25 02:03:31</td>\n",
       "      <td>3</td>\n",
       "      <td>1.0</td>\n",
       "      <td>b</td>\n",
       "    </tr>\n",
       "    <tr>\n",
       "      <th>3</th>\n",
       "      <td>1157772702</td>\n",
       "      <td>1349684429</td>\n",
       "      <td>Apply for Credit</td>\n",
       "      <td>19</td>\n",
       "      <td>application_web_view</td>\n",
       "      <td>2021-05-25 02:03:32</td>\n",
       "      <td>4</td>\n",
       "      <td>1.0</td>\n",
       "      <td>b</td>\n",
       "    </tr>\n",
       "    <tr>\n",
       "      <th>4</th>\n",
       "      <td>1157772702</td>\n",
       "      <td>1349684429</td>\n",
       "      <td>Apply for Credit</td>\n",
       "      <td>19</td>\n",
       "      <td>application_web_view</td>\n",
       "      <td>2021-05-25 02:03:40</td>\n",
       "      <td>5</td>\n",
       "      <td>1.0</td>\n",
       "      <td>b</td>\n",
       "    </tr>\n",
       "  </tbody>\n",
       "</table>\n",
       "</div>"
      ],
      "text/plain": [
       "   customer_id  account_id             stage  ed_id            event_name  \\\n",
       "0   1157772702  1349684429  Apply for Credit     19  application_web_view   \n",
       "1   1157772702  1349684429  Apply for Credit     19  application_web_view   \n",
       "2   1157772702  1349684429  Apply for Credit     19  application_web_view   \n",
       "3   1157772702  1349684429  Apply for Credit     19  application_web_view   \n",
       "4   1157772702  1349684429  Apply for Credit     19  application_web_view   \n",
       "\n",
       "       event_timestamp  journey_steps_until_end  journey_id color  \n",
       "0  2021-05-24 17:00:07                        1         1.0     b  \n",
       "1  2021-05-25 02:02:24                        2         1.0     b  \n",
       "2  2021-05-25 02:03:31                        3         1.0     b  \n",
       "3  2021-05-25 02:03:32                        4         1.0     b  \n",
       "4  2021-05-25 02:03:40                        5         1.0     b  "
      ]
     },
     "execution_count": 36,
     "metadata": {},
     "output_type": "execute_result"
    }
   ],
   "source": [
    "test_df2.head()"
   ]
  },
  {
   "cell_type": "code",
   "execution_count": 37,
   "id": "e1f7b0b5-8ec3-4d00-94bc-6294b071cd8d",
   "metadata": {},
   "outputs": [
    {
     "data": {
      "image/png": "[encoded data removed]",
      "text/plain": [
       "<Figure size 1152x648 with 1 Axes>"
      ]
     },
     "metadata": {
      "needs_background": "light"
     },
     "output_type": "display_data"
    }
   ],
   "source": [
    "fig, ax = plt.subplots(figsize=(16, 9), tight_layout=True)\n",
    "ax.barh(y=\"event_name\", width=1, left=\"journey_steps_until_end\", color = \"color\", height = 0.3, alpha = 0.6, data=test_df2)\n",
    "ax.set(xlabel=\"Journey Steps\", ylabel=\"Event\")\n",
    "plt.title(\"Journeys of Five Random Customers Visualized (No Order Shipped)\")\n",
    "# plt.savefig('no_order.png')\n",
    "plt.show()"
   ]
  },
  {
   "cell_type": "markdown",
   "id": "b86e7c7d-2f7a-4cd0-83b5-b44c4a72fb22",
   "metadata": {},
   "source": [
    "## Data Analysis and Modeling"
   ]
  },
  {
   "cell_type": "code",
   "execution_count": 3,
   "id": "bb50daac-838a-4201-8d02-2db05f16c178",
   "metadata": {},
   "outputs": [],
   "source": [
    "# read frequency table and transformed data\n",
    "freqs = pd.read_csv('freq_table.csv')\n",
    "transformed_data = pd.read_csv('transformed_data.csv')"
   ]
  },
  {
   "cell_type": "code",
   "execution_count": 4,
   "id": "b8e70e34-0af0-40a3-93cc-8c941876e18f",
   "metadata": {},
   "outputs": [],
   "source": [
    "is_successful = np.zeros(len(transformed_data))\n",
    "for i in range(len(transformed_data)):\n",
    "    if transformed_data['journey_successful'][i] != 0:\n",
    "        is_successful[i] = 1"
   ]
  },
  {
   "cell_type": "code",
   "execution_count": 5,
   "id": "1275093c-3e02-499c-8eaa-fbf6d81ec5d0",
   "metadata": {},
   "outputs": [],
   "source": [
    "freqs = freqs.iloc[:, 1:]"
   ]
  },
  {
   "cell_type": "code",
   "execution_count": 6,
   "id": "e0bfe828-cba6-4b8b-a6d0-244600ed9732",
   "metadata": {},
   "outputs": [
    {
     "data": {
      "text/html": [
       "<div>\n",
       "<style scoped>\n",
       "    .dataframe tbody tr th:only-of-type {\n",
       "        vertical-align: middle;\n",
       "    }\n",
       "\n",
       "    .dataframe tbody tr th {\n",
       "        vertical-align: top;\n",
       "    }\n",
       "\n",
       "    .dataframe thead th {\n",
       "        text-align: right;\n",
       "    }\n",
       "</style>\n",
       "<table border=\"1\" class=\"dataframe\">\n",
       "  <thead>\n",
       "    <tr style=\"text-align: right;\">\n",
       "      <th></th>\n",
       "      <th>catalog_(email)_(experian)</th>\n",
       "      <th>pre-application_(3rd_party_affiliates)</th>\n",
       "      <th>browse_products</th>\n",
       "      <th>application_phone_pending</th>\n",
       "      <th>application_phone_declined</th>\n",
       "      <th>begin_checkout</th>\n",
       "      <th>campaignemail_clicked</th>\n",
       "      <th>application_web_view</th>\n",
       "      <th>place_order_web</th>\n",
       "      <th>application_web_submit</th>\n",
       "      <th>...</th>\n",
       "      <th>application_web_pending</th>\n",
       "      <th>site_registration</th>\n",
       "      <th>catalog_(mail)</th>\n",
       "      <th>campaign_click</th>\n",
       "      <th>add_to_cart</th>\n",
       "      <th>promotion_created</th>\n",
       "      <th>account_downpaymentcleared</th>\n",
       "      <th>account_activitation</th>\n",
       "      <th>customer_requested_catalog_(digital)</th>\n",
       "      <th>application_web_approved</th>\n",
       "    </tr>\n",
       "  </thead>\n",
       "  <tbody>\n",
       "    <tr>\n",
       "      <th>0</th>\n",
       "      <td>0</td>\n",
       "      <td>0</td>\n",
       "      <td>0</td>\n",
       "      <td>0</td>\n",
       "      <td>0</td>\n",
       "      <td>0</td>\n",
       "      <td>0</td>\n",
       "      <td>3</td>\n",
       "      <td>0</td>\n",
       "      <td>1</td>\n",
       "      <td>...</td>\n",
       "      <td>0</td>\n",
       "      <td>0</td>\n",
       "      <td>0</td>\n",
       "      <td>1</td>\n",
       "      <td>0</td>\n",
       "      <td>0</td>\n",
       "      <td>0</td>\n",
       "      <td>0</td>\n",
       "      <td>0</td>\n",
       "      <td>1</td>\n",
       "    </tr>\n",
       "    <tr>\n",
       "      <th>1</th>\n",
       "      <td>0</td>\n",
       "      <td>0</td>\n",
       "      <td>66</td>\n",
       "      <td>0</td>\n",
       "      <td>0</td>\n",
       "      <td>0</td>\n",
       "      <td>0</td>\n",
       "      <td>5</td>\n",
       "      <td>0</td>\n",
       "      <td>1</td>\n",
       "      <td>...</td>\n",
       "      <td>0</td>\n",
       "      <td>0</td>\n",
       "      <td>0</td>\n",
       "      <td>1</td>\n",
       "      <td>2</td>\n",
       "      <td>5</td>\n",
       "      <td>0</td>\n",
       "      <td>0</td>\n",
       "      <td>0</td>\n",
       "      <td>1</td>\n",
       "    </tr>\n",
       "    <tr>\n",
       "      <th>2</th>\n",
       "      <td>0</td>\n",
       "      <td>0</td>\n",
       "      <td>0</td>\n",
       "      <td>0</td>\n",
       "      <td>0</td>\n",
       "      <td>0</td>\n",
       "      <td>0</td>\n",
       "      <td>1</td>\n",
       "      <td>0</td>\n",
       "      <td>1</td>\n",
       "      <td>...</td>\n",
       "      <td>0</td>\n",
       "      <td>0</td>\n",
       "      <td>0</td>\n",
       "      <td>1</td>\n",
       "      <td>0</td>\n",
       "      <td>0</td>\n",
       "      <td>0</td>\n",
       "      <td>0</td>\n",
       "      <td>0</td>\n",
       "      <td>1</td>\n",
       "    </tr>\n",
       "    <tr>\n",
       "      <th>3</th>\n",
       "      <td>0</td>\n",
       "      <td>0</td>\n",
       "      <td>0</td>\n",
       "      <td>0</td>\n",
       "      <td>0</td>\n",
       "      <td>0</td>\n",
       "      <td>0</td>\n",
       "      <td>11</td>\n",
       "      <td>0</td>\n",
       "      <td>1</td>\n",
       "      <td>...</td>\n",
       "      <td>0</td>\n",
       "      <td>0</td>\n",
       "      <td>0</td>\n",
       "      <td>0</td>\n",
       "      <td>0</td>\n",
       "      <td>4</td>\n",
       "      <td>0</td>\n",
       "      <td>0</td>\n",
       "      <td>0</td>\n",
       "      <td>1</td>\n",
       "    </tr>\n",
       "    <tr>\n",
       "      <th>4</th>\n",
       "      <td>0</td>\n",
       "      <td>0</td>\n",
       "      <td>1</td>\n",
       "      <td>0</td>\n",
       "      <td>0</td>\n",
       "      <td>0</td>\n",
       "      <td>0</td>\n",
       "      <td>1</td>\n",
       "      <td>0</td>\n",
       "      <td>1</td>\n",
       "      <td>...</td>\n",
       "      <td>0</td>\n",
       "      <td>0</td>\n",
       "      <td>0</td>\n",
       "      <td>0</td>\n",
       "      <td>0</td>\n",
       "      <td>0</td>\n",
       "      <td>0</td>\n",
       "      <td>0</td>\n",
       "      <td>0</td>\n",
       "      <td>1</td>\n",
       "    </tr>\n",
       "  </tbody>\n",
       "</table>\n",
       "<p>5 rows × 28 columns</p>\n",
       "</div>"
      ],
      "text/plain": [
       "   catalog_(email)_(experian)  pre-application_(3rd_party_affiliates)  \\\n",
       "0                           0                                       0   \n",
       "1                           0                                       0   \n",
       "2                           0                                       0   \n",
       "3                           0                                       0   \n",
       "4                           0                                       0   \n",
       "\n",
       "   browse_products  application_phone_pending  application_phone_declined  \\\n",
       "0                0                          0                           0   \n",
       "1               66                          0                           0   \n",
       "2                0                          0                           0   \n",
       "3                0                          0                           0   \n",
       "4                1                          0                           0   \n",
       "\n",
       "   begin_checkout  campaignemail_clicked  application_web_view  \\\n",
       "0               0                      0                     3   \n",
       "1               0                      0                     5   \n",
       "2               0                      0                     1   \n",
       "3               0                      0                    11   \n",
       "4               0                      0                     1   \n",
       "\n",
       "   place_order_web  application_web_submit  ...  application_web_pending  \\\n",
       "0                0                       1  ...                        0   \n",
       "1                0                       1  ...                        0   \n",
       "2                0                       1  ...                        0   \n",
       "3                0                       1  ...                        0   \n",
       "4                0                       1  ...                        0   \n",
       "\n",
       "   site_registration  catalog_(mail)  campaign_click  add_to_cart  \\\n",
       "0                  0               0               1            0   \n",
       "1                  0               0               1            2   \n",
       "2                  0               0               1            0   \n",
       "3                  0               0               0            0   \n",
       "4                  0               0               0            0   \n",
       "\n",
       "   promotion_created  account_downpaymentcleared  account_activitation  \\\n",
       "0                  0                           0                     0   \n",
       "1                  5                           0                     0   \n",
       "2                  0                           0                     0   \n",
       "3                  4                           0                     0   \n",
       "4                  0                           0                     0   \n",
       "\n",
       "   customer_requested_catalog_(digital)  application_web_approved  \n",
       "0                                     0                         1  \n",
       "1                                     0                         1  \n",
       "2                                     0                         1  \n",
       "3                                     0                         1  \n",
       "4                                     0                         1  \n",
       "\n",
       "[5 rows x 28 columns]"
      ]
     },
     "execution_count": 6,
     "metadata": {},
     "output_type": "execute_result"
    }
   ],
   "source": [
    "freqs.head()"
   ]
  },
  {
   "cell_type": "code",
   "execution_count": 7,
   "id": "81bd7386-05f5-4169-9dce-9f3824f5cef5",
   "metadata": {},
   "outputs": [
    {
     "name": "stdout",
     "output_type": "stream",
     "text": [
      "0.9996658535770374\n",
      "0.9139100546963127\n",
      "0.22326108473146725\n",
      "0.999998271656433\n",
      "0.9996785280965291\n",
      "0.5125466220677211\n",
      "0.7127976927765609\n",
      "0.5165051049507825\n",
      "0.8055567397909627\n",
      "0.5839220263560871\n",
      "0.9999550630672568\n",
      "0.9682670359944832\n",
      "0.9947199104026695\n",
      "0.4306173758444399\n",
      "0.8140423305906441\n",
      "0.975522622288949\n",
      "0.9776231358374343\n",
      "0.8211158646960477\n",
      "0.9999418124332428\n",
      "0.9886926002698521\n",
      "0.5753575078668438\n",
      "0.412382775097565\n",
      "0.42321199977416313\n",
      "0.24646467323360408\n",
      "0.8082126277389925\n",
      "0.7600828683128947\n",
      "0.9999988477709553\n",
      "0.024780990064328948\n"
     ]
    }
   ],
   "source": [
    "for i in range(28):\n",
    "    print(Counter(freqs.iloc[:, i])[0]/1735766) # Percentage of 0s for each event"
   ]
  },
  {
   "cell_type": "code",
   "execution_count": 8,
   "id": "e2a7bdf5-a4ca-4fd3-a087-a6fc16a51801",
   "metadata": {},
   "outputs": [],
   "source": [
    "# only keep relevant events as predictors\n",
    "freqs = freqs[['browse_products', \n",
    "               'begin_checkout', \n",
    "               'campaignemail_clicked', \n",
    "               'application_web_view', \n",
    "               'application_web_submit', \n",
    "               'catalog_(mail)', \n",
    "               'campaign_click', \n",
    "               'add_to_cart', \n",
    "               'promotion_created']]"
   ]
  },
  {
   "cell_type": "code",
   "execution_count": 9,
   "id": "60f7e6ac-234e-4ead-ad3a-0ce50e719f0c",
   "metadata": {},
   "outputs": [
    {
     "data": {
      "text/html": [
       "<div>\n",
       "<style scoped>\n",
       "    .dataframe tbody tr th:only-of-type {\n",
       "        vertical-align: middle;\n",
       "    }\n",
       "\n",
       "    .dataframe tbody tr th {\n",
       "        vertical-align: top;\n",
       "    }\n",
       "\n",
       "    .dataframe thead th {\n",
       "        text-align: right;\n",
       "    }\n",
       "</style>\n",
       "<table border=\"1\" class=\"dataframe\">\n",
       "  <thead>\n",
       "    <tr style=\"text-align: right;\">\n",
       "      <th></th>\n",
       "      <th>browse_products</th>\n",
       "      <th>begin_checkout</th>\n",
       "      <th>campaignemail_clicked</th>\n",
       "      <th>application_web_view</th>\n",
       "      <th>application_web_submit</th>\n",
       "      <th>catalog_(mail)</th>\n",
       "      <th>campaign_click</th>\n",
       "      <th>add_to_cart</th>\n",
       "      <th>promotion_created</th>\n",
       "    </tr>\n",
       "  </thead>\n",
       "  <tbody>\n",
       "    <tr>\n",
       "      <th>0</th>\n",
       "      <td>0</td>\n",
       "      <td>0</td>\n",
       "      <td>0</td>\n",
       "      <td>3</td>\n",
       "      <td>1</td>\n",
       "      <td>0</td>\n",
       "      <td>1</td>\n",
       "      <td>0</td>\n",
       "      <td>0</td>\n",
       "    </tr>\n",
       "    <tr>\n",
       "      <th>1</th>\n",
       "      <td>66</td>\n",
       "      <td>0</td>\n",
       "      <td>0</td>\n",
       "      <td>5</td>\n",
       "      <td>1</td>\n",
       "      <td>0</td>\n",
       "      <td>1</td>\n",
       "      <td>2</td>\n",
       "      <td>5</td>\n",
       "    </tr>\n",
       "    <tr>\n",
       "      <th>2</th>\n",
       "      <td>0</td>\n",
       "      <td>0</td>\n",
       "      <td>0</td>\n",
       "      <td>1</td>\n",
       "      <td>1</td>\n",
       "      <td>0</td>\n",
       "      <td>1</td>\n",
       "      <td>0</td>\n",
       "      <td>0</td>\n",
       "    </tr>\n",
       "    <tr>\n",
       "      <th>3</th>\n",
       "      <td>0</td>\n",
       "      <td>0</td>\n",
       "      <td>0</td>\n",
       "      <td>11</td>\n",
       "      <td>1</td>\n",
       "      <td>0</td>\n",
       "      <td>0</td>\n",
       "      <td>0</td>\n",
       "      <td>4</td>\n",
       "    </tr>\n",
       "    <tr>\n",
       "      <th>4</th>\n",
       "      <td>1</td>\n",
       "      <td>0</td>\n",
       "      <td>0</td>\n",
       "      <td>1</td>\n",
       "      <td>1</td>\n",
       "      <td>0</td>\n",
       "      <td>0</td>\n",
       "      <td>0</td>\n",
       "      <td>0</td>\n",
       "    </tr>\n",
       "  </tbody>\n",
       "</table>\n",
       "</div>"
      ],
      "text/plain": [
       "   browse_products  begin_checkout  campaignemail_clicked  \\\n",
       "0                0               0                      0   \n",
       "1               66               0                      0   \n",
       "2                0               0                      0   \n",
       "3                0               0                      0   \n",
       "4                1               0                      0   \n",
       "\n",
       "   application_web_view  application_web_submit  catalog_(mail)  \\\n",
       "0                     3                       1               0   \n",
       "1                     5                       1               0   \n",
       "2                     1                       1               0   \n",
       "3                    11                       1               0   \n",
       "4                     1                       1               0   \n",
       "\n",
       "   campaign_click  add_to_cart  promotion_created  \n",
       "0               1            0                  0  \n",
       "1               1            2                  5  \n",
       "2               1            0                  0  \n",
       "3               0            0                  4  \n",
       "4               0            0                  0  "
      ]
     },
     "execution_count": 9,
     "metadata": {},
     "output_type": "execute_result"
    }
   ],
   "source": [
    "freqs.head()"
   ]
  },
  {
   "cell_type": "code",
   "execution_count": 10,
   "id": "6ed08acf-413f-40eb-9872-a9f4ff217c4a",
   "metadata": {},
   "outputs": [],
   "source": [
    "freqs_numpy = np.append(freqs.to_numpy(), is_successful.reshape(-1, 1), axis = 1)"
   ]
  },
  {
   "cell_type": "markdown",
   "id": "a21a656a-e463-452e-becf-5ef9ee4e27d2",
   "metadata": {},
   "source": [
    "### Logistic Regression"
   ]
  },
  {
   "cell_type": "code",
   "execution_count": 48,
   "id": "c9895b29-3b16-41cf-9568-ec09a845b213",
   "metadata": {},
   "outputs": [
    {
     "data": {
      "text/html": [
       "<div>\n",
       "<style scoped>\n",
       "    .dataframe tbody tr th:only-of-type {\n",
       "        vertical-align: middle;\n",
       "    }\n",
       "\n",
       "    .dataframe tbody tr th {\n",
       "        vertical-align: top;\n",
       "    }\n",
       "\n",
       "    .dataframe thead th {\n",
       "        text-align: right;\n",
       "    }\n",
       "</style>\n",
       "<table border=\"1\" class=\"dataframe\">\n",
       "  <thead>\n",
       "    <tr style=\"text-align: right;\">\n",
       "      <th></th>\n",
       "      <th>Unnamed: 0</th>\n",
       "      <th>customer_id</th>\n",
       "      <th>account_id</th>\n",
       "      <th>event_list</th>\n",
       "      <th>frequency_vector</th>\n",
       "      <th>recieved_promo</th>\n",
       "      <th>journey_successful</th>\n",
       "    </tr>\n",
       "  </thead>\n",
       "  <tbody>\n",
       "    <tr>\n",
       "      <th>0</th>\n",
       "      <td>0</td>\n",
       "      <td>-784961211</td>\n",
       "      <td>1773350293</td>\n",
       "      <td>['application_web_approved', 'application_web_...</td>\n",
       "      <td>[0, 0, 0, 0, 0, 0, 0, 3, 0, 1, 0, 0, 0, 0, 0, ...</td>\n",
       "      <td>False</td>\n",
       "      <td>False</td>\n",
       "    </tr>\n",
       "    <tr>\n",
       "      <th>1</th>\n",
       "      <td>0</td>\n",
       "      <td>15849251</td>\n",
       "      <td>383997507</td>\n",
       "      <td>['browse_products', 'browse_products', 'browse...</td>\n",
       "      <td>[0, 0, 66, 0, 0, 0, 0, 5, 0, 1, 0, 0, 0, 6, 0,...</td>\n",
       "      <td>True</td>\n",
       "      <td>False</td>\n",
       "    </tr>\n",
       "    <tr>\n",
       "      <th>2</th>\n",
       "      <td>0</td>\n",
       "      <td>155529381</td>\n",
       "      <td>1786111954</td>\n",
       "      <td>['campaign_click', 'application_web_approved',...</td>\n",
       "      <td>[0, 0, 0, 0, 0, 0, 0, 1, 0, 1, 0, 0, 0, 0, 0, ...</td>\n",
       "      <td>False</td>\n",
       "      <td>False</td>\n",
       "    </tr>\n",
       "    <tr>\n",
       "      <th>3</th>\n",
       "      <td>0</td>\n",
       "      <td>-1697747935</td>\n",
       "      <td>-1016455199</td>\n",
       "      <td>['application_web_view', 'application_web_view...</td>\n",
       "      <td>[0, 0, 0, 0, 0, 0, 0, 11, 0, 1, 0, 0, 0, 0, 0,...</td>\n",
       "      <td>True</td>\n",
       "      <td>False</td>\n",
       "    </tr>\n",
       "    <tr>\n",
       "      <th>4</th>\n",
       "      <td>0</td>\n",
       "      <td>-986357645</td>\n",
       "      <td>1289564882</td>\n",
       "      <td>['application_web_approved', 'browse_products'...</td>\n",
       "      <td>[0, 0, 1, 0, 0, 0, 0, 1, 0, 1, 0, 0, 0, 0, 0, ...</td>\n",
       "      <td>False</td>\n",
       "      <td>False</td>\n",
       "    </tr>\n",
       "  </tbody>\n",
       "</table>\n",
       "</div>"
      ],
      "text/plain": [
       "   Unnamed: 0  customer_id  account_id  \\\n",
       "0           0   -784961211  1773350293   \n",
       "1           0     15849251   383997507   \n",
       "2           0    155529381  1786111954   \n",
       "3           0  -1697747935 -1016455199   \n",
       "4           0   -986357645  1289564882   \n",
       "\n",
       "                                          event_list  \\\n",
       "0  ['application_web_approved', 'application_web_...   \n",
       "1  ['browse_products', 'browse_products', 'browse...   \n",
       "2  ['campaign_click', 'application_web_approved',...   \n",
       "3  ['application_web_view', 'application_web_view...   \n",
       "4  ['application_web_approved', 'browse_products'...   \n",
       "\n",
       "                                    frequency_vector  recieved_promo  \\\n",
       "0  [0, 0, 0, 0, 0, 0, 0, 3, 0, 1, 0, 0, 0, 0, 0, ...           False   \n",
       "1  [0, 0, 66, 0, 0, 0, 0, 5, 0, 1, 0, 0, 0, 6, 0,...            True   \n",
       "2  [0, 0, 0, 0, 0, 0, 0, 1, 0, 1, 0, 0, 0, 0, 0, ...           False   \n",
       "3  [0, 0, 0, 0, 0, 0, 0, 11, 0, 1, 0, 0, 0, 0, 0,...            True   \n",
       "4  [0, 0, 1, 0, 0, 0, 0, 1, 0, 1, 0, 0, 0, 0, 0, ...           False   \n",
       "\n",
       "   journey_successful  \n",
       "0               False  \n",
       "1               False  \n",
       "2               False  \n",
       "3               False  \n",
       "4               False  "
      ]
     },
     "execution_count": 48,
     "metadata": {},
     "output_type": "execute_result"
    }
   ],
   "source": [
    "transformed_data.head()"
   ]
  },
  {
   "cell_type": "code",
   "execution_count": 49,
   "id": "087a329b-abdf-4009-b824-34aece8395ae",
   "metadata": {},
   "outputs": [
    {
     "name": "stdout",
     "output_type": "stream",
     "text": [
      "<class 'pandas.core.frame.DataFrame'>\n",
      "RangeIndex: 1735766 entries, 0 to 1735765\n",
      "Data columns (total 7 columns):\n",
      " #   Column              Dtype \n",
      "---  ------              ----- \n",
      " 0   Unnamed: 0          int64 \n",
      " 1   customer_id         int64 \n",
      " 2   account_id          int64 \n",
      " 3   event_list          object\n",
      " 4   frequency_vector    object\n",
      " 5   recieved_promo      bool  \n",
      " 6   journey_successful  bool  \n",
      "dtypes: bool(2), int64(3), object(2)\n",
      "memory usage: 69.5+ MB\n"
     ]
    }
   ],
   "source": [
    "transformed_data.info()"
   ]
  },
  {
   "cell_type": "code",
   "execution_count": 5,
   "id": "b1900173-2467-4349-831e-95a407ba8554",
   "metadata": {},
   "outputs": [
    {
     "name": "stderr",
     "output_type": "stream",
     "text": [
      "/var/folders/z4/1nckxbbs45q8z44xg1hvdp8c0000gn/T/ipykernel_2555/883051028.py:8: FutureWarning: The default value of regex will change from True to False in a future version. In addition, single character regular expressions will *not* be treated as literal strings when regex=True.\n",
      "  event_columns['event_1'] = event_columns['event_1'].str.replace('[', '')\n",
      "/var/folders/z4/1nckxbbs45q8z44xg1hvdp8c0000gn/T/ipykernel_2555/883051028.py:9: FutureWarning: The default value of regex will change from True to False in a future version. In addition, single character regular expressions will *not* be treated as literal strings when regex=True.\n",
      "  event_columns['event_28'] = event_columns['event_28'].str.replace(']', '')\n"
     ]
    }
   ],
   "source": [
    "# split 'frequency_vector' into a seperate columns\n",
    "event_columns = transformed_data['frequency_vector'].str.split(',', expand = True)\n",
    "\n",
    "# rename the new columns\n",
    "event_columns.columns = [f\"event_{i}\" for i in range(1, event_columns.shape[1] + 1)]\n",
    "\n",
    "# remove brackets from end columns\n",
    "event_columns['event_1'] = event_columns['event_1'].str.replace('[', '')\n",
    "event_columns['event_28'] = event_columns['event_28'].str.replace(']', '')"
   ]
  },
  {
   "cell_type": "code",
   "execution_count": 6,
   "id": "69300259-4ed3-4b90-b5f3-e06399070293",
   "metadata": {},
   "outputs": [
    {
     "data": {
      "text/html": [
       "<div>\n",
       "<style scoped>\n",
       "    .dataframe tbody tr th:only-of-type {\n",
       "        vertical-align: middle;\n",
       "    }\n",
       "\n",
       "    .dataframe tbody tr th {\n",
       "        vertical-align: top;\n",
       "    }\n",
       "\n",
       "    .dataframe thead th {\n",
       "        text-align: right;\n",
       "    }\n",
       "</style>\n",
       "<table border=\"1\" class=\"dataframe\">\n",
       "  <thead>\n",
       "    <tr style=\"text-align: right;\">\n",
       "      <th></th>\n",
       "      <th>event_1</th>\n",
       "      <th>event_2</th>\n",
       "      <th>event_3</th>\n",
       "      <th>event_4</th>\n",
       "      <th>event_5</th>\n",
       "      <th>event_6</th>\n",
       "      <th>event_7</th>\n",
       "      <th>event_8</th>\n",
       "      <th>event_9</th>\n",
       "      <th>event_10</th>\n",
       "      <th>...</th>\n",
       "      <th>event_19</th>\n",
       "      <th>event_20</th>\n",
       "      <th>event_21</th>\n",
       "      <th>event_22</th>\n",
       "      <th>event_23</th>\n",
       "      <th>event_24</th>\n",
       "      <th>event_25</th>\n",
       "      <th>event_26</th>\n",
       "      <th>event_27</th>\n",
       "      <th>event_28</th>\n",
       "    </tr>\n",
       "  </thead>\n",
       "  <tbody>\n",
       "    <tr>\n",
       "      <th>0</th>\n",
       "      <td>0</td>\n",
       "      <td>0</td>\n",
       "      <td>0</td>\n",
       "      <td>0</td>\n",
       "      <td>0</td>\n",
       "      <td>0</td>\n",
       "      <td>0</td>\n",
       "      <td>3</td>\n",
       "      <td>0</td>\n",
       "      <td>1</td>\n",
       "      <td>...</td>\n",
       "      <td>0</td>\n",
       "      <td>0</td>\n",
       "      <td>0</td>\n",
       "      <td>1</td>\n",
       "      <td>0</td>\n",
       "      <td>0</td>\n",
       "      <td>0</td>\n",
       "      <td>0</td>\n",
       "      <td>0</td>\n",
       "      <td>1</td>\n",
       "    </tr>\n",
       "    <tr>\n",
       "      <th>1</th>\n",
       "      <td>0</td>\n",
       "      <td>0</td>\n",
       "      <td>66</td>\n",
       "      <td>0</td>\n",
       "      <td>0</td>\n",
       "      <td>0</td>\n",
       "      <td>0</td>\n",
       "      <td>5</td>\n",
       "      <td>0</td>\n",
       "      <td>1</td>\n",
       "      <td>...</td>\n",
       "      <td>0</td>\n",
       "      <td>0</td>\n",
       "      <td>0</td>\n",
       "      <td>1</td>\n",
       "      <td>2</td>\n",
       "      <td>5</td>\n",
       "      <td>0</td>\n",
       "      <td>0</td>\n",
       "      <td>0</td>\n",
       "      <td>1</td>\n",
       "    </tr>\n",
       "    <tr>\n",
       "      <th>2</th>\n",
       "      <td>0</td>\n",
       "      <td>0</td>\n",
       "      <td>0</td>\n",
       "      <td>0</td>\n",
       "      <td>0</td>\n",
       "      <td>0</td>\n",
       "      <td>0</td>\n",
       "      <td>1</td>\n",
       "      <td>0</td>\n",
       "      <td>1</td>\n",
       "      <td>...</td>\n",
       "      <td>0</td>\n",
       "      <td>0</td>\n",
       "      <td>0</td>\n",
       "      <td>1</td>\n",
       "      <td>0</td>\n",
       "      <td>0</td>\n",
       "      <td>0</td>\n",
       "      <td>0</td>\n",
       "      <td>0</td>\n",
       "      <td>1</td>\n",
       "    </tr>\n",
       "    <tr>\n",
       "      <th>3</th>\n",
       "      <td>0</td>\n",
       "      <td>0</td>\n",
       "      <td>0</td>\n",
       "      <td>0</td>\n",
       "      <td>0</td>\n",
       "      <td>0</td>\n",
       "      <td>0</td>\n",
       "      <td>11</td>\n",
       "      <td>0</td>\n",
       "      <td>1</td>\n",
       "      <td>...</td>\n",
       "      <td>0</td>\n",
       "      <td>0</td>\n",
       "      <td>0</td>\n",
       "      <td>0</td>\n",
       "      <td>0</td>\n",
       "      <td>4</td>\n",
       "      <td>0</td>\n",
       "      <td>0</td>\n",
       "      <td>0</td>\n",
       "      <td>1</td>\n",
       "    </tr>\n",
       "    <tr>\n",
       "      <th>4</th>\n",
       "      <td>0</td>\n",
       "      <td>0</td>\n",
       "      <td>1</td>\n",
       "      <td>0</td>\n",
       "      <td>0</td>\n",
       "      <td>0</td>\n",
       "      <td>0</td>\n",
       "      <td>1</td>\n",
       "      <td>0</td>\n",
       "      <td>1</td>\n",
       "      <td>...</td>\n",
       "      <td>0</td>\n",
       "      <td>0</td>\n",
       "      <td>0</td>\n",
       "      <td>0</td>\n",
       "      <td>0</td>\n",
       "      <td>0</td>\n",
       "      <td>0</td>\n",
       "      <td>0</td>\n",
       "      <td>0</td>\n",
       "      <td>1</td>\n",
       "    </tr>\n",
       "  </tbody>\n",
       "</table>\n",
       "<p>5 rows × 28 columns</p>\n",
       "</div>"
      ],
      "text/plain": [
       "  event_1 event_2 event_3 event_4 event_5 event_6 event_7 event_8 event_9  \\\n",
       "0       0       0       0       0       0       0       0       3       0   \n",
       "1       0       0      66       0       0       0       0       5       0   \n",
       "2       0       0       0       0       0       0       0       1       0   \n",
       "3       0       0       0       0       0       0       0      11       0   \n",
       "4       0       0       1       0       0       0       0       1       0   \n",
       "\n",
       "  event_10  ... event_19 event_20 event_21 event_22 event_23 event_24  \\\n",
       "0        1  ...        0        0        0        1        0        0   \n",
       "1        1  ...        0        0        0        1        2        5   \n",
       "2        1  ...        0        0        0        1        0        0   \n",
       "3        1  ...        0        0        0        0        0        4   \n",
       "4        1  ...        0        0        0        0        0        0   \n",
       "\n",
       "  event_25 event_26 event_27 event_28  \n",
       "0        0        0        0        1  \n",
       "1        0        0        0        1  \n",
       "2        0        0        0        1  \n",
       "3        0        0        0        1  \n",
       "4        0        0        0        1  \n",
       "\n",
       "[5 rows x 28 columns]"
      ]
     },
     "execution_count": 6,
     "metadata": {},
     "output_type": "execute_result"
    }
   ],
   "source": [
    "event_columns.head()"
   ]
  },
  {
   "cell_type": "code",
   "execution_count": 7,
   "id": "71f8af47-96af-4146-a0bd-88eb91dacd1b",
   "metadata": {},
   "outputs": [
    {
     "name": "stdout",
     "output_type": "stream",
     "text": [
      "<class 'pandas.core.frame.DataFrame'>\n",
      "RangeIndex: 1735766 entries, 0 to 1735765\n",
      "Data columns (total 28 columns):\n",
      " #   Column    Dtype \n",
      "---  ------    ----- \n",
      " 0   event_1   object\n",
      " 1   event_2   object\n",
      " 2   event_3   object\n",
      " 3   event_4   object\n",
      " 4   event_5   object\n",
      " 5   event_6   object\n",
      " 6   event_7   object\n",
      " 7   event_8   object\n",
      " 8   event_9   object\n",
      " 9   event_10  object\n",
      " 10  event_11  object\n",
      " 11  event_12  object\n",
      " 12  event_13  object\n",
      " 13  event_14  object\n",
      " 14  event_15  object\n",
      " 15  event_16  object\n",
      " 16  event_17  object\n",
      " 17  event_18  object\n",
      " 18  event_19  object\n",
      " 19  event_20  object\n",
      " 20  event_21  object\n",
      " 21  event_22  object\n",
      " 22  event_23  object\n",
      " 23  event_24  object\n",
      " 24  event_25  object\n",
      " 25  event_26  object\n",
      " 26  event_27  object\n",
      " 27  event_28  object\n",
      "dtypes: object(28)\n",
      "memory usage: 370.8+ MB\n"
     ]
    }
   ],
   "source": [
    "event_columns.info()"
   ]
  },
  {
   "cell_type": "code",
   "execution_count": 9,
   "id": "6d9ffa49-b09b-41f4-97f6-ec3b2880dfd3",
   "metadata": {},
   "outputs": [],
   "source": [
    "event_columns = event_columns.apply(pd.to_numeric, errors = 'coerce')"
   ]
  },
  {
   "cell_type": "code",
   "execution_count": 14,
   "id": "21df65ad-b3e6-46ed-a723-e9f4c44a96e2",
   "metadata": {},
   "outputs": [],
   "source": [
    "event_columns.columns = event_order"
   ]
  },
  {
   "cell_type": "code",
   "execution_count": 15,
   "id": "59dbc9cf-54d3-47fc-a4b5-b491007c5b4a",
   "metadata": {},
   "outputs": [
    {
     "name": "stdout",
     "output_type": "stream",
     "text": [
      "<class 'pandas.core.frame.DataFrame'>\n",
      "RangeIndex: 1735766 entries, 0 to 1735765\n",
      "Data columns (total 28 columns):\n",
      " #   Column                                  Dtype\n",
      "---  ------                                  -----\n",
      " 0   catalog_(email)_(experian)              int64\n",
      " 1   pre-application_(3rd_party_affiliates)  int64\n",
      " 2   browse_products                         int64\n",
      " 3   application_phone_pending               int64\n",
      " 4   application_phone_declined              int64\n",
      " 5   begin_checkout                          int64\n",
      " 6   campaignemail_clicked                   int64\n",
      " 7   application_web_view                    int64\n",
      " 8   place_order_web                         int64\n",
      " 9   application_web_submit                  int64\n",
      " 10  fingerhut_university                    int64\n",
      " 11  place_order_phone                       int64\n",
      " 12  account_downpaymentreceived             int64\n",
      " 13  view_cart                               int64\n",
      " 14  order_shipped                           int64\n",
      " 15  application_phone_approved              int64\n",
      " 16  application_web_declined                int64\n",
      " 17  place_downpayment                       int64\n",
      " 18  application_web_pending                 int64\n",
      " 19  site_registration                       int64\n",
      " 20  catalog_(mail)                          int64\n",
      " 21  campaign_click                          int64\n",
      " 22  add_to_cart                             int64\n",
      " 23  promotion_created                       int64\n",
      " 24  account_downpaymentcleared              int64\n",
      " 25  account_activitation                    int64\n",
      " 26  customer_requested_catalog_(digital)    int64\n",
      " 27  application_web_approved                int64\n",
      "dtypes: int64(28)\n",
      "memory usage: 370.8 MB\n"
     ]
    }
   ],
   "source": [
    "event_columns.info()"
   ]
  },
  {
   "cell_type": "code",
   "execution_count": 16,
   "id": "80b06306-a697-42dc-b8a1-0844b640eaf5",
   "metadata": {},
   "outputs": [
    {
     "data": {
      "text/html": [
       "<div>\n",
       "<style scoped>\n",
       "    .dataframe tbody tr th:only-of-type {\n",
       "        vertical-align: middle;\n",
       "    }\n",
       "\n",
       "    .dataframe tbody tr th {\n",
       "        vertical-align: top;\n",
       "    }\n",
       "\n",
       "    .dataframe thead th {\n",
       "        text-align: right;\n",
       "    }\n",
       "</style>\n",
       "<table border=\"1\" class=\"dataframe\">\n",
       "  <thead>\n",
       "    <tr style=\"text-align: right;\">\n",
       "      <th></th>\n",
       "      <th>catalog_(email)_(experian)</th>\n",
       "      <th>pre-application_(3rd_party_affiliates)</th>\n",
       "      <th>browse_products</th>\n",
       "      <th>application_phone_pending</th>\n",
       "      <th>application_phone_declined</th>\n",
       "      <th>begin_checkout</th>\n",
       "      <th>campaignemail_clicked</th>\n",
       "      <th>application_web_view</th>\n",
       "      <th>place_order_web</th>\n",
       "      <th>application_web_submit</th>\n",
       "      <th>...</th>\n",
       "      <th>application_web_pending</th>\n",
       "      <th>site_registration</th>\n",
       "      <th>catalog_(mail)</th>\n",
       "      <th>campaign_click</th>\n",
       "      <th>add_to_cart</th>\n",
       "      <th>promotion_created</th>\n",
       "      <th>account_downpaymentcleared</th>\n",
       "      <th>account_activitation</th>\n",
       "      <th>customer_requested_catalog_(digital)</th>\n",
       "      <th>application_web_approved</th>\n",
       "    </tr>\n",
       "  </thead>\n",
       "  <tbody>\n",
       "    <tr>\n",
       "      <th>0</th>\n",
       "      <td>0</td>\n",
       "      <td>0</td>\n",
       "      <td>0</td>\n",
       "      <td>0</td>\n",
       "      <td>0</td>\n",
       "      <td>0</td>\n",
       "      <td>0</td>\n",
       "      <td>3</td>\n",
       "      <td>0</td>\n",
       "      <td>1</td>\n",
       "      <td>...</td>\n",
       "      <td>0</td>\n",
       "      <td>0</td>\n",
       "      <td>0</td>\n",
       "      <td>1</td>\n",
       "      <td>0</td>\n",
       "      <td>0</td>\n",
       "      <td>0</td>\n",
       "      <td>0</td>\n",
       "      <td>0</td>\n",
       "      <td>1</td>\n",
       "    </tr>\n",
       "    <tr>\n",
       "      <th>1</th>\n",
       "      <td>0</td>\n",
       "      <td>0</td>\n",
       "      <td>66</td>\n",
       "      <td>0</td>\n",
       "      <td>0</td>\n",
       "      <td>0</td>\n",
       "      <td>0</td>\n",
       "      <td>5</td>\n",
       "      <td>0</td>\n",
       "      <td>1</td>\n",
       "      <td>...</td>\n",
       "      <td>0</td>\n",
       "      <td>0</td>\n",
       "      <td>0</td>\n",
       "      <td>1</td>\n",
       "      <td>2</td>\n",
       "      <td>5</td>\n",
       "      <td>0</td>\n",
       "      <td>0</td>\n",
       "      <td>0</td>\n",
       "      <td>1</td>\n",
       "    </tr>\n",
       "    <tr>\n",
       "      <th>2</th>\n",
       "      <td>0</td>\n",
       "      <td>0</td>\n",
       "      <td>0</td>\n",
       "      <td>0</td>\n",
       "      <td>0</td>\n",
       "      <td>0</td>\n",
       "      <td>0</td>\n",
       "      <td>1</td>\n",
       "      <td>0</td>\n",
       "      <td>1</td>\n",
       "      <td>...</td>\n",
       "      <td>0</td>\n",
       "      <td>0</td>\n",
       "      <td>0</td>\n",
       "      <td>1</td>\n",
       "      <td>0</td>\n",
       "      <td>0</td>\n",
       "      <td>0</td>\n",
       "      <td>0</td>\n",
       "      <td>0</td>\n",
       "      <td>1</td>\n",
       "    </tr>\n",
       "    <tr>\n",
       "      <th>3</th>\n",
       "      <td>0</td>\n",
       "      <td>0</td>\n",
       "      <td>0</td>\n",
       "      <td>0</td>\n",
       "      <td>0</td>\n",
       "      <td>0</td>\n",
       "      <td>0</td>\n",
       "      <td>11</td>\n",
       "      <td>0</td>\n",
       "      <td>1</td>\n",
       "      <td>...</td>\n",
       "      <td>0</td>\n",
       "      <td>0</td>\n",
       "      <td>0</td>\n",
       "      <td>0</td>\n",
       "      <td>0</td>\n",
       "      <td>4</td>\n",
       "      <td>0</td>\n",
       "      <td>0</td>\n",
       "      <td>0</td>\n",
       "      <td>1</td>\n",
       "    </tr>\n",
       "    <tr>\n",
       "      <th>4</th>\n",
       "      <td>0</td>\n",
       "      <td>0</td>\n",
       "      <td>1</td>\n",
       "      <td>0</td>\n",
       "      <td>0</td>\n",
       "      <td>0</td>\n",
       "      <td>0</td>\n",
       "      <td>1</td>\n",
       "      <td>0</td>\n",
       "      <td>1</td>\n",
       "      <td>...</td>\n",
       "      <td>0</td>\n",
       "      <td>0</td>\n",
       "      <td>0</td>\n",
       "      <td>0</td>\n",
       "      <td>0</td>\n",
       "      <td>0</td>\n",
       "      <td>0</td>\n",
       "      <td>0</td>\n",
       "      <td>0</td>\n",
       "      <td>1</td>\n",
       "    </tr>\n",
       "  </tbody>\n",
       "</table>\n",
       "<p>5 rows × 28 columns</p>\n",
       "</div>"
      ],
      "text/plain": [
       "   catalog_(email)_(experian)  pre-application_(3rd_party_affiliates)  \\\n",
       "0                           0                                       0   \n",
       "1                           0                                       0   \n",
       "2                           0                                       0   \n",
       "3                           0                                       0   \n",
       "4                           0                                       0   \n",
       "\n",
       "   browse_products  application_phone_pending  application_phone_declined  \\\n",
       "0                0                          0                           0   \n",
       "1               66                          0                           0   \n",
       "2                0                          0                           0   \n",
       "3                0                          0                           0   \n",
       "4                1                          0                           0   \n",
       "\n",
       "   begin_checkout  campaignemail_clicked  application_web_view  \\\n",
       "0               0                      0                     3   \n",
       "1               0                      0                     5   \n",
       "2               0                      0                     1   \n",
       "3               0                      0                    11   \n",
       "4               0                      0                     1   \n",
       "\n",
       "   place_order_web  application_web_submit  ...  application_web_pending  \\\n",
       "0                0                       1  ...                        0   \n",
       "1                0                       1  ...                        0   \n",
       "2                0                       1  ...                        0   \n",
       "3                0                       1  ...                        0   \n",
       "4                0                       1  ...                        0   \n",
       "\n",
       "   site_registration  catalog_(mail)  campaign_click  add_to_cart  \\\n",
       "0                  0               0               1            0   \n",
       "1                  0               0               1            2   \n",
       "2                  0               0               1            0   \n",
       "3                  0               0               0            0   \n",
       "4                  0               0               0            0   \n",
       "\n",
       "   promotion_created  account_downpaymentcleared  account_activitation  \\\n",
       "0                  0                           0                     0   \n",
       "1                  5                           0                     0   \n",
       "2                  0                           0                     0   \n",
       "3                  4                           0                     0   \n",
       "4                  0                           0                     0   \n",
       "\n",
       "   customer_requested_catalog_(digital)  application_web_approved  \n",
       "0                                     0                         1  \n",
       "1                                     0                         1  \n",
       "2                                     0                         1  \n",
       "3                                     0                         1  \n",
       "4                                     0                         1  \n",
       "\n",
       "[5 rows x 28 columns]"
      ]
     },
     "execution_count": 16,
     "metadata": {},
     "output_type": "execute_result"
    }
   ],
   "source": [
    "# we included two methods to reach the same final dataframe as two of our members approached this problem differently!\n",
    "event_columns.head()"
   ]
  },
  {
   "cell_type": "code",
   "execution_count": 17,
   "id": "923dfbc3-3a95-4f9b-b4b2-bb5fba3f4f6e",
   "metadata": {},
   "outputs": [
    {
     "name": "stdout",
     "output_type": "stream",
     "text": [
      "Confusion Matrix:\n",
      "[[343947   9261]\n",
      " [ 68654  12080]]\n",
      "Accuracy: 0.8204483548492656\n",
      "Time Elapsed: 0:00:07.758803\n"
     ]
    }
   ],
   "source": [
    "# split data into features (X) and target (Y)\n",
    "X = event_columns[['browse_products', 'begin_checkout', 'campaignemail_clicked', 'application_web_view', 'application_web_submit', 'catalog_(mail)', 'campaign_click', 'add_to_cart', 'promotion_created']]\n",
    "y = transformed_data['journey_successful']\n",
    "\n",
    "# train test split\n",
    "X_train, X_test, y_train, y_test = train_test_split(X, y, test_size = 0.25, random_state = 405)\n",
    "\n",
    "# train a logistic regression model\n",
    "start_time = datetime.now() # set start time\n",
    "model = LogisticRegression(max_iter = 500)\n",
    "model.fit(X_train, y_train)\n",
    "\n",
    "# Predict on the test set\n",
    "model_predictions = model.predict(X_test)\n",
    "end_time = datetime.now() # set end time\n",
    "\n",
    "# model diagnosis\n",
    "conf_matrix = confusion_matrix(y_test, model_predictions)\n",
    "accuracy = accuracy_score(y_test, model_predictions)\n",
    "\n",
    "print(\"Confusion Matrix:\")\n",
    "print(conf_matrix)\n",
    "print(f\"Accuracy: {accuracy}\")\n",
    "\n",
    "# computation time\n",
    "print(\"Time Elapsed:\", end_time - start_time)"
   ]
  },
  {
   "cell_type": "code",
   "execution_count": 59,
   "id": "74ee8a01-cf0e-429c-9b33-8954cb47ee58",
   "metadata": {},
   "outputs": [
    {
     "data": {
      "text/plain": [
       "array([[ 0.01492959,  0.23384529,  0.05543219, -0.03464104,  0.0643752 ,\n",
       "        -0.27999493, -0.08992376,  0.01856872, -0.18285904]])"
      ]
     },
     "execution_count": 59,
     "metadata": {},
     "output_type": "execute_result"
    }
   ],
   "source": [
    "model.coef_"
   ]
  },
  {
   "cell_type": "markdown",
   "id": "7b3fd345-c5f6-4c11-a178-3bc1d5dec725",
   "metadata": {},
   "source": [
    "### K-Nearest Neighbors"
   ]
  },
  {
   "cell_type": "markdown",
   "id": "1e1c6c59-d0d6-4492-a202-03c56fe41b85",
   "metadata": {},
   "source": [
    "**Note:** This chunk also takes a very long time to run. Please refrain from doing so and refer to our written report for the accuracy and details of the model."
   ]
  },
  {
   "cell_type": "code",
   "execution_count": null,
   "id": "ec56709c-2a29-43e0-b5e1-11002e8b9998",
   "metadata": {},
   "outputs": [],
   "source": [
    "# start time\n",
    "start = datetime.now()\n",
    "\n",
    "# initialize k\n",
    "k_neighbors = 5\n",
    "\n",
    "# Create and train the KNN model\n",
    "knn_model = KNeighborsClassifier(n_neighbors=k_neighbors)\n",
    "knn_model.fit(X_train, y_train)\n",
    "\n",
    "# Predictions and evaluation for KNN\n",
    "knn_predictions = knn_model.predict(X_test)\n",
    "knn_accuracy = accuracy_score(y_test, knn_predictions)\n",
    "\n",
    "# end time\n",
    "end = datetime.now()\n",
    "\n",
    "print(\"5-Nearest Neighbors:\")\n",
    "print(f\"Accuracy: {knn_accuracy}\")\n",
    "print(\"Classification Report:\")\n",
    "print(classification_report(y_test, knn_predictions))\n",
    "print(\"computation time:\", end - start)"
   ]
  },
  {
   "cell_type": "markdown",
   "id": "856b5e87-d138-4548-b15c-d926f78d1e9b",
   "metadata": {},
   "source": [
    "### Support Vector Machine"
   ]
  },
  {
   "cell_type": "code",
   "execution_count": 27,
   "id": "42e952f6-9547-4ebf-9a49-e972e4e4aec4",
   "metadata": {},
   "outputs": [
    {
     "data": {
      "text/plain": [
       "0.8152955924985367"
      ]
     },
     "execution_count": 27,
     "metadata": {},
     "output_type": "execute_result"
    }
   ],
   "source": [
    "# initialize SVM Classifier\n",
    "supportvm = SGDClassifier()\n",
    "\n",
    "# fit classifier to data\n",
    "supportvm.fit(X_train, y_train)\n",
    "\n",
    "# use model to make predictions\n",
    "svm_preds = supportvm.predict(X_test)\n",
    "\n",
    "# diagnose accuracy\n",
    "Counter(svm_preds == y_test)[True]/433942"
   ]
  },
  {
   "cell_type": "markdown",
   "id": "7af064b9-7f11-4ead-afea-8a4605277c28",
   "metadata": {},
   "source": [
    "### Principal Component Analysis"
   ]
  },
  {
   "cell_type": "code",
   "execution_count": 18,
   "id": "c97fd32b-2f4a-4626-b98b-0df7c7694c1f",
   "metadata": {},
   "outputs": [],
   "source": [
    "# singular value decomposition\n",
    "U,S,VT = np.linalg.svd(X, full_matrices=False)"
   ]
  },
  {
   "cell_type": "code",
   "execution_count": 19,
   "id": "8e789211-b074-4669-8e18-a5b6915a9b48",
   "metadata": {},
   "outputs": [
    {
     "data": {
      "text/plain": [
       "(1735766, 2)"
      ]
     },
     "execution_count": 19,
     "metadata": {},
     "output_type": "execute_result"
    }
   ],
   "source": [
    "# retaining the first two principal components \n",
    "X_PCA = X@VT[0:2,:].T\n",
    "X_PCA.shape"
   ]
  },
  {
   "cell_type": "code",
   "execution_count": 20,
   "id": "d0bea0a1-3b2d-4d0c-a5b4-e82a336281ac",
   "metadata": {},
   "outputs": [],
   "source": [
    "received_promo = transformed_data['recieved_promo']\n",
    "success = transformed_data['journey_successful']\n",
    "\n",
    "# concatenate 'X_PCA' and the binary columns \n",
    "X_full = pd.concat([X_PCA, received_promo, success], axis=1)"
   ]
  },
  {
   "cell_type": "code",
   "execution_count": 21,
   "id": "38163be4-ca85-4596-8fec-603e52ce1671",
   "metadata": {},
   "outputs": [
    {
     "data": {
      "text/html": [
       "<div>\n",
       "<style scoped>\n",
       "    .dataframe tbody tr th:only-of-type {\n",
       "        vertical-align: middle;\n",
       "    }\n",
       "\n",
       "    .dataframe tbody tr th {\n",
       "        vertical-align: top;\n",
       "    }\n",
       "\n",
       "    .dataframe thead th {\n",
       "        text-align: right;\n",
       "    }\n",
       "</style>\n",
       "<table border=\"1\" class=\"dataframe\">\n",
       "  <thead>\n",
       "    <tr style=\"text-align: right;\">\n",
       "      <th></th>\n",
       "      <th>0</th>\n",
       "      <th>1</th>\n",
       "      <th>recieved_promo</th>\n",
       "      <th>journey_successful</th>\n",
       "    </tr>\n",
       "  </thead>\n",
       "  <tbody>\n",
       "    <tr>\n",
       "      <th>0</th>\n",
       "      <td>-0.309631</td>\n",
       "      <td>-2.948307</td>\n",
       "      <td>False</td>\n",
       "      <td>False</td>\n",
       "    </tr>\n",
       "    <tr>\n",
       "      <th>1</th>\n",
       "      <td>-65.521900</td>\n",
       "      <td>3.071966</td>\n",
       "      <td>True</td>\n",
       "      <td>False</td>\n",
       "    </tr>\n",
       "    <tr>\n",
       "      <th>2</th>\n",
       "      <td>-0.122722</td>\n",
       "      <td>-1.133924</td>\n",
       "      <td>False</td>\n",
       "      <td>False</td>\n",
       "    </tr>\n",
       "    <tr>\n",
       "      <th>3</th>\n",
       "      <td>-1.466799</td>\n",
       "      <td>-11.398894</td>\n",
       "      <td>True</td>\n",
       "      <td>False</td>\n",
       "    </tr>\n",
       "    <tr>\n",
       "      <th>4</th>\n",
       "      <td>-1.084775</td>\n",
       "      <td>-0.951338</td>\n",
       "      <td>False</td>\n",
       "      <td>False</td>\n",
       "    </tr>\n",
       "  </tbody>\n",
       "</table>\n",
       "</div>"
      ],
      "text/plain": [
       "           0          1  recieved_promo  journey_successful\n",
       "0  -0.309631  -2.948307           False               False\n",
       "1 -65.521900   3.071966            True               False\n",
       "2  -0.122722  -1.133924           False               False\n",
       "3  -1.466799 -11.398894            True               False\n",
       "4  -1.084775  -0.951338           False               False"
      ]
     },
     "execution_count": 21,
     "metadata": {},
     "output_type": "execute_result"
    }
   ],
   "source": [
    "X_full.head()"
   ]
  },
  {
   "cell_type": "code",
   "execution_count": 22,
   "id": "a30d62c2-fc57-4512-84f4-d40f982c5ca8",
   "metadata": {},
   "outputs": [
    {
     "name": "stdout",
     "output_type": "stream",
     "text": [
      "[  65405  796617 1038789  977782 1094060  352602  560200 1511933 1144190\n",
      " 1236647 1519648  563298 1615194 1524021  529675  667063  464697 1143748\n",
      " 1363974 1180401  779024  363805  343997  565342  282702  148166  368056\n",
      " 1404226 1578243  772243  167033  387636 1334953 1680897  365651 1675657\n",
      "  678435 1273498 1225239 1188260 1432960 1198667  742437 1519987 1208760\n",
      " 1521031  801665   43939 1166543 1259994 1249314   44660 1080902  734558\n",
      " 1329721  976882 1707289 1240098 1365347  734893 1248780  944289  445060\n",
      "  800419  534276 1258421  425541  861549 1378680 1019211   17155 1377642\n",
      " 1275834  578142 1098068   89984 1646327 1331326 1352722  551787  922301\n",
      " 1389366  460329 1429816  825957  566490 1330341 1313107  871681 1350300\n",
      "  881688 1034280  393006 1549271  437315   82103  613767 1676437  563419\n",
      " 1537685]\n"
     ]
    }
   ],
   "source": [
    "# define the range of numbers\n",
    "low = 0  # lower bound (inclusive)\n",
    "high = len(X_full)  # upper bound (exclusive)\n",
    "\n",
    "# sample 100 random numbers between low and high\n",
    "random_numbers = np.random.randint(low, high, size=100)\n",
    "\n",
    "# print the sampled random numbers\n",
    "print(random_numbers)"
   ]
  },
  {
   "cell_type": "code",
   "execution_count": 23,
   "id": "00629f7f-9cda-42a6-b1fd-3c16b5366570",
   "metadata": {},
   "outputs": [
    {
     "data": {
      "image/png": "[encoded data removed]",
      "text/plain": [
       "<Figure size 576x432 with 1 Axes>"
      ]
     },
     "metadata": {
      "needs_background": "light"
     },
     "output_type": "display_data"
    }
   ],
   "source": [
    "colors = {\n",
    "    (False, False): 'blue',   # Binary column 1 is 0, Binary column 2 is 0\n",
    "    (False, True): 'red',    # Binary column 1 is 0, Binary column 2 is 1\n",
    "    (True, False): 'green',  # Binary column 1 is 1, Binary column 2 is 0\n",
    "    (True, True): 'orange'  # Binary column 1 is 1, Binary column 2 is 1\n",
    "}\n",
    "\n",
    "# Create a scatter plot\n",
    "plt.figure(figsize=(8, 6))\n",
    "for i in random_numbers:\n",
    "    plt.scatter(X_full[0][i], X_full[1][i], color = colors[(received_promo[i], success[i])])\n",
    "\n",
    "# Add legend for colors\n",
    "plt.scatter([], [], color='blue', label='No Promo, Unseccessful Combination')\n",
    "plt.scatter([], [], color='red', label='No Promo, Successful Combination')\n",
    "plt.scatter([], [], color='green', label='Promo, Unsuccessful Combination')\n",
    "plt.scatter([], [], color='orange', label='Promo, Successful Combination')\n",
    "plt.xlabel('PC 1')\n",
    "plt.ylabel('PC 2')\n",
    "plt.title('Principal Component Scatter Plot (100 Random Samples)')\n",
    "plt.legend()\n",
    "plt.grid(True)\n",
    "plt.show()"
   ]
  },
  {
   "cell_type": "markdown",
   "id": "22efaad3-74f3-48cd-9159-29d53634c2f9",
   "metadata": {},
   "source": [
    "### KNN (With PCA)"
   ]
  },
  {
   "cell_type": "code",
   "execution_count": 24,
   "id": "d0873a6c-bd30-4a21-9257-56e3dccb64c6",
   "metadata": {},
   "outputs": [
    {
     "name": "stdout",
     "output_type": "stream",
     "text": [
      "50-Nearest Neighbors:\n",
      "Accuracy: 0.8322632978600827\n",
      "Classification Report:\n",
      "              precision    recall  f1-score   support\n",
      "\n",
      "       False       0.85      0.97      0.90    353208\n",
      "        True       0.63      0.24      0.35     80734\n",
      "\n",
      "    accuracy                           0.83    433942\n",
      "   macro avg       0.74      0.60      0.63    433942\n",
      "weighted avg       0.81      0.83      0.80    433942\n",
      "\n",
      "computation time: 0:01:13.706407\n"
     ]
    }
   ],
   "source": [
    "X_PCA_train, X_PCA_test, y_PCA_train, y_PCA_test = train_test_split(X_PCA, y, test_size = 0.25, random_state = 405)\n",
    "\n",
    "# start time\n",
    "start = datetime.now()\n",
    "\n",
    "# initialize k\n",
    "k_neighbors = 50\n",
    "\n",
    "# Create and train the KNN model\n",
    "knn_model = KNeighborsClassifier(n_neighbors=k_neighbors)\n",
    "knn_model.fit(X_PCA_train, y_PCA_train)\n",
    "\n",
    "# Predictions and evaluation for KNN\n",
    "knn_predictions = knn_model.predict(X_PCA_test)\n",
    "knn_accuracy = accuracy_score(y_PCA_test, knn_predictions)\n",
    "\n",
    "# end time\n",
    "end = datetime.now()\n",
    "\n",
    "print(\"50-Nearest Neighbors:\")\n",
    "print(f\"Accuracy: {knn_accuracy}\")\n",
    "print(\"Classification Report:\")\n",
    "print(classification_report(y_PCA_test, knn_predictions))\n",
    "print(\"computation time:\", end - start)"
   ]
  },
  {
   "cell_type": "markdown",
   "id": "ff403695-d0dd-45c5-a16f-9da614d51ab9",
   "metadata": {},
   "source": [
    "### K-means Clustering"
   ]
  },
  {
   "cell_type": "code",
   "execution_count": 25,
   "id": "1a8b6f9a-0df3-4ab1-8daf-0c0d9bcd64b8",
   "metadata": {},
   "outputs": [
    {
     "data": {
      "text/plain": [
       "0    1406642\n",
       "2     275940\n",
       "1      48966\n",
       "3       4218\n",
       "dtype: int64"
      ]
     },
     "execution_count": 25,
     "metadata": {},
     "output_type": "execute_result"
    }
   ],
   "source": [
    "k = 4  # desired number of clusters\n",
    "\n",
    "# initialize KMeans \n",
    "kmeans = KMeans(n_clusters=k, random_state=0)\n",
    "\n",
    "# fit the KMeans model \n",
    "kmeans.fit(X_PCA)\n",
    "\n",
    "# cluster labels\n",
    "cluster_labels = kmeans.labels_\n",
    "\n",
    "pd.Series(cluster_labels).value_counts()"
   ]
  },
  {
   "cell_type": "code",
   "execution_count": 37,
   "id": "a7e3b05e-46ba-48a8-a41e-6c21d954ab66",
   "metadata": {},
   "outputs": [
    {
     "data": {
      "image/png": "[encoded data removed]",
      "text/plain": [
       "<Figure size 864x576 with 1 Axes>"
      ]
     },
     "metadata": {
      "needs_background": "light"
     },
     "output_type": "display_data"
    }
   ],
   "source": [
    "# plotting our clusters\n",
    "\n",
    "n = 50 # how many of each cluster we want to sample\n",
    "\n",
    "# initialize figure\n",
    "plt.figure(figsize=(12, 8))\n",
    "\n",
    "indices = []\n",
    "\n",
    "# iterate over each cluster\n",
    "for cluster in range(k):\n",
    "    # select indices of data points belonging to the i-th cluster\n",
    "    cluster_indices = np.where(cluster_labels == cluster)[0]\n",
    "    \n",
    "    # randomly sample n points from this cluster\n",
    "    random_samples_indices = np.random.choice(cluster_indices, n, replace=False)\n",
    "    indices.extend(list(random_samples_indices))\n",
    "    \n",
    "    \n",
    "    # plot the random samples from the current cluster\n",
    "    plt.scatter(X_PCA[0][random_samples_indices], X_PCA[1][random_samples_indices], label=f'Cluster {cluster}', alpha=0.7)\n",
    "\n",
    "# labels and legend\n",
    "plt.title('Random Samples from Each Cluster')\n",
    "plt.xlabel('Principal Component 1')\n",
    "plt.ylabel('Principal Component 2')\n",
    "plt.legend()\n",
    "plt.grid(True)\n",
    "plt.show()"
   ]
  },
  {
   "cell_type": "code",
   "execution_count": 39,
   "id": "e35e7183-47e6-40b3-b130-d448a2f5c738",
   "metadata": {},
   "outputs": [
    {
     "data": {
      "text/plain": [
       "<Figure size 864x576 with 0 Axes>"
      ]
     },
     "metadata": {},
     "output_type": "display_data"
    },
    {
     "data": {
      "image/png": "[encoded data removed]",
      "text/plain": [
       "<Figure size 576x432 with 1 Axes>"
      ]
     },
     "metadata": {
      "needs_background": "light"
     },
     "output_type": "display_data"
    }
   ],
   "source": [
    "plt.figure(figsize=(12, 8))\n",
    "\n",
    "plt.figure(figsize=(8, 6))\n",
    "for i in indices:\n",
    "    plt.scatter(X_full[0][i], X_full[1][i], color = colors[(received_promo[i], success[i])])\n",
    "\n",
    "plt.scatter([], [], color='blue', label='No Promo, Unseccessful Combination')\n",
    "plt.scatter([], [], color='red', label='No Promo, Successful Combination')\n",
    "plt.scatter([], [], color='green', label='Promo, Unsuccessful Combination')\n",
    "plt.scatter([], [], color='orange', label='Promo, Successful Combination')\n",
    "plt.xlabel('PC 1')\n",
    "plt.ylabel('PC 2')\n",
    "plt.title('Principal Component Scatter Plot (Clustered Points)')\n",
    "plt.legend()\n",
    "plt.grid(True)\n",
    "plt.show()"
   ]
  }
 ],
 "metadata": {
  "kernelspec": {
   "display_name": "Python 3 (ipykernel)",
   "language": "python",
   "name": "python3"
  },
  "language_info": {
   "codemirror_mode": {
    "name": "ipython",
    "version": 3
   },
   "file_extension": ".py",
   "mimetype": "text/x-python",
   "name": "python",
   "nbconvert_exporter": "python",
   "pygments_lexer": "ipython3",
   "version": "3.9.7"
  }
 },
 "nbformat": 4,
 "nbformat_minor": 5
}
